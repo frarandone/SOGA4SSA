{
 "cells": [
  {
   "cell_type": "markdown",
   "metadata": {},
   "source": [
    "Guardare Mixture Density Netwotk"
   ]
  },
  {
   "cell_type": "code",
   "execution_count": 1,
   "metadata": {},
   "outputs": [],
   "source": [
    "import torch\n",
    "from torch import nn\n",
    "from torch.utils.data import DataLoader\n",
    "import numpy as np\n",
    "import scipy.stats as ss\n",
    "import matplotlib.pyplot as plt\n",
    "from scipy.stats import norm"
   ]
  },
  {
   "cell_type": "code",
   "execution_count": 2,
   "metadata": {},
   "outputs": [],
   "source": [
    "POISS_SUPP = 50\n",
    "torch.set_default_dtype(torch.float64)"
   ]
  },
  {
   "cell_type": "code",
   "execution_count": 3,
   "metadata": {},
   "outputs": [],
   "source": [
    "class PoissonNetwork(nn.Module):\n",
    "    def __init__(self, input_size=POISS_SUPP, num_component_output=2): \n",
    "        super(PoissonNetwork, self).__init__()\n",
    "        self.input_size = input_size\n",
    "        self.num_component_output = num_component_output\n",
    "        self.flatten = nn.Flatten()\n",
    "        self.network = nn.Sequential(\n",
    "            nn.Linear(input_size, 64),\n",
    "            nn.ReLU(),\n",
    "            nn.Linear(64, 128),\n",
    "            nn.ReLU(),\n",
    "            nn.Linear(128,3)             # modified output to get 1 component only\n",
    "        )\n",
    "\n",
    "    def forward(self, x):\n",
    "        output = self.network(x)\n",
    "        pi = output[:, 0:self.num_component_output]\n",
    "        mu = output[:, self.num_component_output:2*self.num_component_output]\n",
    "        sigma = output[:, 2*self.num_component_output:3*self.num_component_output]\n",
    "\n",
    "        pi = torch.softmax(pi, dim=1)\n",
    "        sigma = torch.exp(sigma) #torch.relu(sigma)            # try relu\n",
    "        mu = torch.exp(mu) #torch.relu(mu)           # try relu\n",
    "\n",
    "        return pi, mu, sigma"
   ]
  },
  {
   "cell_type": "code",
   "execution_count": 4,
   "metadata": {},
   "outputs": [],
   "source": [
    "def loss_function_minibatch_poisson(y_poisson, new_pi, new_mu, new_sigma):\n",
    "    count = 0\n",
    "    total_loss = 0\n",
    "    for poisson_sample in y_poisson:\n",
    "        #Generate the new gaussian mixture\n",
    "        mix_new = torch.distributions.Categorical(new_pi[count])\n",
    "        comp_new = torch.distributions.Normal(new_mu[count], new_sigma[count])\n",
    "        gmm_new = torch.distributions.MixtureSameFamily(mix_new, comp_new)\n",
    "\n",
    "        # Calculate the log likelihood of the new gaussian mixture with the old samples\n",
    "        log_likelihood = torch.sum(gmm_new.log_prob(poisson_sample))\n",
    "        #mean_diff = torch.abs(new_mu[count] - torch.mean(poisson_sample.float()))[0]\n",
    "        total_loss -= 0.1*log_likelihood          # rescaled log_likelihood to make it comparable to mean_diff\n",
    "        #total_loss += mean_diff                  # added regularization factor to ensure the sample mean and the estimated one are similar\n",
    "        count += 1\n",
    "    return total_loss/count\n"
   ]
  },
  {
   "cell_type": "code",
   "execution_count": 5,
   "metadata": {},
   "outputs": [],
   "source": [
    "def train_loop_minibatch_poisson(training_dataloader, model, loss_fn, optimizer, n_samples=100):\n",
    "    model.train()\n",
    "    counter = 0\n",
    "    \n",
    "    for bach_idx, poisson_densities in enumerate(training_dataloader):\n",
    "        y_poisson = []\n",
    "\n",
    "        for density in poisson_densities:\n",
    "            y_poisson.append(torch.distributions.Categorical(probs=density).sample((n_samples,)))\n",
    "            pi_new, mu_new, sigma_new = model(poisson_densities)\n",
    "            \n",
    "        loss = loss_fn(y_poisson, pi_new, mu_new, sigma_new)\n",
    "\n",
    "        # Backpropagation\n",
    "        loss.backward()\n",
    "        optimizer.step()\n",
    "        optimizer.zero_grad()\n",
    "\n",
    "        if counter % 100 == 0:\n",
    "            loss = loss.item() #batch * batch_size + len(X)\n",
    "            print(f\"loss: {loss:>7f}\")\n",
    "        counter += 1\n"
   ]
  },
  {
   "cell_type": "code",
   "execution_count": 6,
   "metadata": {},
   "outputs": [],
   "source": [
    "import torch.nn.functional as F\n",
    "from torch.distributions.normal import Normal\n",
    "\n",
    "def generate_poisson(pi, mu, sigma, end = POISS_SUPP):\n",
    "    \"\"\"\n",
    "    Input:\n",
    "    pi = tensor of weights of length c\n",
    "    mu = tensor of means of length c\n",
    "    sigma = tensor of variances of length c\n",
    "    Taken as input the parameters of a Gaussian Mixtures returns the\n",
    "    density of a Poisson distribution having as rate given mixture, truncated to [0, end]\n",
    "    \"\"\"\n",
    "    c = len(pi)   # number of components in the mixture\n",
    "    \n",
    "    # initializes the density vector, storing a density for each component\n",
    "    pois_dens = torch.zeros((c, end))\n",
    "    # initializes the vector of factorials\n",
    "    log_fact = torch.tensor([sum([torch.log(torch.tensor(float(i))) for i in range(1, n)]) for n in range(1, end+1)])\n",
    "    \n",
    "    # computes the Gaussian density for each component\n",
    "    muprime = mu - sigma\n",
    "    std = torch.sqrt(sigma)\n",
    "    norm = Normal(torch.tensor(0.0), torch.tensor(1.0))\n",
    "\n",
    "    for i in range(c):\n",
    "        for k_val in range(end):\n",
    "            if k_val == 0:\n",
    "                pois_dens[i, k_val] = 1 - norm.cdf(-muprime[i]/std[i])\n",
    "            elif k_val == 1:\n",
    "                pois_dens[i, k_val] = muprime[i] * pois_dens[i, k_val-1] + std[i] * norm.log_prob(-muprime[i]/std[i]).exp()\n",
    "            else:\n",
    "                pois_dens[i, k_val] = (muprime[i] * pois_dens[i, k_val-1] + (k_val-1) * sigma[i] * pois_dens[i, k_val-2])\n",
    "        # goes to logarithm to compute the factorial\n",
    "        pois_dens[i, :] = torch.log(pois_dens[i, :]) - log_fact\n",
    "        pois_dens[i, :] = pois_dens[i, :].exp()\n",
    "        # multiplies by normalization constant\n",
    "        pois_dens[i, :] = pois_dens[i, :] * torch.exp(0.5 * (sigma[i] - 2 * mu[i]))\n",
    "        # puts missing probability mass to zero\n",
    "        pois_dens[i, 0] += 1 - pois_dens[i, :].sum()\n",
    "\n",
    "    # compute product between weights and densities per component\n",
    "    pois_dens = pi.reshape(1, c).matmul(pois_dens).reshape(end, )\n",
    "    return pois_dens\n"
   ]
  },
  {
   "cell_type": "markdown",
   "metadata": {},
   "source": [
    "# Fitting with 1 component"
   ]
  },
  {
   "cell_type": "code",
   "execution_count": 12,
   "metadata": {},
   "outputs": [
    {
     "data": {
      "text/plain": [
       "tensor([[1.0000, 9.7446, 1.1334],\n",
       "        [1.0000, 4.9029, 1.1650],\n",
       "        [1.0000, 5.4737, 1.0371],\n",
       "        ...,\n",
       "        [1.0000, 2.4645, 0.4055],\n",
       "        [1.0000, 4.8771, 1.7185],\n",
       "        [1.0000, 4.6376, 0.2220]])"
      ]
     },
     "execution_count": 12,
     "metadata": {},
     "output_type": "execute_result"
    }
   ],
   "source": [
    "# Define the number of samples in the dataset\n",
    "num_samples = 10000\n",
    "\n",
    "from scipy.stats import qmc\n",
    "\n",
    "l_bounds = [0.0001, 0.01] # lower bounds on mu and sigma\n",
    "u_bounds = [10, 2]   # upper bounds on mu and sigma\n",
    "\n",
    "sampler = qmc.LatinHypercube(d=2)   # d=5                           # changed the way it samples (is it correct?)\n",
    "samples = sampler.random(n=num_samples)\n",
    "\n",
    "samples = qmc.scale(samples, [0.0001, 0.01], [10, 2])\n",
    "dataset = torch.hstack([torch.ones(num_samples).reshape(num_samples,1), torch.tensor(samples)])\n",
    "dataset"
   ]
  },
  {
   "cell_type": "code",
   "execution_count": 13,
   "metadata": {},
   "outputs": [
    {
     "data": {
      "text/plain": [
       "[<matplotlib.lines.Line2D at 0x1687eb0d0>]"
      ]
     },
     "execution_count": 13,
     "metadata": {},
     "output_type": "execute_result"
    },
    {
     "data": {
      "image/png": "[encoded data removed]",
      "text/plain": [
       "<Figure size 640x480 with 1 Axes>"
      ]
     },
     "metadata": {},
     "output_type": "display_data"
    }
   ],
   "source": [
    "#Check how it works\n",
    "\n",
    "pi = torch.tensor([1.])\n",
    "mu = torch.tensor([4.])\n",
    "sigma = torch.tensor([1.])\n",
    "\n",
    "pois_dens = generate_poisson(pi, mu, sigma)\n",
    "pois_dens\n",
    "\n",
    "#sample 100 points from a categorical distribution with the weights pois_dens\n",
    "sample = torch.distributions.Categorical(probs=pois_dens).sample((100,))\n",
    "\n",
    "plt.hist(sample, bins=10, density=True, color='c', edgecolor='black')\n",
    "plt.plot(range(50), pois_dens, marker= 'o')\n"
   ]
  },
  {
   "cell_type": "code",
   "execution_count": 14,
   "metadata": {},
   "outputs": [
    {
     "name": "stderr",
     "output_type": "stream",
     "text": [
      "/var/folders/wj/s0d4084s7rz93njmy26_wwnw0000gn/T/ipykernel_71220/1428306736.py:12: UserWarning: To copy construct from a tensor, it is recommended to use sourceTensor.clone().detach() or sourceTensor.clone().detach().requires_grad_(True), rather than torch.tensor(sourceTensor).\n",
      "  y_poisson.append(torch.distributions.Categorical(probs=torch.tensor(pois_dens)).sample((250,)))\n"
     ]
    }
   ],
   "source": [
    "training_data = dataset[:int(0.85*len(dataset))]\n",
    "\n",
    "#build a tensor that replaces each of the rows of the training_data with the corresponding generate_poisson\n",
    "def generate_poisson_dataset_dim1(training_data):\n",
    "    y_poisson = []\n",
    "    poisson_densities = []\n",
    "    for gaussian_mix_old in training_data:\n",
    "        old_pi = torch.tensor([gaussian_mix_old[0]])\n",
    "        old_mu = torch.tensor([gaussian_mix_old[1]])\n",
    "        old_sigma = torch.tensor([gaussian_mix_old[2]])\n",
    "        pois_dens = generate_poisson(old_pi, old_mu, old_sigma)\n",
    "        y_poisson.append(torch.distributions.Categorical(probs=torch.tensor(pois_dens)).sample((250,)))\n",
    "        poisson_densities.append(pois_dens)\n",
    "    return torch.stack(poisson_densities),torch.stack(y_poisson)\n",
    "\n",
    "densities, y_poisson = generate_poisson_dataset_dim1(training_data)    # densities contiene le densità, y_poisson i samples"
   ]
  },
  {
   "cell_type": "code",
   "execution_count": 15,
   "metadata": {
    "scrolled": true
   },
   "outputs": [
    {
     "name": "stdout",
     "output_type": "stream",
     "text": [
      "Epoch 1\n",
      "-------------------------------\n"
     ]
    },
    {
     "ename": "ValueError",
     "evalue": "Expected parameter scale (Tensor of shape (1,)) of distribution Normal(loc: tensor([0.0565], grad_fn=<SelectBackward0>), scale: tensor([0.], grad_fn=<SelectBackward0>)) to satisfy the constraint GreaterThan(lower_bound=0.0), but found invalid values:\ntensor([0.], grad_fn=<SelectBackward0>)",
     "output_type": "error",
     "traceback": [
      "\u001b[0;31m---------------------------------------------------------------------------\u001b[0m",
      "\u001b[0;31mValueError\u001b[0m                                Traceback (most recent call last)",
      "Cell \u001b[0;32mIn[15], line 8\u001b[0m\n\u001b[1;32m      6\u001b[0m \u001b[38;5;28;01mfor\u001b[39;00m t \u001b[38;5;129;01min\u001b[39;00m \u001b[38;5;28mrange\u001b[39m(epochs):\n\u001b[1;32m      7\u001b[0m     \u001b[38;5;28mprint\u001b[39m(\u001b[38;5;124mf\u001b[39m\u001b[38;5;124m\"\u001b[39m\u001b[38;5;124mEpoch \u001b[39m\u001b[38;5;132;01m{\u001b[39;00mt\u001b[38;5;241m+\u001b[39m\u001b[38;5;241m1\u001b[39m\u001b[38;5;132;01m}\u001b[39;00m\u001b[38;5;130;01m\\n\u001b[39;00m\u001b[38;5;124m-------------------------------\u001b[39m\u001b[38;5;124m\"\u001b[39m)\n\u001b[0;32m----> 8\u001b[0m     \u001b[43mtrain_loop_minibatch_poisson\u001b[49m\u001b[43m(\u001b[49m\u001b[43mtrain_dataloader\u001b[49m\u001b[43m,\u001b[49m\u001b[43m \u001b[49m\u001b[43mmodel\u001b[49m\u001b[43m,\u001b[49m\u001b[43m \u001b[49m\u001b[43mloss_function_minibatch_poisson\u001b[49m\u001b[43m,\u001b[49m\u001b[43m \u001b[49m\u001b[43moptimizer\u001b[49m\u001b[43m)\u001b[49m\n\u001b[1;32m      9\u001b[0m     \u001b[38;5;66;03m#test_loop(test_data, model, loss_function)\u001b[39;00m\n\u001b[1;32m     10\u001b[0m \u001b[38;5;28mprint\u001b[39m(\u001b[38;5;124m\"\u001b[39m\u001b[38;5;124mDone!\u001b[39m\u001b[38;5;124m\"\u001b[39m)\n",
      "Cell \u001b[0;32mIn[5], line 12\u001b[0m, in \u001b[0;36mtrain_loop_minibatch_poisson\u001b[0;34m(training_dataloader, model, loss_fn, optimizer, n_samples)\u001b[0m\n\u001b[1;32m      9\u001b[0m     y_poisson\u001b[38;5;241m.\u001b[39mappend(torch\u001b[38;5;241m.\u001b[39mdistributions\u001b[38;5;241m.\u001b[39mCategorical(probs\u001b[38;5;241m=\u001b[39mdensity)\u001b[38;5;241m.\u001b[39msample((n_samples,)))\n\u001b[1;32m     10\u001b[0m     pi_new, mu_new, sigma_new \u001b[38;5;241m=\u001b[39m model(poisson_densities)\n\u001b[0;32m---> 12\u001b[0m loss \u001b[38;5;241m=\u001b[39m \u001b[43mloss_fn\u001b[49m\u001b[43m(\u001b[49m\u001b[43my_poisson\u001b[49m\u001b[43m,\u001b[49m\u001b[43m \u001b[49m\u001b[43mpi_new\u001b[49m\u001b[43m,\u001b[49m\u001b[43m \u001b[49m\u001b[43mmu_new\u001b[49m\u001b[43m,\u001b[49m\u001b[43m \u001b[49m\u001b[43msigma_new\u001b[49m\u001b[43m)\u001b[49m\n\u001b[1;32m     14\u001b[0m \u001b[38;5;66;03m# Backpropagation\u001b[39;00m\n\u001b[1;32m     15\u001b[0m loss\u001b[38;5;241m.\u001b[39mbackward()\n",
      "Cell \u001b[0;32mIn[4], line 7\u001b[0m, in \u001b[0;36mloss_function_minibatch_poisson\u001b[0;34m(y_poisson, new_pi, new_mu, new_sigma)\u001b[0m\n\u001b[1;32m      4\u001b[0m \u001b[38;5;28;01mfor\u001b[39;00m poisson_sample \u001b[38;5;129;01min\u001b[39;00m y_poisson:\n\u001b[1;32m      5\u001b[0m     \u001b[38;5;66;03m#Generate the new gaussian mixture\u001b[39;00m\n\u001b[1;32m      6\u001b[0m     mix_new \u001b[38;5;241m=\u001b[39m torch\u001b[38;5;241m.\u001b[39mdistributions\u001b[38;5;241m.\u001b[39mCategorical(new_pi[count])\n\u001b[0;32m----> 7\u001b[0m     comp_new \u001b[38;5;241m=\u001b[39m \u001b[43mtorch\u001b[49m\u001b[38;5;241;43m.\u001b[39;49m\u001b[43mdistributions\u001b[49m\u001b[38;5;241;43m.\u001b[39;49m\u001b[43mNormal\u001b[49m\u001b[43m(\u001b[49m\u001b[43mnew_mu\u001b[49m\u001b[43m[\u001b[49m\u001b[43mcount\u001b[49m\u001b[43m]\u001b[49m\u001b[43m,\u001b[49m\u001b[43m \u001b[49m\u001b[43mnew_sigma\u001b[49m\u001b[43m[\u001b[49m\u001b[43mcount\u001b[49m\u001b[43m]\u001b[49m\u001b[43m)\u001b[49m\n\u001b[1;32m      8\u001b[0m     gmm_new \u001b[38;5;241m=\u001b[39m torch\u001b[38;5;241m.\u001b[39mdistributions\u001b[38;5;241m.\u001b[39mMixtureSameFamily(mix_new, comp_new)\n\u001b[1;32m     10\u001b[0m     \u001b[38;5;66;03m# Calculate the log likelihood of the new gaussian mixture with the old samples\u001b[39;00m\n",
      "File \u001b[0;32m~/micromamba/envs/neuralodes/lib/python3.11/site-packages/torch/distributions/normal.py:56\u001b[0m, in \u001b[0;36mNormal.__init__\u001b[0;34m(self, loc, scale, validate_args)\u001b[0m\n\u001b[1;32m     54\u001b[0m \u001b[38;5;28;01melse\u001b[39;00m:\n\u001b[1;32m     55\u001b[0m     batch_shape \u001b[38;5;241m=\u001b[39m \u001b[38;5;28mself\u001b[39m\u001b[38;5;241m.\u001b[39mloc\u001b[38;5;241m.\u001b[39msize()\n\u001b[0;32m---> 56\u001b[0m \u001b[38;5;28;43msuper\u001b[39;49m\u001b[43m(\u001b[49m\u001b[43m)\u001b[49m\u001b[38;5;241;43m.\u001b[39;49m\u001b[38;5;21;43m__init__\u001b[39;49m\u001b[43m(\u001b[49m\u001b[43mbatch_shape\u001b[49m\u001b[43m,\u001b[49m\u001b[43m \u001b[49m\u001b[43mvalidate_args\u001b[49m\u001b[38;5;241;43m=\u001b[39;49m\u001b[43mvalidate_args\u001b[49m\u001b[43m)\u001b[49m\n",
      "File \u001b[0;32m~/micromamba/envs/neuralodes/lib/python3.11/site-packages/torch/distributions/distribution.py:68\u001b[0m, in \u001b[0;36mDistribution.__init__\u001b[0;34m(self, batch_shape, event_shape, validate_args)\u001b[0m\n\u001b[1;32m     66\u001b[0m         valid \u001b[38;5;241m=\u001b[39m constraint\u001b[38;5;241m.\u001b[39mcheck(value)\n\u001b[1;32m     67\u001b[0m         \u001b[38;5;28;01mif\u001b[39;00m \u001b[38;5;129;01mnot\u001b[39;00m valid\u001b[38;5;241m.\u001b[39mall():\n\u001b[0;32m---> 68\u001b[0m             \u001b[38;5;28;01mraise\u001b[39;00m \u001b[38;5;167;01mValueError\u001b[39;00m(\n\u001b[1;32m     69\u001b[0m                 \u001b[38;5;124mf\u001b[39m\u001b[38;5;124m\"\u001b[39m\u001b[38;5;124mExpected parameter \u001b[39m\u001b[38;5;132;01m{\u001b[39;00mparam\u001b[38;5;132;01m}\u001b[39;00m\u001b[38;5;124m \u001b[39m\u001b[38;5;124m\"\u001b[39m\n\u001b[1;32m     70\u001b[0m                 \u001b[38;5;124mf\u001b[39m\u001b[38;5;124m\"\u001b[39m\u001b[38;5;124m(\u001b[39m\u001b[38;5;132;01m{\u001b[39;00m\u001b[38;5;28mtype\u001b[39m(value)\u001b[38;5;241m.\u001b[39m\u001b[38;5;18m__name__\u001b[39m\u001b[38;5;132;01m}\u001b[39;00m\u001b[38;5;124m of shape \u001b[39m\u001b[38;5;132;01m{\u001b[39;00m\u001b[38;5;28mtuple\u001b[39m(value\u001b[38;5;241m.\u001b[39mshape)\u001b[38;5;132;01m}\u001b[39;00m\u001b[38;5;124m) \u001b[39m\u001b[38;5;124m\"\u001b[39m\n\u001b[1;32m     71\u001b[0m                 \u001b[38;5;124mf\u001b[39m\u001b[38;5;124m\"\u001b[39m\u001b[38;5;124mof distribution \u001b[39m\u001b[38;5;132;01m{\u001b[39;00m\u001b[38;5;28mrepr\u001b[39m(\u001b[38;5;28mself\u001b[39m)\u001b[38;5;132;01m}\u001b[39;00m\u001b[38;5;124m \u001b[39m\u001b[38;5;124m\"\u001b[39m\n\u001b[1;32m     72\u001b[0m                 \u001b[38;5;124mf\u001b[39m\u001b[38;5;124m\"\u001b[39m\u001b[38;5;124mto satisfy the constraint \u001b[39m\u001b[38;5;132;01m{\u001b[39;00m\u001b[38;5;28mrepr\u001b[39m(constraint)\u001b[38;5;132;01m}\u001b[39;00m\u001b[38;5;124m, \u001b[39m\u001b[38;5;124m\"\u001b[39m\n\u001b[1;32m     73\u001b[0m                 \u001b[38;5;124mf\u001b[39m\u001b[38;5;124m\"\u001b[39m\u001b[38;5;124mbut found invalid values:\u001b[39m\u001b[38;5;130;01m\\n\u001b[39;00m\u001b[38;5;132;01m{\u001b[39;00mvalue\u001b[38;5;132;01m}\u001b[39;00m\u001b[38;5;124m\"\u001b[39m\n\u001b[1;32m     74\u001b[0m             )\n\u001b[1;32m     75\u001b[0m \u001b[38;5;28msuper\u001b[39m()\u001b[38;5;241m.\u001b[39m\u001b[38;5;21m__init__\u001b[39m()\n",
      "\u001b[0;31mValueError\u001b[0m: Expected parameter scale (Tensor of shape (1,)) of distribution Normal(loc: tensor([0.0565], grad_fn=<SelectBackward0>), scale: tensor([0.], grad_fn=<SelectBackward0>)) to satisfy the constraint GreaterThan(lower_bound=0.0), but found invalid values:\ntensor([0.], grad_fn=<SelectBackward0>)"
     ]
    }
   ],
   "source": [
    "epochs = 100\n",
    "model = PoissonNetwork(input_size=POISS_SUPP, num_component_output=1)\n",
    "\n",
    "optimizer = torch.optim.SGD(model.parameters(), lr=0.01)\n",
    "train_dataloader = DataLoader(densities, batch_size=64)\n",
    "for t in range(epochs):\n",
    "    print(f\"Epoch {t+1}\\n-------------------------------\")\n",
    "    train_loop_minibatch_poisson(train_dataloader, model, loss_function_minibatch_poisson, optimizer)\n",
    "    #test_loop(test_data, model, loss_function)\n",
    "print(\"Done!\")\n",
    "torch.save(model, 'params/poisson_dim1.pth')"
   ]
  },
  {
   "cell_type": "code",
   "execution_count": null,
   "metadata": {},
   "outputs": [],
   "source": []
  },
  {
   "cell_type": "markdown",
   "metadata": {},
   "source": [
    "### Test"
   ]
  },
  {
   "cell_type": "code",
   "execution_count": 17,
   "metadata": {},
   "outputs": [],
   "source": [
    "import torch\n",
    "from torch import nn\n",
    "#from neural_soga import *\n",
    "\n",
    "import matplotlib.pyplot as plt\n",
    "import numpy as np"
   ]
  },
  {
   "cell_type": "code",
   "execution_count": 19,
   "metadata": {},
   "outputs": [
    {
     "name": "stderr",
     "output_type": "stream",
     "text": [
      "C:\\Users\\birik\\AppData\\Local\\Temp\\ipykernel_13256\\507214245.py:4: FutureWarning: You are using `torch.load` with `weights_only=False` (the current default value), which uses the default pickle module implicitly. It is possible to construct malicious pickle data which will execute arbitrary code during unpickling (See https://github.com/pytorch/pytorch/blob/main/SECURITY.md#untrusted-models for more details). In a future release, the default value for `weights_only` will be flipped to `True`. This limits the functions that could be executed during unpickling. Arbitrary objects will no longer be allowed to be loaded via this mode unless they are explicitly allowlisted by the user via `torch.serialization.add_safe_globals`. We recommend you start setting `weights_only=True` for any use case where you don't have full control of the loaded file. Please open an issue on GitHub for any issues related to this experimental feature.\n",
      "  model = torch.load('params/poisson_dim1.pth')\n"
     ]
    },
    {
     "name": "stdout",
     "output_type": "stream",
     "text": [
      "Neural network: [[1.70604172]] [[2.27821672]]\n",
      "SOGA values: 7.0000000000001705 2.8284271247457817\n"
     ]
    },
    {
     "data": {
      "image/png": "[encoded data removed]",
      "text/plain": [
       "<Figure size 640x480 with 1 Axes>"
      ]
     },
     "metadata": {},
     "output_type": "display_data"
    }
   ],
   "source": [
    "from scipy.stats import norm\n",
    "\n",
    "model = PoissonNetwork(input_size=50, num_component_output=1)\n",
    "model = torch.load('params/poisson_dim1.pth')\n",
    "\n",
    "#Check with some distributions\n",
    "# 1.0000, 5.4371, 0.0294\n",
    "pi = torch.tensor([1.])\n",
    "mu = torch.tensor([7.0])\n",
    "sigma = torch.tensor([1])\n",
    "\n",
    "pois_dens = generate_poisson(pi, mu, sigma)\n",
    "plt.plot(range(30), pois_dens[0:30], marker= 'o', label='original')\n",
    "\n",
    "pi_new, mu_new, sigma_new = model(pois_dens.reshape(1,50).double())\n",
    "print('Neural network:', mu_new.detach().numpy(), torch.sqrt(sigma_new).detach().numpy())\n",
    "mix_new = torch.distributions.Categorical(pi_new)\n",
    "comp_new = torch.distributions.Normal(mu_new, torch.sqrt(sigma_new))\n",
    "gmm_new = torch.distributions.MixtureSameFamily(mix_new, comp_new)\n",
    "\n",
    "x = np.linspace(0,20,100)\n",
    "\n",
    "plt.plot(x, gmm_new.log_prob(torch.tensor(x).reshape(100,1)).exp().detach().numpy(), color='r', label='NN')\n",
    "\n",
    "pois_dens = pois_dens.detach().numpy()\n",
    "pois_mean = sum([i*pois_dens[i] for i in range(len(pois_dens))])\n",
    "pois_std = np.sqrt(sum([i**2*pois_dens[i] for i in range(len(pois_dens))]) - pois_mean**2)\n",
    "print('SOGA values:', pois_mean, pois_std)\n",
    "plt.plot(x, norm.pdf(x, loc=pois_mean, scale=pois_std), label='SOGA')\n",
    "plt.ylim(0, 1)\n",
    "\n",
    "plt.legend()\n",
    "\n",
    "plt.savefig('poisson_fit_1comp_NN.png')"
   ]
  },
  {
   "cell_type": "markdown",
   "metadata": {},
   "source": [
    "For some reason it does not guess the mean accurately"
   ]
  },
  {
   "cell_type": "markdown",
   "metadata": {},
   "source": [
    "# Da qui in poi non eseguire"
   ]
  },
  {
   "cell_type": "markdown",
   "metadata": {},
   "source": [
    "# Fitting with 2 components"
   ]
  },
  {
   "cell_type": "code",
   "execution_count": 4,
   "metadata": {},
   "outputs": [
    {
     "name": "stderr",
     "output_type": "stream",
     "text": [
      "/var/folders/wj/s0d4084s7rz93njmy26_wwnw0000gn/T/ipykernel_57362/2442882499.py:34: UserWarning: Creating a tensor from a list of numpy.ndarrays is extremely slow. Please consider converting the list to a single numpy.ndarray with numpy.array() before converting to a tensor. (Triggered internally at /Users/runner/work/_temp/anaconda/conda-bld/pytorch_1711403251597/work/torch/csrc/utils/tensor_new.cpp:278.)\n",
      "  dataset = torch.tensor([p1[i], 1-p1[i], mu1[j], mu2[k], sigma1[l], sigma2[m]]).type(torch.float64).flatten()\n"
     ]
    },
    {
     "name": "stdout",
     "output_type": "stream",
     "text": [
      "100000\n"
     ]
    }
   ],
   "source": [
    "# Define the number of samples in the dataset\n",
    "num_samples = 10\n",
    "\n",
    "from scipy.stats import qmc\n",
    "\n",
    "l_bound_pi = [0]\n",
    "u_bound_pi = [1]\n",
    "l_bound_mu = [0]\n",
    "u_bound_mu = [2]\n",
    "l_bound_sigma = [0.01]\n",
    "u_bound_sigma = [1]\n",
    "\n",
    "sampler = qmc.LatinHypercube(d=1)   # d=5\n",
    "\n",
    "p1 = sampler.random(n=10)\n",
    "mu1 = sampler.random(n=10)\n",
    "mu2 = sampler.random(n=10)\n",
    "sigma1 = sampler.random(n=10)\n",
    "sigma2 = sampler.random(n=10)\n",
    "\n",
    "p1 = qmc.scale(p1, l_bound_pi, u_bound_pi)\n",
    "mu1 = qmc.scale(mu1, l_bound_mu, u_bound_mu)\n",
    "mu2 = qmc.scale(mu2, l_bound_mu, u_bound_mu)\n",
    "sigma1 = qmc.scale(sigma1, l_bound_sigma, u_bound_sigma)\n",
    "sigma2 = qmc.scale(sigma2, l_bound_sigma, u_bound_sigma)\n",
    "\n",
    "\n",
    "for i in range(len(p1)):\n",
    "    for j in range(len(mu1)):\n",
    "        for k in range(len(mu2)):\n",
    "            for l in range(len(sigma1)):\n",
    "                for m in range(len(sigma2)):\n",
    "                    if(i == 0 and j == 0 and k == 0 and l == 0 and m == 0):\n",
    "                        dataset = torch.tensor([p1[i], 1-p1[i], mu1[j], mu2[k], sigma1[l], sigma2[m]]).type(torch.float64).flatten()\n",
    "                    else:\n",
    "                        dataset = torch.vstack((dataset,torch.tensor([p1[i], 1-p1[i], mu1[j], mu2[k], sigma1[l], sigma2[m]]).type(torch.float64).flatten()))\n",
    "\n",
    "#dataset = torch.tensor(dataset)\n",
    "print(len(dataset))\n",
    "# split the dataset into training and test shuffling the dataset\n",
    "dataset=dataset[torch.randperm(dataset.size()[0])]\n"
   ]
  },
  {
   "cell_type": "code",
   "execution_count": 5,
   "metadata": {},
   "outputs": [],
   "source": [
    "import torch.nn.functional as F\n",
    "from torch.distributions.normal import Normal\n",
    "\n",
    "def generate_poisson(pi, mu, sigma, end = POISS_SUPP):\n",
    "    \"\"\"\n",
    "    Input:\n",
    "    pi = tensor of weights of length c\n",
    "    mu = tensor of means of length c\n",
    "    sigma = tensor of variances of length c\n",
    "    Taken as input the parameters of a Gaussian Mixtures returns the\n",
    "    density of a Poisson distribution having as rate given mixture, truncated to [0, end]\n",
    "    \"\"\"\n",
    "    c = len(pi)   # number of components in the mixture\n",
    "    \n",
    "    # initializes the density vector, storing a density for each component\n",
    "    pois_dens = torch.zeros((c, end))\n",
    "    # initializes the vector of factorials\n",
    "    log_fact = torch.tensor([sum([torch.log(torch.tensor(float(i))) for i in range(1, n)]) for n in range(1, end+1)])\n",
    "    \n",
    "    # computes the Gaussian density for each component\n",
    "    muprime = mu - sigma\n",
    "    std = torch.sqrt(sigma)\n",
    "    norm = Normal(torch.tensor(0.0), torch.tensor(1.0))\n",
    "\n",
    "    for i in range(c):\n",
    "        for k_val in range(end):\n",
    "            if k_val == 0:\n",
    "                pois_dens[i, k_val] = 1 - norm.cdf(-muprime[i]/std[i])\n",
    "            elif k_val == 1:\n",
    "                pois_dens[i, k_val] = muprime[i] * pois_dens[i, k_val-1] + std[i] * norm.log_prob(-muprime[i]/std[i]).exp()\n",
    "            else:\n",
    "                pois_dens[i, k_val] = (muprime[i] * pois_dens[i, k_val-1] + (k_val-1) * sigma[i] * pois_dens[i, k_val-2])\n",
    "        # goes to logarithm to compute the factorial\n",
    "        pois_dens[i, :] = torch.log(pois_dens[i, :]) - log_fact\n",
    "        pois_dens[i, :] = pois_dens[i, :].exp()\n",
    "        # multiplies by normalization constant\n",
    "        pois_dens[i, :] = pois_dens[i, :] * torch.exp(0.5 * (sigma[i] - 2 * mu[i]))\n",
    "        # puts missing probability mass to zero\n",
    "        pois_dens[i, 0] += 1 - pois_dens[i, :].sum()\n",
    "\n",
    "    # compute product between weights and densities per component\n",
    "    pois_dens = pi.reshape(1, c).matmul(pois_dens).reshape(end, )\n",
    "    return pois_dens\n"
   ]
  },
  {
   "cell_type": "code",
   "execution_count": 6,
   "metadata": {},
   "outputs": [
    {
     "data": {
      "text/plain": [
       "[<matplotlib.lines.Line2D at 0x1412410d0>]"
      ]
     },
     "execution_count": 6,
     "metadata": {},
     "output_type": "execute_result"
    },
    {
     "data": {
      "image/png": "[encoded data removed]",
      "text/plain": [
       "<Figure size 640x480 with 1 Axes>"
      ]
     },
     "metadata": {},
     "output_type": "display_data"
    }
   ],
   "source": [
    "#Check how it works\n",
    "\n",
    "pi = torch.tensor([0.5, 0.5])\n",
    "mu = torch.tensor([3, 10])\n",
    "sigma = torch.tensor([1, 1])\n",
    "\n",
    "pois_dens = generate_poisson(pi, mu, sigma)\n",
    "pois_dens\n",
    "\n",
    "#sample 100 points from a categorical distribution with the weights pois_dens\n",
    "sample = torch.distributions.Categorical(probs=pois_dens).sample((100,))\n",
    "\n",
    "plt.hist(sample, bins=10, density=True, color='c', edgecolor='black')\n",
    "plt.plot(range(50), pois_dens, marker= 'o')\n"
   ]
  },
  {
   "cell_type": "code",
   "execution_count": 7,
   "metadata": {},
   "outputs": [],
   "source": [
    "def loss_function_minibatch_poisson(y_poisson, new_pi, new_mu, new_sigma):\n",
    "    count = 0\n",
    "    total_loss = 0\n",
    "    for poisson_sample in y_poisson:\n",
    "        #Generate the new gaussian mixture\n",
    "        mix_new = torch.distributions.Categorical(new_pi[count])\n",
    "        comp_new = torch.distributions.Normal(new_mu[count], new_sigma[count])\n",
    "        gmm_new = torch.distributions.MixtureSameFamily(mix_new, comp_new)\n",
    "\n",
    "    \n",
    "        # Calculate the log likelihood of the new gaussian mixture with the old samples\n",
    "        log_likelihood = torch.sum(gmm_new.log_prob(poisson_sample))\n",
    "        total_loss -= log_likelihood\n",
    "        count += 1\n",
    "    return total_loss/count\n"
   ]
  },
  {
   "cell_type": "code",
   "execution_count": 8,
   "metadata": {},
   "outputs": [],
   "source": [
    "def train_loop_minibatch_poisson(training_dataloader, model, loss_fn, optimizer, n_samples=50):\n",
    "    model.train()\n",
    "    counter = 0\n",
    "    \n",
    "    for bach_idx, poisson_denisties in enumerate(training_dataloader):\n",
    "        y_poisson = []\n",
    "\n",
    "        for density in poisson_denisties:\n",
    "            y_poisson.append(torch.distributions.Categorical(probs=density).sample((n_samples,)))\n",
    "            mu_new, pi_new, sigma_new = model(poisson_denisties)\n",
    "            \n",
    "        loss = loss_fn(y_poisson, pi_new, mu_new, sigma_new)\n",
    "\n",
    "        # Backpropagation\n",
    "        loss.backward()\n",
    "        optimizer.step()\n",
    "        optimizer.zero_grad()\n",
    "\n",
    "        if counter % 100 == 0:\n",
    "            loss = loss.item() #batch * batch_size + len(X)\n",
    "            print(f\"loss: {loss:>7f}\")\n",
    "        counter += 1\n",
    "\n"
   ]
  },
  {
   "cell_type": "code",
   "execution_count": 9,
   "metadata": {},
   "outputs": [
    {
     "name": "stderr",
     "output_type": "stream",
     "text": [
      "/var/folders/wj/s0d4084s7rz93njmy26_wwnw0000gn/T/ipykernel_57362/3920412240.py:12: UserWarning: To copy construct from a tensor, it is recommended to use sourceTensor.clone().detach() or sourceTensor.clone().detach().requires_grad_(True), rather than torch.tensor(sourceTensor).\n",
      "  y_poisson.append(torch.distributions.Categorical(probs=torch.tensor(pois_dens)).sample((50,)))\n"
     ]
    }
   ],
   "source": [
    "training_data = dataset[:int(0.7*len(dataset))]\n",
    "\n",
    "#build a tensor that replaces each of the rows of the training_data with the corresponding generate_poisson\n",
    "def generate_poisson_dataset(training_data):\n",
    "    y_poisson = []\n",
    "    poisson_denisties = []\n",
    "    for gaussian_mix_old in training_data:\n",
    "        old_pi = gaussian_mix_old[0:2]\n",
    "        old_mu = gaussian_mix_old[2:4]\n",
    "        old_sigma = gaussian_mix_old[4:6]\n",
    "        pois_dens = generate_poisson(old_pi, old_mu, old_sigma)\n",
    "        y_poisson.append(torch.distributions.Categorical(probs=torch.tensor(pois_dens)).sample((50,)))\n",
    "        poisson_denisties.append(pois_dens)\n",
    "    return torch.stack(poisson_denisties),torch.stack(y_poisson)\n",
    "\n",
    "\n",
    "densities, y_poisson = generate_poisson_dataset(training_data)    # densities contiene le densità, y_poisson i samples"
   ]
  },
  {
   "cell_type": "code",
   "execution_count": 10,
   "metadata": {},
   "outputs": [
    {
     "data": {
      "text/plain": [
       "tensor([[2.1769e-01, 2.6750e-01, 2.2485e-01,  ..., 9.2847e-30, 1.4193e-30,\n",
       "         2.1460e-31],\n",
       "        [2.5689e-01, 2.6693e-01, 2.1504e-01,  ..., 1.5192e-32, 2.0251e-33,\n",
       "         2.6770e-34],\n",
       "        [4.3347e-01, 3.1933e-01, 1.6236e-01,  ..., 1.2728e-47, 7.8888e-49,\n",
       "         4.8563e-50],\n",
       "        ...,\n",
       "        [2.2430e-01, 2.5770e-01, 2.1841e-01,  ..., 1.1273e-30, 1.5824e-31,\n",
       "         2.1969e-32],\n",
       "        [4.0857e-01, 2.7625e-01, 1.7015e-01,  ..., 2.0811e-33, 2.9132e-34,\n",
       "         4.0455e-35],\n",
       "        [7.5133e-01, 1.6051e-01, 6.0449e-02,  ..., 7.4641e-40, 7.2514e-41,\n",
       "         6.9756e-42]])"
      ]
     },
     "execution_count": 10,
     "metadata": {},
     "output_type": "execute_result"
    }
   ],
   "source": [
    "densities"
   ]
  },
  {
   "cell_type": "code",
   "execution_count": 11,
   "metadata": {},
   "outputs": [
    {
     "name": "stdout",
     "output_type": "stream",
     "text": [
      "Epoch 1\n",
      "-------------------------------\n",
      "loss: 95.441660\n",
      "loss: 85.827890\n",
      "loss: 85.311840\n",
      "loss: 94.756695\n",
      "loss: 84.488734\n",
      "loss: 83.070647\n",
      "loss: 86.037620\n",
      "loss: 85.876959\n",
      "loss: 83.377069\n",
      "loss: 88.265863\n",
      "loss: 85.495923\n",
      "loss: 86.548832\n",
      "loss: 84.909672\n",
      "loss: 84.975698\n",
      "loss: 84.911135\n",
      "loss: 83.715397\n",
      "loss: 86.693089\n",
      "loss: 85.268853\n",
      "loss: 81.488968\n",
      "loss: 80.210470\n",
      "loss: 79.802515\n",
      "loss: 83.279286\n",
      "Epoch 2\n",
      "-------------------------------\n",
      "loss: 82.241608\n",
      "loss: 81.145806\n",
      "loss: 77.431550\n",
      "loss: 83.132452\n",
      "loss: 80.335887\n",
      "loss: 81.300899\n",
      "loss: 79.884133\n",
      "loss: 84.035193\n",
      "loss: 80.696109\n",
      "loss: 85.289388\n",
      "loss: 82.634861\n",
      "loss: 84.279474\n",
      "loss: 84.007607\n",
      "loss: 81.292869\n",
      "loss: 83.924775\n",
      "loss: 83.110815\n",
      "loss: 83.149241\n",
      "loss: 82.372546\n",
      "loss: 79.729050\n",
      "loss: 79.707148\n",
      "loss: 78.207844\n",
      "loss: 81.015041\n",
      "Epoch 3\n",
      "-------------------------------\n",
      "loss: 80.111663\n",
      "loss: 80.034620\n",
      "loss: 76.511148\n",
      "loss: 82.677645\n",
      "loss: 78.438461\n",
      "loss: 78.782633\n",
      "loss: 77.718779\n",
      "loss: 78.163527\n",
      "loss: 80.140072\n",
      "loss: 83.858364\n",
      "loss: 80.634604\n",
      "loss: 80.507054\n",
      "loss: 80.921453\n",
      "loss: 78.090400\n",
      "loss: 81.601983\n",
      "loss: 80.002446\n",
      "loss: 79.004295\n",
      "loss: 80.317730\n",
      "loss: 77.229338\n",
      "loss: 76.078554\n",
      "loss: 75.155356\n",
      "loss: 76.142980\n",
      "Epoch 4\n",
      "-------------------------------\n",
      "loss: 77.781163\n",
      "loss: 76.276501\n",
      "loss: 74.602171\n",
      "loss: 79.475584\n",
      "loss: 74.421556\n",
      "loss: 75.508602\n",
      "loss: 75.458089\n",
      "loss: 78.885056\n",
      "loss: 76.321033\n",
      "loss: 77.746369\n",
      "loss: 78.427880\n",
      "loss: 80.041147\n",
      "loss: 79.742517\n",
      "loss: 75.658915\n",
      "loss: 78.118123\n",
      "loss: 77.603378\n",
      "loss: 77.121083\n",
      "loss: 75.352809\n",
      "loss: 74.793982\n",
      "loss: 75.470291\n",
      "loss: 73.311566\n",
      "loss: 76.349801\n",
      "Epoch 5\n",
      "-------------------------------\n",
      "loss: 72.747456\n",
      "loss: 73.172609\n",
      "loss: 73.822987\n",
      "loss: 77.957495\n",
      "loss: 71.821168\n",
      "loss: 71.990766\n",
      "loss: 73.295403\n",
      "loss: 75.209626\n",
      "loss: 73.912342\n",
      "loss: 79.080538\n",
      "loss: 75.080049\n",
      "loss: 78.105074\n",
      "loss: 76.590562\n",
      "loss: 73.039275\n",
      "loss: 75.437943\n",
      "loss: 76.049329\n",
      "loss: 75.384509\n",
      "loss: 74.557922\n",
      "loss: 72.368928\n",
      "loss: 71.780910\n",
      "loss: 67.968324\n",
      "loss: 70.959619\n",
      "Epoch 6\n",
      "-------------------------------\n",
      "loss: 71.247201\n",
      "loss: 72.297600\n",
      "loss: 71.036455\n",
      "loss: 77.186287\n",
      "loss: 72.089822\n",
      "loss: 70.957423\n",
      "loss: 74.118364\n",
      "loss: 73.625847\n",
      "loss: 74.541337\n",
      "loss: 79.467675\n",
      "loss: 74.298287\n",
      "loss: 77.740858\n",
      "loss: 76.027953\n",
      "loss: 73.072628\n",
      "loss: 76.437863\n",
      "loss: 75.642669\n",
      "loss: 74.353354\n",
      "loss: 73.822165\n",
      "loss: 72.409967\n",
      "loss: 73.088551\n",
      "loss: 68.722352\n",
      "loss: 71.287204\n",
      "Epoch 7\n",
      "-------------------------------\n",
      "loss: 73.792706\n",
      "loss: 69.901463\n",
      "loss: 70.101925\n",
      "loss: 76.187758\n",
      "loss: 69.922077\n",
      "loss: 73.445297\n",
      "loss: 73.758989\n",
      "loss: 73.019646\n",
      "loss: 73.509379\n",
      "loss: 78.078652\n",
      "loss: 74.044420\n",
      "loss: 76.512274\n",
      "loss: 76.244396\n",
      "loss: 72.555378\n",
      "loss: 79.078071\n",
      "loss: 75.167483\n",
      "loss: 73.401845\n",
      "loss: 74.221972\n",
      "loss: 74.021482\n",
      "loss: 70.016668\n",
      "loss: 69.348849\n",
      "loss: 74.259000\n",
      "Epoch 8\n",
      "-------------------------------\n",
      "loss: 70.736468\n",
      "loss: 72.011681\n",
      "loss: 70.225048\n",
      "loss: 78.558239\n",
      "loss: 70.420986\n",
      "loss: 70.498103\n",
      "loss: 71.851817\n",
      "loss: 72.749188\n",
      "loss: 74.118703\n",
      "loss: 75.932488\n",
      "loss: 74.439279\n",
      "loss: 77.129652\n",
      "loss: 76.544543\n",
      "loss: 71.205477\n",
      "loss: 74.101447\n",
      "loss: 77.030031\n",
      "loss: 75.197503\n",
      "loss: 73.789881\n",
      "loss: 73.729978\n",
      "loss: 70.446348\n",
      "loss: 69.350405\n",
      "loss: 71.784970\n",
      "Epoch 9\n",
      "-------------------------------\n",
      "loss: 70.497893\n",
      "loss: 70.469137\n",
      "loss: 70.865499\n",
      "loss: 74.865548\n",
      "loss: 69.702090\n",
      "loss: 71.889787\n",
      "loss: 72.079850\n",
      "loss: 73.835938\n",
      "loss: 73.290258\n",
      "loss: 79.513572\n",
      "loss: 73.724281\n",
      "loss: 74.673565\n",
      "loss: 77.283746\n",
      "loss: 72.818103\n",
      "loss: 77.745730\n",
      "loss: 73.768854\n",
      "loss: 76.585280\n",
      "loss: 73.440394\n",
      "loss: 71.598673\n",
      "loss: 71.162112\n",
      "loss: 71.320111\n",
      "loss: 70.555223\n",
      "Epoch 10\n",
      "-------------------------------\n",
      "loss: 70.604289\n",
      "loss: 70.618332\n",
      "loss: 70.276405\n",
      "loss: 75.621230\n",
      "loss: 69.944518\n",
      "loss: 73.017075\n",
      "loss: 73.099606\n",
      "loss: 73.682412\n",
      "loss: 74.008656\n",
      "loss: 78.532477\n",
      "loss: 73.395483\n",
      "loss: 76.085827\n",
      "loss: 76.766067\n",
      "loss: 70.371116\n",
      "loss: 74.368187\n",
      "loss: 76.224450\n",
      "loss: 76.380136\n",
      "loss: 74.380919\n",
      "loss: 74.157086\n",
      "loss: 72.061457\n",
      "loss: 70.330610\n",
      "loss: 73.511894\n",
      "Done!\n"
     ]
    }
   ],
   "source": [
    "epochs = 10\n",
    "model = NeuralNetwork(input_size=POISS_SUPP, num_component_output=2)\n",
    "\n",
    "optimizer = torch.optim.SGD(model.parameters(), lr=0.00001)\n",
    "train_dataloader = DataLoader(densities, batch_size=32)\n",
    "for t in range(epochs):\n",
    "    print(f\"Epoch {t+1}\\n-------------------------------\")\n",
    "    train_loop_minibatch_poisson(train_dataloader, model, loss_function_minibatch_poisson, optimizer)\n",
    "    #test_loop(test_data, model, loss_function)\n",
    "print(\"Done!\")\n",
    "torch.save(model, 'model4.pth')"
   ]
  },
  {
   "cell_type": "code",
   "execution_count": 12,
   "metadata": {},
   "outputs": [
    {
     "data": {
      "text/plain": [
       "(0.0, 1.0)"
      ]
     },
     "execution_count": 12,
     "metadata": {},
     "output_type": "execute_result"
    },
    {
     "data": {
      "image/png": "[encoded data removed]",
      "text/plain": [
       "<Figure size 640x480 with 1 Axes>"
      ]
     },
     "metadata": {},
     "output_type": "display_data"
    }
   ],
   "source": [
    "#Check with some distributions\n",
    "pi = torch.tensor([0.5, 0.7])\n",
    "mu = torch.tensor([0.95, 1.73])\n",
    "sigma = torch.tensor([0.05, 0.64])\n",
    "\n",
    "pois_dens = generate_poisson(pi, mu, sigma)\n",
    "plt.plot(range(10), pois_dens[0:10], marker= 'o')\n",
    "\n",
    "mu_new, pi_new, sigma_new = model(pois_dens.reshape(1,50))\n",
    "mix_new = torch.distributions.Categorical(pi_new)\n",
    "comp_new = torch.distributions.Normal(mu_new, sigma_new)\n",
    "gmm_new = torch.distributions.MixtureSameFamily(mix_new, comp_new)\n",
    "\n",
    "plt.plot(np.linspace(0, 10, 100), gmm_new.log_prob(torch.tensor(np.linspace(0, 10, 100)).reshape(100,1)).exp().detach().numpy(), color='r')\n",
    "plt.ylim(0, 1)\n"
   ]
  }
 ],
 "metadata": {
  "kernelspec": {
   "display_name": "Python 3 (ipykernel)",
   "language": "python",
   "name": "python3"
  },
  "language_info": {
   "codemirror_mode": {
    "name": "ipython",
    "version": 3
   },
   "file_extension": ".py",
   "mimetype": "text/x-python",
   "name": "python",
   "nbconvert_exporter": "python",
   "pygments_lexer": "ipython3",
   "version": "3.11.6"
  }
 },
 "nbformat": 4,
 "nbformat_minor": 4
}
