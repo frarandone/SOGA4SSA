{
 "cells": [
  {
   "cell_type": "markdown",
   "metadata": {},
   "source": [
    "Guardare Mixture Density Netwotk"
   ]
  },
  {
   "cell_type": "code",
   "execution_count": 33,
   "metadata": {},
   "outputs": [],
   "source": [
    "import torch\n",
    "from torch import nn\n",
    "from torch.utils.data import DataLoader\n",
    "import numpy as np\n",
    "import scipy.stats as ss\n",
    "import matplotlib.pyplot as plt\n",
    "from scipy.stats import norm"
   ]
  },
  {
   "cell_type": "code",
   "execution_count": 34,
   "metadata": {},
   "outputs": [],
   "source": [
    "POISS_SUPP = 50\n",
    "torch.set_default_dtype(torch.float64)"
   ]
  },
  {
   "cell_type": "code",
   "execution_count": 35,
   "metadata": {},
   "outputs": [],
   "source": [
    "class PoissonNetwork(nn.Module):\n",
    "    def __init__(self, input_size=POISS_SUPP, num_component_output=2): \n",
    "        super(PoissonNetwork, self).__init__()\n",
    "        self.input_size = input_size\n",
    "        self.num_component_output = num_component_output\n",
    "        self.flatten = nn.Flatten()\n",
    "        self.network = nn.Sequential(\n",
    "            nn.Linear(input_size, 64),\n",
    "            nn.ReLU(),\n",
    "            nn.Linear(64, 128),\n",
    "            nn.ReLU(),\n",
    "            nn.Linear(128,3*num_component_output)             # modified output to get 1 component only\n",
    "        )\n",
    "\n",
    "    def forward(self, x):\n",
    "        output = self.network(x)\n",
    "        pi = output[:, 0:self.num_component_output]\n",
    "        mu = output[:, self.num_component_output:2*self.num_component_output]\n",
    "        sigma = output[:, 2*self.num_component_output:3*self.num_component_output]\n",
    "\n",
    "        pi = torch.softmax(pi, dim=1)\n",
    "        sigma = torch.exp(sigma) #torch.relu(sigma)            # try relu\n",
    "        mu = torch.exp(mu) #torch.relu(mu)           # try relu\n",
    "\n",
    "        return pi, mu, sigma"
   ]
  },
  {
   "cell_type": "code",
   "execution_count": 36,
   "metadata": {},
   "outputs": [],
   "source": [
    "def loss_function_minibatch_poisson(y_poisson, new_pi, new_mu, new_sigma):\n",
    "    count = 0\n",
    "    total_loss = 0\n",
    "    for poisson_sample in y_poisson:\n",
    "        #Generate the new gaussian mixture\n",
    "        mix_new = torch.distributions.Categorical(new_pi[count])\n",
    "        comp_new = torch.distributions.Normal(new_mu[count], new_sigma[count])\n",
    "        gmm_new = torch.distributions.MixtureSameFamily(mix_new, comp_new)\n",
    "\n",
    "        # Calculate the log likelihood of the new gaussian mixture with the old samples\n",
    "        log_likelihood = torch.sum(gmm_new.log_prob(poisson_sample))\n",
    "        #mean_diff = torch.abs(new_mu[count] - torch.mean(poisson_sample.float()))[0]\n",
    "        total_loss -= 0.1*log_likelihood          # rescaled log_likelihood to make it comparable to mean_diff\n",
    "        #total_loss += mean_diff                  # added regularization factor to ensure the sample mean and the estimated one are similar\n",
    "        count += 1\n",
    "    return total_loss/count\n"
   ]
  },
  {
   "cell_type": "code",
   "execution_count": 37,
   "metadata": {},
   "outputs": [],
   "source": [
    "def train_loop_minibatch_poisson(training_dataloader, model, loss_fn, optimizer, n_samples=250):\n",
    "    model.train()\n",
    "    counter = 0\n",
    "    \n",
    "    for bach_idx, poisson_densities in enumerate(training_dataloader):\n",
    "        y_poisson = []\n",
    "\n",
    "        for density in poisson_densities:\n",
    "            y_poisson.append(torch.distributions.Categorical(probs=density).sample((n_samples,)))\n",
    "        pi_new, mu_new, sigma_new = model(poisson_densities)\n",
    "            \n",
    "        loss = loss_fn(y_poisson, pi_new, mu_new, sigma_new)\n",
    "\n",
    "        # Backpropagation\n",
    "        loss.backward()\n",
    "        optimizer.step()\n",
    "        optimizer.zero_grad()\n",
    "\n",
    "        if counter % 100 == 0:\n",
    "            loss = loss.item() #batch * batch_size + len(X)\n",
    "            print(f\"loss: {loss:>7f}\")\n",
    "        counter += 1\n"
   ]
  },
  {
   "cell_type": "code",
   "execution_count": 38,
   "metadata": {},
   "outputs": [],
   "source": [
    "import torch.nn.functional as F\n",
    "from torch.distributions.normal import Normal\n",
    "\n",
    "def generate_poisson(pi, mu, sigma, end = POISS_SUPP):\n",
    "    \"\"\"\n",
    "    Input:\n",
    "    pi = tensor of weights of length c\n",
    "    mu = tensor of means of length c\n",
    "    sigma = tensor of variances of length c\n",
    "    Taken as input the parameters of a Gaussian Mixtures returns the\n",
    "    density of a Poisson distribution having as rate given mixture, truncated to [0, end]\n",
    "    \"\"\"\n",
    "    c = len(pi)   # number of components in the mixture\n",
    "    \n",
    "    # initializes the density vector, storing a density for each component\n",
    "    pois_dens = torch.zeros((c, end))\n",
    "    # initializes the vector of factorials\n",
    "    log_fact = torch.tensor([sum([torch.log(torch.tensor(float(i))) for i in range(1, n)]) for n in range(1, end+1)])\n",
    "    \n",
    "    # computes the Gaussian density for each component\n",
    "    muprime = mu - sigma\n",
    "    std = torch.sqrt(sigma)\n",
    "    norm = Normal(torch.tensor(0.0), torch.tensor(1.0))\n",
    "\n",
    "    for i in range(c):\n",
    "        for k_val in range(end):\n",
    "            if k_val == 0:\n",
    "                pois_dens[i, k_val] = 1 - norm.cdf(-muprime[i]/std[i])\n",
    "            elif k_val == 1:\n",
    "                pois_dens[i, k_val] = muprime[i] * pois_dens[i, k_val-1] + std[i] * norm.log_prob(-muprime[i]/std[i]).exp()\n",
    "            else:\n",
    "                pois_dens[i, k_val] = (muprime[i] * pois_dens[i, k_val-1] + (k_val-1) * sigma[i] * pois_dens[i, k_val-2])\n",
    "        # goes to logarithm to compute the factorial\n",
    "        pois_dens[i, :] = torch.log(pois_dens[i, :]) - log_fact\n",
    "        pois_dens[i, :] = pois_dens[i, :].exp()\n",
    "        # multiplies by normalization constant\n",
    "        pois_dens[i, :] = pois_dens[i, :] * torch.exp(0.5 * (sigma[i] - 2 * mu[i]))\n",
    "        # puts missing probability mass to zero\n",
    "        pois_dens[i, 0] += 1 - pois_dens[i, :].sum()\n",
    "\n",
    "    # compute product between weights and densities per component\n",
    "    pois_dens = pi.reshape(1, c).matmul(pois_dens).reshape(end, )\n",
    "    return pois_dens\n"
   ]
  },
  {
   "cell_type": "markdown",
   "metadata": {},
   "source": [
    "# Fitting with 1 component"
   ]
  },
  {
   "cell_type": "code",
   "execution_count": 39,
   "metadata": {},
   "outputs": [
    {
     "data": {
      "text/plain": [
       "tensor([[1.0000, 3.3987, 5.0416],\n",
       "        [1.0000, 4.2548, 4.4661],\n",
       "        [1.0000, 2.4721, 1.9142],\n",
       "        ...,\n",
       "        [1.0000, 4.1751, 1.4155],\n",
       "        [1.0000, 5.9603, 1.3094],\n",
       "        [1.0000, 0.2910, 2.9518]])"
      ]
     },
     "execution_count": 39,
     "metadata": {},
     "output_type": "execute_result"
    }
   ],
   "source": [
    "# Define the number of samples in the dataset\n",
    "num_samples = 10000\n",
    "\n",
    "from scipy.stats import qmc\n",
    "\n",
    "l_bounds = [0, 0.01] # lower bounds on mu and sigma\n",
    "u_bounds = [10, 6]   # upper bounds on mu and sigma\n",
    "\n",
    "sampler = qmc.LatinHypercube(d=2)   # d=5                           # changed the way it samples (is it correct?)\n",
    "samples = sampler.random(n=num_samples)\n",
    "\n",
    "samples = qmc.scale(samples, [0, 0.01], [10, 6])\n",
    "dataset = torch.hstack([torch.ones(num_samples).reshape(num_samples,1), torch.tensor(samples)])\n",
    "dataset"
   ]
  },
  {
   "cell_type": "code",
   "execution_count": 40,
   "metadata": {},
   "outputs": [
    {
     "data": {
      "text/plain": [
       "[<matplotlib.lines.Line2D at 0x1361d01d0>]"
      ]
     },
     "execution_count": 40,
     "metadata": {},
     "output_type": "execute_result"
    },
    {
     "data": {
      "image/png": "[encoded data removed]",
      "text/plain": [
       "<Figure size 640x480 with 1 Axes>"
      ]
     },
     "metadata": {},
     "output_type": "display_data"
    }
   ],
   "source": [
    "#Check how it works\n",
    "\n",
    "pi = torch.tensor([1.])\n",
    "mu = torch.tensor([4.])\n",
    "sigma = torch.tensor([5.])\n",
    "\n",
    "pois_dens = generate_poisson(pi, mu, sigma)\n",
    "pois_dens\n",
    "\n",
    "#sample 100 points from a categorical distribution with the weights pois_dens\n",
    "sample = torch.distributions.Categorical(probs=pois_dens).sample((100,))\n",
    "\n",
    "plt.hist(sample, bins=10, density=True, color='c', edgecolor='black')\n",
    "plt.plot(range(50), pois_dens, marker= 'o')\n"
   ]
  },
  {
   "cell_type": "code",
   "execution_count": 41,
   "metadata": {},
   "outputs": [],
   "source": [
    "training_data = dataset[:int(0.85*len(dataset))]\n",
    "\n",
    "#build a tensor that replaces each of the rows of the training_data with the corresponding generate_poisson\n",
    "def generate_poisson_dataset_dim1(training_data):\n",
    "    #y_poisson = []\n",
    "    poisson_densities = []\n",
    "    for gaussian_mix_old in training_data:\n",
    "        old_pi = torch.tensor([gaussian_mix_old[0]])\n",
    "        old_mu = torch.tensor([gaussian_mix_old[1]])\n",
    "        old_sigma = torch.tensor([gaussian_mix_old[2]])\n",
    "        pois_dens = generate_poisson(old_pi, old_mu, old_sigma)\n",
    "        #y_poisson.append(torch.distributions.Categorical(probs=torch.tensor(pois_dens)).sample((250,)))\n",
    "        poisson_densities.append(pois_dens)\n",
    "    return torch.stack(poisson_densities) #,torch.stack(y_poisson)\n",
    "\n",
    "densities = generate_poisson_dataset_dim1(training_data)    # densities contiene le densità, y_poisson i samples"
   ]
  },
  {
   "cell_type": "code",
   "execution_count": 42,
   "metadata": {
    "scrolled": true
   },
   "outputs": [
    {
     "name": "stdout",
     "output_type": "stream",
     "text": [
      "Epoch 1\n",
      "-------------------------------\n",
      "loss: 402.749640\n",
      "loss: 70.532147\n",
      "Epoch 2\n",
      "-------------------------------\n",
      "loss: 68.107996\n",
      "loss: 64.892182\n",
      "Epoch 3\n",
      "-------------------------------\n",
      "loss: 63.794737\n",
      "loss: 59.434413\n",
      "Epoch 4\n",
      "-------------------------------\n",
      "loss: 60.134795\n",
      "loss: 58.804156\n",
      "Epoch 5\n",
      "-------------------------------\n",
      "loss: 59.345071\n",
      "loss: 58.816475\n",
      "Epoch 6\n",
      "-------------------------------\n",
      "loss: 59.547347\n",
      "loss: 58.982414\n",
      "Epoch 7\n",
      "-------------------------------\n",
      "loss: 59.495672\n",
      "loss: 58.979560\n",
      "Epoch 8\n",
      "-------------------------------\n",
      "loss: 59.315008\n",
      "loss: 59.113322\n",
      "Epoch 9\n",
      "-------------------------------\n",
      "loss: 59.387004\n",
      "loss: 58.687397\n",
      "Epoch 10\n",
      "-------------------------------\n",
      "loss: 59.700216\n",
      "loss: 58.887212\n",
      "Done!\n"
     ]
    }
   ],
   "source": [
    "epochs = 10\n",
    "model = PoissonNetwork(input_size=POISS_SUPP, num_component_output=1)\n",
    "\n",
    "optimizer = torch.optim.SGD(model.parameters(), lr=0.001)\n",
    "train_dataloader = DataLoader(densities, batch_size=64)\n",
    "for t in range(epochs):\n",
    "    print(f\"Epoch {t+1}\\n-------------------------------\")\n",
    "    train_loop_minibatch_poisson(train_dataloader, model, loss_function_minibatch_poisson, optimizer)\n",
    "    #test_loop(test_data, model, loss_function)\n",
    "print(\"Done!\")\n",
    "torch.save(model, 'params/poisson_dim1.pth')"
   ]
  },
  {
   "cell_type": "code",
   "execution_count": null,
   "metadata": {},
   "outputs": [],
   "source": []
  },
  {
   "cell_type": "markdown",
   "metadata": {},
   "source": [
    "### Test"
   ]
  },
  {
   "cell_type": "code",
   "execution_count": 43,
   "metadata": {},
   "outputs": [],
   "source": [
    "import torch\n",
    "from torch import nn\n",
    "#from neural_soga import *\n",
    "\n",
    "import matplotlib.pyplot as plt\n",
    "import numpy as np"
   ]
  },
  {
   "cell_type": "code",
   "execution_count": 44,
   "metadata": {},
   "outputs": [
    {
     "name": "stdout",
     "output_type": "stream",
     "text": [
      "Neural network: [[1.03424688]] [[1.25741069]]\n",
      "SOGA values: 0.3933039556972638 0.7892733319783592\n"
     ]
    },
    {
     "data": {
      "image/png": "[encoded data removed]",
      "text/plain": [
       "<Figure size 640x480 with 1 Axes>"
      ]
     },
     "metadata": {},
     "output_type": "display_data"
    }
   ],
   "source": [
    "from scipy.stats import norm\n",
    "\n",
    "model = PoissonNetwork(input_size=50, num_component_output=1)\n",
    "model = torch.load('params/poisson_dim1.pth')\n",
    "\n",
    "#Check with some distributions\n",
    "# 1.0000, 5.4371, 0.0294\n",
    "pi = torch.tensor([1.])\n",
    "mu = torch.tensor([0.2])\n",
    "sigma = torch.tensor([0.5])\n",
    "\n",
    "pois_dens = generate_poisson(pi, mu, sigma)\n",
    "plt.plot(range(30), pois_dens[0:30], marker= 'o', label='original')\n",
    "\n",
    "pi_new, mu_new, sigma_new = model(pois_dens.reshape(1,50).double())\n",
    "print('Neural network:', mu_new.detach().numpy(), torch.sqrt(sigma_new).detach().numpy())\n",
    "mix_new = torch.distributions.Categorical(pi_new)\n",
    "comp_new = torch.distributions.Normal(mu_new, torch.sqrt(sigma_new))\n",
    "gmm_new = torch.distributions.MixtureSameFamily(mix_new, comp_new)\n",
    "\n",
    "x = np.linspace(-2,5,100)\n",
    "\n",
    "plt.plot(x, gmm_new.log_prob(torch.tensor(x).reshape(100,1)).exp().detach().numpy(), color='r', label='NN')\n",
    "\n",
    "pois_dens = pois_dens.detach().numpy()\n",
    "pois_mean = sum([i*pois_dens[i] for i in range(len(pois_dens))])\n",
    "pois_std = np.sqrt(sum([i**2*pois_dens[i] for i in range(len(pois_dens))]) - pois_mean**2)\n",
    "print('SOGA values:', pois_mean, pois_std)\n",
    "plt.plot(x, norm.pdf(x, loc=pois_mean, scale=pois_std), label='SOGA')\n",
    "plt.ylim(0, 1)\n",
    "plt.xlim(-2, 5)\n",
    "plt.axvline(x=0, color='b', linestyle='--')\n",
    "\n",
    "\n",
    "plt.legend()\n",
    "\n",
    "plt.savefig('poisson_fit_1comp_NN.png')"
   ]
  },
  {
   "cell_type": "markdown",
   "metadata": {},
   "source": [
    "For some reason it does not guess the mean accurately"
   ]
  },
  {
   "cell_type": "markdown",
   "metadata": {},
   "source": [
    "# Da qui in poi non eseguire"
   ]
  },
  {
   "cell_type": "markdown",
   "metadata": {},
   "source": [
    "# Fitting with 2 components"
   ]
  },
  {
   "cell_type": "code",
   "execution_count": 45,
   "metadata": {},
   "outputs": [
    {
     "data": {
      "text/plain": [
       "tensor([[1.3901e-01, 8.6099e-01, 6.5984e+00, 9.3021e+00, 1.2352e+00, 1.3364e+00],\n",
       "        [6.3976e-01, 3.6024e-01, 1.0452e+00, 5.6509e+00, 4.5717e-01, 6.8717e-02],\n",
       "        [7.8354e-01, 2.1646e-01, 9.1531e+00, 2.1998e+00, 1.4839e-01, 1.1307e+00],\n",
       "        ...,\n",
       "        [9.9942e-01, 5.7507e-04, 5.9682e+00, 4.6162e+00, 1.6169e+00, 2.1556e-01],\n",
       "        [2.7068e-01, 7.2932e-01, 9.9922e+00, 9.8692e+00, 3.3498e-01, 1.9092e+00],\n",
       "        [1.5394e-01, 8.4606e-01, 9.0293e+00, 9.9008e+00, 1.1488e+00, 1.5313e+00]])"
      ]
     },
     "execution_count": 45,
     "metadata": {},
     "output_type": "execute_result"
    }
   ],
   "source": [
    "# Define the number of samples in the dataset\n",
    "num_samples = 10000\n",
    "\n",
    "from scipy.stats import qmc\n",
    "\n",
    "\n",
    "l_bounds = [0, 0, 0, 0.01, 0.01] # lower bounds on p1, mu1, mu2, sigma1 and sigma2\n",
    "u_bounds = [1, 10, 10, 2, 2]   # upper bounds on p1, mu1, mu2, sigma1 and sigma2\n",
    "\n",
    "sampler = qmc.LatinHypercube(d=5)   # d=5\n",
    "samples = sampler.random(n=num_samples)\n",
    "\n",
    "samples = qmc.scale(samples,l_bounds, u_bounds)\n",
    "dataset = torch.hstack([torch.tensor(1-samples[:,0].reshape(num_samples,1)), torch.tensor(samples)])\n",
    "dataset\n"
   ]
  },
  {
   "cell_type": "code",
   "execution_count": 46,
   "metadata": {},
   "outputs": [],
   "source": [
    "import torch.nn.functional as F\n",
    "from torch.distributions.normal import Normal\n",
    "\n",
    "def generate_poisson(pi, mu, sigma, end = POISS_SUPP):\n",
    "    \"\"\"\n",
    "    Input:\n",
    "    pi = tensor of weights of length c\n",
    "    mu = tensor of means of length c\n",
    "    sigma = tensor of variances of length c\n",
    "    Taken as input the parameters of a Gaussian Mixtures returns the\n",
    "    density of a Poisson distribution having as rate given mixture, truncated to [0, end]\n",
    "    \"\"\"\n",
    "    c = len(pi)   # number of components in the mixture\n",
    "    \n",
    "    # initializes the density vector, storing a density for each component\n",
    "    pois_dens = torch.zeros((c, end))\n",
    "    # initializes the vector of factorials\n",
    "    log_fact = torch.tensor([sum([torch.log(torch.tensor(float(i))) for i in range(1, n)]) for n in range(1, end+1)])\n",
    "    \n",
    "    # computes the Gaussian density for each component\n",
    "    muprime = mu - sigma\n",
    "    std = torch.sqrt(sigma)\n",
    "    norm = Normal(torch.tensor(0.0), torch.tensor(1.0))\n",
    "\n",
    "    for i in range(c):\n",
    "        for k_val in range(end):\n",
    "            if k_val == 0:\n",
    "                pois_dens[i, k_val] = 1 - norm.cdf(-muprime[i]/std[i])\n",
    "            elif k_val == 1:\n",
    "                pois_dens[i, k_val] = muprime[i] * pois_dens[i, k_val-1] + std[i] * norm.log_prob(-muprime[i]/std[i]).exp()\n",
    "            else:\n",
    "                pois_dens[i, k_val] = (muprime[i] * pois_dens[i, k_val-1] + (k_val-1) * sigma[i] * pois_dens[i, k_val-2])\n",
    "        # goes to logarithm to compute the factorial\n",
    "        pois_dens[i, :] = torch.log(pois_dens[i, :]) - log_fact\n",
    "        pois_dens[i, :] = pois_dens[i, :].exp()\n",
    "        # multiplies by normalization constant\n",
    "        pois_dens[i, :] = pois_dens[i, :] * torch.exp(0.5 * (sigma[i] - 2 * mu[i]))\n",
    "        # puts missing probability mass to zero\n",
    "        pois_dens[i, 0] += 1 - pois_dens[i, :].sum()\n",
    "\n",
    "    # compute product between weights and densities per component\n",
    "    pois_dens = pi.reshape(1, c).matmul(pois_dens).reshape(end, )\n",
    "    return pois_dens\n"
   ]
  },
  {
   "cell_type": "code",
   "execution_count": 47,
   "metadata": {},
   "outputs": [
    {
     "data": {
      "text/plain": [
       "[<matplotlib.lines.Line2D at 0x1361f6650>]"
      ]
     },
     "execution_count": 47,
     "metadata": {},
     "output_type": "execute_result"
    },
    {
     "data": {
      "image/png": "[encoded data removed]",
      "text/plain": [
       "<Figure size 640x480 with 1 Axes>"
      ]
     },
     "metadata": {},
     "output_type": "display_data"
    }
   ],
   "source": [
    "#Check how it works\n",
    "\n",
    "pi = torch.tensor([0.5, 0.5])\n",
    "mu = torch.tensor([3, 10])\n",
    "sigma = torch.tensor([1, 1])\n",
    "\n",
    "pois_dens = generate_poisson(pi, mu, sigma)\n",
    "pois_dens\n",
    "\n",
    "#sample 100 points from a categorical distribution with the weights pois_dens\n",
    "sample = torch.distributions.Categorical(probs=pois_dens).sample((100,))\n",
    "\n",
    "plt.hist(sample, bins=10, density=True, color='c', edgecolor='black')\n",
    "plt.plot(range(50), pois_dens, marker= 'o')\n"
   ]
  },
  {
   "cell_type": "code",
   "execution_count": 63,
   "metadata": {},
   "outputs": [],
   "source": [
    "def loss_function_minibatch_poisson(y_poisson, new_pi, new_mu, new_sigma):\n",
    "    count = 0\n",
    "    total_loss = 0\n",
    "    for poisson_sample in y_poisson:\n",
    "        #Generate the new gaussian mixture\n",
    "        mix_new = torch.distributions.Categorical(new_pi[count])\n",
    "        comp_new = torch.distributions.Normal(new_mu[count], new_sigma[count])\n",
    "        gmm_new = torch.distributions.MixtureSameFamily(mix_new, comp_new)\n",
    "\n",
    "    \n",
    "        # Calculate the log likelihood of the new gaussian mixture with the old samples\n",
    "        log_likelihood = torch.sum(gmm_new.log_prob(poisson_sample))\n",
    "        total_loss -= log_likelihood/len(poisson_sample)\n",
    "        count += 1\n",
    "    return total_loss/count\n"
   ]
  },
  {
   "cell_type": "code",
   "execution_count": 58,
   "metadata": {},
   "outputs": [],
   "source": [
    "def train_loop_minibatch_poisson(training_dataloader, model, loss_fn, optimizer, n_samples=500):\n",
    "    model.train()\n",
    "    counter = 0\n",
    "    \n",
    "    for bach_idx, poisson_denisties in enumerate(training_dataloader):\n",
    "        y_poisson = []\n",
    "\n",
    "        for density in poisson_denisties:\n",
    "            y_poisson.append(torch.distributions.Categorical(probs=density).sample((n_samples,)))\n",
    "        pi_new, mu_new, sigma_new = model(poisson_denisties)\n",
    "            \n",
    "        loss = loss_fn(y_poisson, pi_new, mu_new, sigma_new)\n",
    "\n",
    "        # Backpropagation\n",
    "        loss.backward()\n",
    "        optimizer.step()\n",
    "        optimizer.zero_grad()\n",
    "\n",
    "        if counter % 100 == 0:\n",
    "            loss = loss.item() #batch * batch_size + len(X)\n",
    "            print(f\"loss: {loss:>7f}\")\n",
    "        counter += 1\n",
    "\n"
   ]
  },
  {
   "cell_type": "code",
   "execution_count": 50,
   "metadata": {},
   "outputs": [],
   "source": [
    "training_data = dataset[:int(0.85*len(dataset))]\n",
    "\n",
    "#build a tensor that replaces each of the rows of the training_data with the corresponding generate_poisson\n",
    "def generate_poisson_dataset(training_data):\n",
    "    y_poisson = []\n",
    "    poisson_denisties = []\n",
    "    for gaussian_mix_old in training_data:\n",
    "        old_pi = gaussian_mix_old[0:2]\n",
    "        old_mu = gaussian_mix_old[2:4]\n",
    "        old_sigma = gaussian_mix_old[4:6]\n",
    "        pois_dens = generate_poisson(old_pi, old_mu, old_sigma)\n",
    "        #y_poisson.append(torch.distributions.Categorical(probs=torch.tensor(pois_dens)).sample((250,)))\n",
    "        poisson_denisties.append(pois_dens)\n",
    "    return torch.stack(poisson_denisties)#,torch.stack(y_poisson)\n",
    "\n",
    "\n",
    "densities = generate_poisson_dataset(training_data)    # densities contiene le densità, y_poisson i samples"
   ]
  },
  {
   "cell_type": "code",
   "execution_count": 51,
   "metadata": {},
   "outputs": [
    {
     "data": {
      "text/plain": [
       "tensor([[5.0448e-04, 3.1044e-03, 1.0232e-02,  ..., 8.8001e-16, 2.3602e-16,\n",
       "         6.2369e-17],\n",
       "        [2.6877e-01, 1.9385e-01, 1.2750e-01,  ..., 5.6257e-27, 7.1628e-28,\n",
       "         8.9489e-29],\n",
       "        [3.9843e-02, 4.9647e-02, 4.9853e-02,  ..., 1.5651e-18, 3.1703e-19,\n",
       "         6.2999e-20],\n",
       "        ...,\n",
       "        [5.7537e-02, 1.2156e-01, 1.6416e-01,  ..., 7.6883e-22, 1.6883e-22,\n",
       "         3.6657e-23],\n",
       "        [2.0623e-03, 1.2437e-02, 3.7934e-02,  ..., 1.9643e-24, 2.8282e-25,\n",
       "         3.9967e-26],\n",
       "        [2.6979e-02, 6.8144e-02, 1.0336e-01,  ..., 5.0414e-17, 1.2754e-17,\n",
       "         3.1787e-18]])"
      ]
     },
     "execution_count": 51,
     "metadata": {},
     "output_type": "execute_result"
    }
   ],
   "source": [
    "densities"
   ]
  },
  {
   "cell_type": "code",
   "execution_count": 110,
   "metadata": {},
   "outputs": [
    {
     "name": "stdout",
     "output_type": "stream",
     "text": [
      "Epoch 1\n",
      "-------------------------------\n",
      "loss: 14.835464\n",
      "loss: 3.745988\n",
      "Epoch 2\n",
      "-------------------------------\n",
      "loss: 3.586434\n",
      "loss: 3.290804\n",
      "Epoch 3\n",
      "-------------------------------\n",
      "loss: 3.305613\n",
      "loss: 3.208847\n",
      "Epoch 4\n",
      "-------------------------------\n",
      "loss: 3.232917\n",
      "loss: 3.168601\n",
      "Epoch 5\n",
      "-------------------------------\n",
      "loss: 3.196334\n",
      "loss: 3.140447\n",
      "Epoch 6\n",
      "-------------------------------\n",
      "loss: 3.175024\n",
      "loss: 3.119635\n",
      "Epoch 7\n",
      "-------------------------------\n",
      "loss: 3.150869\n",
      "loss: 3.103586\n",
      "Epoch 8\n",
      "-------------------------------\n",
      "loss: 3.131550\n",
      "loss: 3.079622\n",
      "Epoch 9\n",
      "-------------------------------\n",
      "loss: 3.113049\n",
      "loss: 3.064602\n",
      "Epoch 10\n",
      "-------------------------------\n",
      "loss: 3.082553\n",
      "loss: 3.034005\n",
      "Epoch 11\n",
      "-------------------------------\n",
      "loss: 3.062763\n",
      "loss: 3.016619\n",
      "Epoch 12\n",
      "-------------------------------\n",
      "loss: 3.037769\n",
      "loss: 2.991440\n",
      "Epoch 13\n",
      "-------------------------------\n",
      "loss: 3.005628\n",
      "loss: 2.952515\n",
      "Epoch 14\n",
      "-------------------------------\n",
      "loss: 2.971893\n",
      "loss: 2.923624\n",
      "Epoch 15\n",
      "-------------------------------\n",
      "loss: 2.932182\n",
      "loss: 2.870784\n",
      "Epoch 16\n",
      "-------------------------------\n",
      "loss: 2.889194\n",
      "loss: 2.830036\n",
      "Epoch 17\n",
      "-------------------------------\n",
      "loss: 2.831803\n",
      "loss: 2.778094\n",
      "Epoch 18\n",
      "-------------------------------\n",
      "loss: 2.778025\n",
      "loss: 2.724922\n",
      "Epoch 19\n",
      "-------------------------------\n",
      "loss: 2.734182\n",
      "loss: 2.692353\n",
      "Epoch 20\n",
      "-------------------------------\n",
      "loss: 2.692429\n",
      "loss: 2.681839\n",
      "Epoch 21\n",
      "-------------------------------\n",
      "loss: 2.684366\n",
      "loss: 2.671915\n",
      "Epoch 22\n",
      "-------------------------------\n",
      "loss: 2.674604\n",
      "loss: 2.666729\n",
      "Epoch 23\n",
      "-------------------------------\n",
      "loss: 2.677007\n",
      "loss: 2.658276\n",
      "Epoch 24\n",
      "-------------------------------\n",
      "loss: 2.671386\n",
      "loss: 2.662239\n",
      "Epoch 25\n",
      "-------------------------------\n",
      "loss: 2.671768\n",
      "loss: 2.655879\n",
      "Epoch 26\n",
      "-------------------------------\n",
      "loss: 2.660712\n",
      "loss: 2.656637\n",
      "Epoch 27\n",
      "-------------------------------\n",
      "loss: 2.665199\n",
      "loss: 2.652394\n",
      "Epoch 28\n",
      "-------------------------------\n",
      "loss: 2.660178\n",
      "loss: 2.649548\n",
      "Epoch 29\n",
      "-------------------------------\n",
      "loss: 2.658375\n",
      "loss: 2.651096\n",
      "Epoch 30\n",
      "-------------------------------\n",
      "loss: 2.654048\n",
      "loss: 2.641573\n",
      "Epoch 31\n",
      "-------------------------------\n",
      "loss: 2.653559\n",
      "loss: 2.644149\n",
      "Epoch 32\n",
      "-------------------------------\n",
      "loss: 2.653131\n",
      "loss: 2.648463\n",
      "Epoch 33\n",
      "-------------------------------\n",
      "loss: 2.649167\n",
      "loss: 2.640261\n",
      "Epoch 34\n",
      "-------------------------------\n",
      "loss: 2.648731\n",
      "loss: 2.634513\n",
      "Epoch 35\n",
      "-------------------------------\n",
      "loss: 2.641084\n",
      "loss: 2.637771\n",
      "Epoch 36\n",
      "-------------------------------\n",
      "loss: 2.642356\n",
      "loss: 2.637478\n",
      "Epoch 37\n",
      "-------------------------------\n",
      "loss: 2.637521\n",
      "loss: 2.633687\n",
      "Epoch 38\n",
      "-------------------------------\n",
      "loss: 2.637134\n",
      "loss: 2.632196\n",
      "Epoch 39\n",
      "-------------------------------\n",
      "loss: 2.645404\n",
      "loss: 2.630216\n",
      "Epoch 40\n",
      "-------------------------------\n",
      "loss: 2.634749\n",
      "loss: 2.621469\n",
      "Epoch 41\n",
      "-------------------------------\n",
      "loss: 2.636478\n",
      "loss: 2.626355\n",
      "Epoch 42\n",
      "-------------------------------\n",
      "loss: 2.636580\n",
      "loss: 2.622644\n",
      "Epoch 43\n",
      "-------------------------------\n",
      "loss: 2.635027\n",
      "loss: 2.616976\n",
      "Epoch 44\n",
      "-------------------------------\n",
      "loss: 2.628046\n",
      "loss: 2.614448\n",
      "Epoch 45\n",
      "-------------------------------\n",
      "loss: 2.623101\n",
      "loss: 2.616295\n",
      "Epoch 46\n",
      "-------------------------------\n",
      "loss: 2.620606\n",
      "loss: 2.607129\n",
      "Epoch 47\n",
      "-------------------------------\n",
      "loss: 2.619460\n",
      "loss: 2.609260\n",
      "Epoch 48\n",
      "-------------------------------\n",
      "loss: 2.620326\n",
      "loss: 2.600734\n",
      "Epoch 49\n",
      "-------------------------------\n",
      "loss: 2.611740\n",
      "loss: 2.601460\n",
      "Epoch 50\n",
      "-------------------------------\n",
      "loss: 2.613973\n",
      "loss: 2.594682\n",
      "Epoch 51\n",
      "-------------------------------\n",
      "loss: 2.607105\n",
      "loss: 2.591418\n",
      "Epoch 52\n",
      "-------------------------------\n",
      "loss: 2.606135\n",
      "loss: 2.592235\n",
      "Epoch 53\n",
      "-------------------------------\n",
      "loss: 2.604625\n",
      "loss: 2.588992\n",
      "Epoch 54\n",
      "-------------------------------\n",
      "loss: 2.603245\n",
      "loss: 2.589059\n",
      "Epoch 55\n",
      "-------------------------------\n",
      "loss: 2.593945\n",
      "loss: 2.579350\n",
      "Epoch 56\n",
      "-------------------------------\n",
      "loss: 2.592314\n",
      "loss: 2.582427\n",
      "Epoch 57\n",
      "-------------------------------\n",
      "loss: 2.591092\n",
      "loss: 2.570970\n",
      "Epoch 58\n",
      "-------------------------------\n",
      "loss: 2.587180\n",
      "loss: 2.572985\n",
      "Epoch 59\n",
      "-------------------------------\n",
      "loss: 2.581758\n",
      "loss: 2.565462\n",
      "Epoch 60\n",
      "-------------------------------\n",
      "loss: 2.584506\n",
      "loss: 2.569410\n",
      "Epoch 61\n",
      "-------------------------------\n",
      "loss: 2.581567\n",
      "loss: 2.567131\n",
      "Epoch 62\n",
      "-------------------------------\n",
      "loss: 2.581828\n",
      "loss: 2.554171\n",
      "Epoch 63\n",
      "-------------------------------\n",
      "loss: 2.574957\n",
      "loss: 2.561275\n",
      "Epoch 64\n",
      "-------------------------------\n",
      "loss: 2.569420\n",
      "loss: 2.552998\n",
      "Epoch 65\n",
      "-------------------------------\n",
      "loss: 2.566003\n",
      "loss: 2.551982\n",
      "Epoch 66\n",
      "-------------------------------\n",
      "loss: 2.570197\n",
      "loss: 2.553329\n",
      "Epoch 67\n",
      "-------------------------------\n",
      "loss: 2.556753\n",
      "loss: 2.546440\n",
      "Epoch 68\n",
      "-------------------------------\n",
      "loss: 2.558575\n",
      "loss: 2.542485\n",
      "Epoch 69\n",
      "-------------------------------\n",
      "loss: 2.548355\n",
      "loss: 2.541556\n",
      "Epoch 70\n",
      "-------------------------------\n",
      "loss: 2.552806\n",
      "loss: 2.541763\n",
      "Epoch 71\n",
      "-------------------------------\n",
      "loss: 2.550459\n",
      "loss: 2.536403\n",
      "Epoch 72\n",
      "-------------------------------\n",
      "loss: 2.548822\n",
      "loss: 2.526788\n",
      "Epoch 73\n",
      "-------------------------------\n",
      "loss: 2.538154\n",
      "loss: 2.531460\n",
      "Epoch 74\n",
      "-------------------------------\n",
      "loss: 2.545442\n",
      "loss: 2.521630\n",
      "Epoch 75\n",
      "-------------------------------\n",
      "loss: 2.540558\n",
      "loss: 2.526521\n",
      "Epoch 76\n",
      "-------------------------------\n",
      "loss: 2.538065\n",
      "loss: 2.519088\n",
      "Epoch 77\n",
      "-------------------------------\n",
      "loss: 2.528163\n",
      "loss: 2.517050\n",
      "Epoch 78\n",
      "-------------------------------\n",
      "loss: 2.534712\n",
      "loss: 2.511534\n",
      "Epoch 79\n",
      "-------------------------------\n",
      "loss: 2.524674\n",
      "loss: 2.513493\n",
      "Epoch 80\n",
      "-------------------------------\n",
      "loss: 2.525908\n",
      "loss: 2.521580\n",
      "Epoch 81\n",
      "-------------------------------\n",
      "loss: 2.524403\n",
      "loss: 2.511561\n",
      "Epoch 82\n",
      "-------------------------------\n",
      "loss: 2.525655\n",
      "loss: 2.512560\n",
      "Epoch 83\n",
      "-------------------------------\n",
      "loss: 2.526664\n",
      "loss: 2.509346\n",
      "Epoch 84\n",
      "-------------------------------\n",
      "loss: 2.519248\n",
      "loss: 2.511342\n",
      "Epoch 85\n",
      "-------------------------------\n",
      "loss: 2.519660\n",
      "loss: 2.503381\n",
      "Epoch 86\n",
      "-------------------------------\n",
      "loss: 2.514882\n",
      "loss: 2.502451\n",
      "Epoch 87\n",
      "-------------------------------\n",
      "loss: 2.516838\n",
      "loss: 2.502460\n",
      "Epoch 88\n",
      "-------------------------------\n",
      "loss: 2.508746\n",
      "loss: 2.500213\n",
      "Epoch 89\n",
      "-------------------------------\n",
      "loss: 2.515933\n",
      "loss: 2.494851\n",
      "Epoch 90\n",
      "-------------------------------\n",
      "loss: 2.514760\n",
      "loss: 2.497014\n",
      "Epoch 91\n",
      "-------------------------------\n",
      "loss: 2.510891\n",
      "loss: 2.501262\n",
      "Epoch 92\n",
      "-------------------------------\n",
      "loss: 2.502887\n",
      "loss: 2.496300\n",
      "Epoch 93\n",
      "-------------------------------\n",
      "loss: 2.505267\n",
      "loss: 2.499606\n",
      "Epoch 94\n",
      "-------------------------------\n",
      "loss: 2.502790\n",
      "loss: 2.495082\n",
      "Epoch 95\n",
      "-------------------------------\n",
      "loss: 2.501718\n",
      "loss: 2.495978\n",
      "Epoch 96\n",
      "-------------------------------\n",
      "loss: 2.500122\n",
      "loss: 2.490385\n",
      "Epoch 97\n",
      "-------------------------------\n",
      "loss: 2.510019\n",
      "loss: 2.491343\n",
      "Epoch 98\n",
      "-------------------------------\n",
      "loss: 2.507607\n",
      "loss: 2.493586\n",
      "Epoch 99\n",
      "-------------------------------\n",
      "loss: 2.502692\n",
      "loss: 2.486739\n",
      "Epoch 100\n",
      "-------------------------------\n",
      "loss: 2.495384\n",
      "loss: 2.493260\n",
      "Done!\n"
     ]
    }
   ],
   "source": [
    "epochs = 100\n",
    "model = PoissonNetwork(input_size=POISS_SUPP, num_component_output=2)\n",
    "\n",
    "optimizer = torch.optim.SGD(model.parameters(), lr=0.001)\n",
    "train_dataloader = DataLoader(densities, batch_size=64)\n",
    "for t in range(epochs):\n",
    "    print(f\"Epoch {t+1}\\n-------------------------------\")\n",
    "    train_loop_minibatch_poisson(train_dataloader, model, loss_function_minibatch_poisson, optimizer, n_samples=500)\n",
    "    #test_loop(test_data, model, loss_function)\n",
    "print(\"Done!\")\n",
    "torch.save(model, 'model4.pth')"
   ]
  },
  {
   "cell_type": "code",
   "execution_count": 114,
   "metadata": {},
   "outputs": [
    {
     "name": "stdout",
     "output_type": "stream",
     "text": [
      "tensor([[0.1197, 0.8803]], grad_fn=<SoftmaxBackward0>) tensor([[1.3331, 8.5446]], grad_fn=<ExpBackward0>) tensor([[0.9932, 3.2355]], grad_fn=<ExpBackward0>)\n"
     ]
    },
    {
     "data": {
      "text/plain": [
       "[<matplotlib.lines.Line2D at 0x137c84d50>]"
      ]
     },
     "execution_count": 114,
     "metadata": {},
     "output_type": "execute_result"
    },
    {
     "data": {
      "image/png": "[encoded data removed]",
      "text/plain": [
       "<Figure size 640x480 with 1 Axes>"
      ]
     },
     "metadata": {},
     "output_type": "display_data"
    }
   ],
   "source": [
    "#Check with some distributions\n",
    "pi = torch.tensor([0.5, 0.5])\n",
    "mu = torch.tensor([7, 9])\n",
    "sigma = torch.tensor([0.1, 0.2])\n",
    "\n",
    "pois_dens = generate_poisson(pi, mu, sigma)\n",
    "plt.plot(range(10), pois_dens[0:10], marker= 'o')\n",
    "\n",
    "pi_new, mu_new, sigma_new = model(pois_dens.reshape(1,50))\n",
    "mix_new = torch.distributions.Categorical(pi_new)\n",
    "comp_new = torch.distributions.Normal(mu_new, sigma_new)\n",
    "gmm_new = torch.distributions.MixtureSameFamily(mix_new, comp_new)\n",
    "print(pi_new, mu_new, sigma_new)\n",
    "plt.plot(np.linspace(0, 10, 100), gmm_new.log_prob(torch.tensor(np.linspace(0, 10, 100)).reshape(100,1)).exp().detach().numpy(), color='r')\n",
    "#plt.ylim(0, 1)\n",
    "\n"
   ]
  },
  {
   "cell_type": "code",
   "execution_count": 68,
   "metadata": {},
   "outputs": [
    {
     "data": {
      "text/plain": [
       "tensor([1.2753e-01, 9.9301e-02, 5.6622e-02, 3.9389e-02, 4.6750e-02, 6.6139e-02,\n",
       "        8.5617e-02, 9.6886e-02, 9.6525e-02, 8.5793e-02, 6.8847e-02, 5.0378e-02,\n",
       "        3.3893e-02, 2.1111e-02, 1.2246e-02, 6.6494e-03, 3.3947e-03, 1.6358e-03,\n",
       "        7.4655e-04, 3.2370e-04, 1.3371e-04, 5.2746e-05, 1.9916e-05, 7.2129e-06,\n",
       "        2.5102e-06, 8.4087e-07, 2.7157e-07, 8.4683e-08, 2.5530e-08, 7.4507e-09,\n",
       "        2.1074e-09, 5.7831e-10, 1.5413e-10, 3.9937e-11, 1.0069e-11, 2.4721e-12,\n",
       "        5.9155e-13, 1.3807e-13, 3.1454e-14, 6.9988e-15, 1.5220e-15, 3.2370e-16,\n",
       "        6.7363e-17, 1.3725e-17, 2.7393e-18, 5.3580e-19, 1.0276e-19, 1.9334e-20,\n",
       "        3.5700e-21, 6.4721e-22])"
      ]
     },
     "execution_count": 68,
     "metadata": {},
     "output_type": "execute_result"
    }
   ],
   "source": [
    "pois_dens"
   ]
  },
  {
   "cell_type": "code",
   "execution_count": 71,
   "metadata": {},
   "outputs": [
    {
     "data": {
      "text/plain": [
       "(tensor([[0.5231, 0.4769]], grad_fn=<SoftmaxBackward0>),\n",
       " tensor([[1.0178, 0.9579]], grad_fn=<ExpBackward0>),\n",
       " tensor([[1.5038, 0.9457]], grad_fn=<ExpBackward0>))"
      ]
     },
     "execution_count": 71,
     "metadata": {},
     "output_type": "execute_result"
    }
   ],
   "source": [
    "model(pois_dens.reshape(1,50))"
   ]
  },
  {
   "cell_type": "code",
   "execution_count": 103,
   "metadata": {},
   "outputs": [
    {
     "name": "stdout",
     "output_type": "stream",
     "text": [
      "tensor(265.8648, grad_fn=<NegBackward0>)\n",
      "tensor(293.6254)\n"
     ]
    }
   ],
   "source": [
    "data = torch.distributions.Categorical(probs=pois_dens).sample((100,))\n",
    "log_likelihood = torch.sum(gmm_new.log_prob(data))\n",
    "print(-log_likelihood)\n",
    "\n",
    "mix_correct= torch.distributions.Categorical(torch.tensor([1, 0]))\n",
    "comp_correct = torch.distributions.Normal(torch.tensor([4, 0]), torch.tensor([6, 0.1]))\n",
    "gmm_correct = torch.distributions.MixtureSameFamily(mix_correct, comp_correct)\n",
    "\n",
    "log_likelihood2 = torch.sum(gmm_correct.log_prob(data))\n",
    "print(-log_likelihood2)"
   ]
  },
  {
   "cell_type": "code",
   "execution_count": 104,
   "metadata": {},
   "outputs": [
    {
     "data": {
      "text/plain": [
       "[<matplotlib.lines.Line2D at 0x137804c10>]"
      ]
     },
     "execution_count": 104,
     "metadata": {},
     "output_type": "execute_result"
    },
    {
     "data": {
      "image/png": "[encoded data removed]",
      "text/plain": [
       "<Figure size 640x480 with 1 Axes>"
      ]
     },
     "metadata": {},
     "output_type": "display_data"
    }
   ],
   "source": [
    "plt.plot(np.linspace(0, 10, 100), gmm_correct.log_prob(torch.tensor(np.linspace(0, 10, 100)).reshape(100,1)).exp().detach().numpy(), color='r')\n",
    "plt.plot(range(10), pois_dens[0:10], marker= 'o')\n"
   ]
  }
 ],
 "metadata": {
  "kernelspec": {
   "display_name": "neuralodes",
   "language": "python",
   "name": "python3"
  },
  "language_info": {
   "codemirror_mode": {
    "name": "ipython",
    "version": 3
   },
   "file_extension": ".py",
   "mimetype": "text/x-python",
   "name": "python",
   "nbconvert_exporter": "python",
   "pygments_lexer": "ipython3",
   "version": "3.11.6"
  }
 },
 "nbformat": 4,
 "nbformat_minor": 4
}
