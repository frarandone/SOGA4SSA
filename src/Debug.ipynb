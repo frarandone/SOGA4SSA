{
 "cells": [
  {
   "cell_type": "code",
   "execution_count": 1,
   "id": "cbd34f5d",
   "metadata": {},
   "outputs": [],
   "source": [
    "from sogaPreprocessor import *\n",
    "from producecfg import *\n",
    "from libSOGA import *"
   ]
  },
  {
   "cell_type": "code",
   "execution_count": 2,
   "id": "86c040ea",
   "metadata": {},
   "outputs": [],
   "source": [
    "compiledFile=compile2SOGA('../programs/SOGA/SSA/Poisson.soga')"
   ]
  },
  {
   "cell_type": "code",
   "execution_count": 3,
   "id": "7565af6c",
   "metadata": {},
   "outputs": [],
   "source": [
    "cfg = produce_cfg(compiledFile)"
   ]
  },
  {
   "cell_type": "code",
   "execution_count": 4,
   "id": "821b548b",
   "metadata": {},
   "outputs": [],
   "source": [
    "output_dist = start_SOGA(cfg)"
   ]
  },
  {
   "cell_type": "code",
   "execution_count": 5,
   "id": "b728c950",
   "metadata": {},
   "outputs": [
    {
     "data": {
      "text/plain": [
       "Dist<['y', 'x'],pi: [1.0] mu: [array([1., 1.])] sigma: [array([[6., 6.],\n",
       "       [6., 6.]])]>"
      ]
     },
     "execution_count": 5,
     "metadata": {},
     "output_type": "execute_result"
    }
   ],
   "source": [
    "output_dist"
   ]
  },
  {
   "cell_type": "code",
   "execution_count": 6,
   "id": "011e1400",
   "metadata": {},
   "outputs": [
    {
     "data": {
      "text/plain": [
       "0.01831563888873418"
      ]
     },
     "execution_count": 6,
     "metadata": {},
     "output_type": "execute_result"
    }
   ],
   "source": [
    "pois.pmf(0,4)"
   ]
  },
  {
   "cell_type": "code",
   "execution_count": null,
   "id": "19d7030e",
   "metadata": {},
   "outputs": [],
   "source": []
  }
 ],
 "metadata": {
  "kernelspec": {
   "display_name": "Python 3 (ipykernel)",
   "language": "python",
   "name": "python3"
  },
  "language_info": {
   "codemirror_mode": {
    "name": "ipython",
    "version": 3
   },
   "file_extension": ".py",
   "mimetype": "text/x-python",
   "name": "python",
   "nbconvert_exporter": "python",
   "pygments_lexer": "ipython3",
   "version": "3.11.5"
  }
 },
 "nbformat": 4,
 "nbformat_minor": 5
}
