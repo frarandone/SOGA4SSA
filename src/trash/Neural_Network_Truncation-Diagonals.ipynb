{
 "cells": [
  {
   "cell_type": "code",
   "execution_count": 1,
   "metadata": {
    "colab": {
     "base_uri": "https://localhost:8080/"
    },
    "id": "p3GMcXJW3LFu",
    "outputId": "5a66b92b-3d1f-4c15-cca7-ed78ce2ce9b4"
   },
   "outputs": [
    {
     "data": {
      "text/plain": [
       "<torch._C.Generator at 0x271b75c2890>"
      ]
     },
     "execution_count": 1,
     "metadata": {},
     "output_type": "execute_result"
    }
   ],
   "source": [
    "import torch\n",
    "from torch import nn\n",
    "import torch.distributions as dist\n",
    "import numpy as np\n",
    "\n",
    "torch.manual_seed(0)"
   ]
  },
  {
   "cell_type": "code",
   "execution_count": 2,
   "metadata": {
    "id": "gy_kk2Bbdxd2"
   },
   "outputs": [],
   "source": [
    "POS = 10**(-3)  # try reduce this -> error non-positive definite\n",
    "DIAG = 0.1\n",
    "\n",
    "gelu = nn.GELU()"
   ]
  },
  {
   "cell_type": "code",
   "execution_count": 3,
   "metadata": {
    "id": "Pg4KD-nS3VTV"
   },
   "outputs": [],
   "source": [
    "class ApproxTruncation(nn.Module):\n",
    "    def __init__(self, xdim, num_component_input=2, num_component_output=2, nsamples=500):\n",
    "        super(ApproxTruncation, self).__init__()\n",
    "        self.num_component_input = num_component_input\n",
    "        self.num_component_output = num_component_output\n",
    "        \n",
    "        self.xdim = xdim\n",
    "        self.out_dim = int(self.num_component_output*(1+2*self.xdim))   # changed to produce diagonal matrices\n",
    "\n",
    "        self.network = nn.Sequential(\n",
    "            nn.Linear(self.xdim, 24),\n",
    "            nn.LeakyReLU(0.2),\n",
    "            nn.Linear(24, 48),\n",
    "            nn.LeakyReLU(0.2),\n",
    "            nn.Linear(48, 48),\n",
    "            nn.LeakyReLU(0.2),\n",
    "            nn.Linear(48, 96),    # added two layers\n",
    "            nn.LeakyReLU(0.2),\n",
    "            nn.Linear(96, 48),\n",
    "            nn.LeakyReLU(0.2),\n",
    "            nn.Linear(48,24),\n",
    "            nn.LeakyReLU(0.2),\n",
    "            nn.Linear(24, self.out_dim),\n",
    "        )\n",
    "\n",
    "        self.lay = nn.Linear(nsamples, 1)\n",
    "\n",
    "    def forward(self, samples):\n",
    "\n",
    "        output = self.network(samples)\n",
    "\n",
    "        fl_output = self.lay(output.t())\n",
    "\n",
    "        fl_output = fl_output.reshape((self.num_component_output,-1))\n",
    "\n",
    "        weights = torch.sigmoid(fl_output[:, 0])\n",
    "        weights = weights / weights.sum()\n",
    "        mus = torch.exp(fl_output[:, 1:self.xdim+1])                                                        \n",
    "        sigmas = fl_output[:, self.xdim+1:].reshape((self.num_component_output, self.xdim))\n",
    "\n",
    "        #using gelu + 0.5 causes big variances and does not learn the mean\n",
    "        # using exp, square oversestimates the variances\n",
    "        \n",
    "        # uses diagonal matrices\n",
    "        covs = torch.zeros((self.num_component_output, self.xdim, self.xdim))      \n",
    "        for i in range(self.num_component_output):\n",
    "            covs[i][np.diag_indices(self.xdim)] = torch.exp(sigmas[i]) #+ POS*torch.eye(self.xdim)\n",
    "\n",
    "        return weights, mus, covs"
   ]
  },
  {
   "cell_type": "code",
   "execution_count": 4,
   "metadata": {
    "id": "S9HCdGlG52W_"
   },
   "outputs": [],
   "source": [
    "EPS = 10**(-6)\n",
    "def loss_function(samples, weights, means, covariances):\n",
    "\n",
    "    # samples: [n_samples, xdim]\n",
    "    n_samples, xdim = samples.shape\n",
    "\n",
    "    components = weights.shape[0]\n",
    "\n",
    "    #Generate the gaussian mixture\n",
    "    distributions = [dist.MultivariateNormal(means[i], covariances[i]) for i in range(components)]\n",
    "        \n",
    "    log_probs = torch.zeros(samples.shape[0], components)\n",
    "    \n",
    "    for i in range(components):\n",
    "        log_probs[:, i] = distributions[i].log_prob(samples) + torch.log(weights[i]+EPS)   \n",
    "\n",
    "    # Log-sum-exp for numerical stability\n",
    "    max_log_probs, _ = torch.max(log_probs, dim=1, keepdim=True)\n",
    "    log_probs = torch.log(torch.sum(torch.exp(log_probs - max_log_probs), dim=1)) + max_log_probs.squeeze()\n",
    "\n",
    "    return -log_probs.mean() "
   ]
  },
  {
   "cell_type": "code",
   "execution_count": 5,
   "metadata": {},
   "outputs": [],
   "source": [
    "# sanity check\n",
    "\n",
    "#w = torch.tensor([1.])\n",
    "#mean = torch.tensor([[73.1507, 82.6482]])\n",
    "#real_cov = torch.tensor([[[8.7327, 0.0000], [0.0000, 4.5017]]])\n",
    "#pred_cov = torch.tensor([[[ 7.8787,  0.0000], [ 0.0000, 18.3266]]])\n",
    "#\n",
    "#samples = gm_sampling(w, mean, real_cov, 1000)\n",
    "#\n",
    "#loss = loss_function(samples, w, mean, pred_cov)\n",
    "#print('loss for predicted cov', loss)\n",
    "#\n",
    "#loss = loss_function(samples, w, mean, real_cov)\n",
    "#print('loss for real cov', loss)"
   ]
  },
  {
   "cell_type": "code",
   "execution_count": 6,
   "metadata": {
    "id": "oFzED49k-IIW"
   },
   "outputs": [],
   "source": [
    "def _truncate_samples(samples, dist):\n",
    "    # Iteratively resample until all values are positive\n",
    "    while torch.any(samples < 0):\n",
    "        negative_indices = torch.any(samples < 0,dim=1)\n",
    "        new_samples = dist.sample((negative_indices.sum(),))\n",
    "        samples[negative_indices] = new_samples#[negative_indices]\n",
    "    return samples\n",
    "\n",
    "#def _truncate_samples(samples, dist):\n",
    "#    # Iteratively resample until all values are positive\n",
    "#    while torch.any(samples[:, 0] < 0):\n",
    "#        negative_indices = torch.where(samples[:,0] < 0)[0]\n",
    "#        new_samples = dist.sample((len(negative_indices),))\n",
    "#        samples[negative_indices] = new_samples\n",
    "#    return samples\n",
    "\n",
    "def gm_sampling(pis, mus, sigmas, num_samples):\n",
    "    \n",
    "    gm_distributions = [dist.MultivariateNormal(mus[i], sigmas[i]) for i in range(len(pis))]\n",
    "    \n",
    "    component_choices = torch.multinomial(pis, num_samples, replacement=True)\n",
    "    samples = torch.zeros(num_samples, mus.shape[1])\n",
    "\n",
    "    for i in range(len(pis)):\n",
    "        mask = (component_choices == i)\n",
    "        num_samples_i = mask.sum()\n",
    "        if num_samples_i > 0:\n",
    "            tsamples = gm_distributions[i].sample((num_samples_i,))\n",
    "            samples[mask] = _truncate_samples(tsamples, gm_distributions[i])\n",
    "            #samples[mask] = gm_distributions[i].sample((num_samples_i,))\n",
    "    return samples"
   ]
  },
  {
   "cell_type": "code",
   "execution_count": 7,
   "metadata": {
    "id": "vk2woPUMFCqV"
   },
   "outputs": [],
   "source": [
    "def generate_random_covariance(dim, lb, ub):\n",
    "    \n",
    "    # generate diagonal\n",
    "    cov_matrix = torch.zeros((dim, dim))\n",
    "    cov_matrix[np.diag_indices(dim)] = torch.empty(dim).uniform_(DIAG, ub) #strictly positive diagonal\n",
    "    return cov_matrix"
   ]
  },
  {
   "cell_type": "markdown",
   "metadata": {},
   "source": [
    "## Dimension 2"
   ]
  },
  {
   "cell_type": "markdown",
   "metadata": {},
   "source": [
    "### Training"
   ]
  },
  {
   "cell_type": "code",
   "execution_count": 8,
   "metadata": {
    "id": "GjJ47qkm7-Lz"
   },
   "outputs": [],
   "source": [
    "# number of samples generated per gaussian mixture during training\n",
    "nsamples = 1500   # increased number of samples   \n",
    "# number of gaussian mixtures seen during training\n",
    "niter = 200000\n",
    "\n",
    "ncomp = 1\n",
    "xdim = 2\n",
    "\n",
    "lb_mu = 0\n",
    "ub_mu = 100\n",
    "lb_sigma = -10\n",
    "ub_sigma = 10\n",
    "\n",
    "# changed the bounds\n",
    "#bounds_mu = [lb_mu*torch.ones(xdim),ub_mu*torch.ones(xdim)]\n",
    "#bounds_sigma = [lb_sigma**torch.ones(xdim**2), ub_sigma**torch.ones(xdim**2)] \n"
   ]
  },
  {
   "cell_type": "code",
   "execution_count": 9,
   "metadata": {
    "colab": {
     "base_uri": "https://localhost:8080/"
    },
    "id": "4JeYhLom-FMg",
    "outputId": "56fbe95e-9b29-4139-bf24-01d1a13f6a45"
   },
   "outputs": [
    {
     "name": "stdout",
     "output_type": "stream",
     "text": [
      "loss: 4981.175781 0.0%\n",
      "generated tensor([[43.9938, 93.0314]]) tensor([[[5.6997, 0.0000],\n",
      "         [0.0000, 3.0698]]])\n",
      "predicted tensor([[0.9488, 0.8951]], grad_fn=<ExpBackward0>) tensor([[[1.1334, 0.0000],\n",
      "         [0.0000, 1.0212]]], grad_fn=<CopySlices>)\n",
      "loss: 12.732323 0.5%\n",
      "loss: 13.771734 1.0%\n",
      "loss: 9.377625 1.5%\n",
      "loss: 12.124096 2.0%\n",
      "loss: 8.987494 2.5%\n",
      "loss: 9.946565 3.0%\n",
      "loss: 9.333151 3.5%\n",
      "loss: 7.622959 4.0%\n",
      "loss: 4.555624 4.5%\n",
      "loss: 15.273948 5.0%\n",
      "generated tensor([[96.6481, 87.1248]]) tensor([[[1.1614, 0.0000],\n",
      "         [0.0000, 7.9142]]])\n",
      "predicted tensor([[138.3548, 286.2690]], grad_fn=<ExpBackward0>) tensor([[[  176.0651,     0.0000],\n",
      "         [    0.0000, 22292.2285]]], grad_fn=<CopySlices>)\n",
      "loss: 6.501612 5.5%\n",
      "loss: 6.723351 6.0%\n",
      "loss: 5.266243 6.5%\n",
      "loss: 17.483992 7.0%\n",
      "loss: 7.510498 7.5%\n",
      "loss: 5.690536 8.0%\n",
      "loss: 6.733496 8.5%\n",
      "loss: 5.153614 9.0%\n",
      "loss: 4.881093 9.5%\n",
      "loss: 6.483085 10.0%\n",
      "generated tensor([[62.4135, 86.9714]]) tensor([[[1.9925, 0.0000],\n",
      "         [0.0000, 2.2703]]])\n",
      "predicted tensor([[62.7416, 98.8942]], grad_fn=<ExpBackward0>) tensor([[[15.9880,  0.0000],\n",
      "         [ 0.0000, 65.8618]]], grad_fn=<CopySlices>)\n",
      "loss: 5.290139 10.5%\n",
      "loss: 5.416655 11.0%\n",
      "loss: 7.476739 11.5%\n",
      "loss: 6.618679 12.0%\n",
      "loss: 5.431301 12.5%\n",
      "loss: 4.961643 13.0%\n",
      "loss: 4.756412 13.5%\n",
      "loss: 5.168515 14.0%\n",
      "loss: 9.257469 14.5%\n",
      "loss: 6.184875 15.0%\n",
      "generated tensor([[ 1.9558, 87.6739]]) tensor([[[3.6326, 0.0000],\n",
      "         [0.0000, 4.0202]]])\n",
      "predicted tensor([[ 3.4754, 97.5952]], grad_fn=<ExpBackward0>) tensor([[[10.5559,  0.0000],\n",
      "         [ 0.0000, 48.4721]]], grad_fn=<CopySlices>)\n",
      "loss: 9.197304 15.5%\n",
      "loss: 4.382698 16.0%\n",
      "loss: 4.825715 16.5%\n",
      "loss: 4.944105 17.0%\n",
      "loss: 4.912344 17.5%\n",
      "loss: 4.615720 18.0%\n",
      "loss: 5.372202 18.5%\n",
      "loss: 4.974593 19.0%\n",
      "loss: 5.302437 19.5%\n",
      "loss: 4.611198 20.0%\n",
      "generated tensor([[48.5700, 11.9448]]) tensor([[[5.3046, 0.0000],\n",
      "         [0.0000, 4.2406]]])\n",
      "predicted tensor([[47.1875, 11.5333]], grad_fn=<ExpBackward0>) tensor([[[8.2602, 0.0000],\n",
      "         [0.0000, 5.7553]]], grad_fn=<CopySlices>)\n",
      "loss: 5.201033 20.5%\n",
      "loss: 5.114233 21.0%\n",
      "loss: 5.205221 21.5%\n",
      "loss: 4.794660 22.0%\n",
      "loss: 5.291760 22.5%\n",
      "loss: 5.513669 23.0%\n",
      "loss: 5.266656 23.5%\n",
      "loss: 4.548504 24.0%\n",
      "loss: 6.649936 24.5%\n",
      "loss: 5.030612 25.0%\n",
      "generated tensor([[22.9088, 71.8868]]) tensor([[[4.5724, 0.0000],\n",
      "         [0.0000, 1.4845]]])\n",
      "predicted tensor([[22.5515, 68.1807]], grad_fn=<ExpBackward0>) tensor([[[ 7.1641,  0.0000],\n",
      "         [ 0.0000, 21.2758]]], grad_fn=<CopySlices>)\n",
      "loss: 6.354897 25.5%\n",
      "loss: 5.099210 26.0%\n",
      "loss: 4.702311 26.5%\n",
      "loss: 5.030431 27.0%\n",
      "loss: 5.076103 27.5%\n",
      "loss: 4.715008 28.0%\n",
      "loss: 4.649060 28.5%\n",
      "loss: 4.474931 29.0%\n",
      "loss: 5.001889 29.5%\n",
      "loss: 4.442284 30.0%\n",
      "generated tensor([[49.6357, 64.6951]]) tensor([[[4.3024, 0.0000],\n",
      "         [0.0000, 1.7555]]])\n",
      "predicted tensor([[49.6969, 65.6718]], grad_fn=<ExpBackward0>) tensor([[[ 7.1015,  0.0000],\n",
      "         [ 0.0000, 10.8171]]], grad_fn=<CopySlices>)\n",
      "loss: 8.059107 30.5%\n",
      "loss: 4.841550 31.0%\n",
      "loss: 4.813643 31.5%\n",
      "loss: 5.021626 32.0%\n",
      "loss: 5.146176 32.5%\n",
      "loss: 4.215206 33.0%\n",
      "loss: 5.343244 33.5%\n",
      "loss: 4.954109 34.0%\n",
      "loss: 4.038826 34.5%\n",
      "loss: 3.816872 35.0%\n",
      "generated tensor([[11.2722,  9.4333]]) tensor([[[1.8799, 0.0000],\n",
      "         [0.0000, 1.3332]]])\n",
      "predicted tensor([[10.7683,  9.6238]], grad_fn=<ExpBackward0>) tensor([[[5.4371, 0.0000],\n",
      "         [0.0000, 5.0264]]], grad_fn=<CopySlices>)\n",
      "loss: 4.870999 35.5%\n",
      "loss: 4.433301 36.0%\n",
      "loss: 4.254757 36.5%\n",
      "loss: 5.099309 37.0%\n",
      "loss: 5.019135 37.5%\n",
      "loss: 4.960571 38.0%\n",
      "loss: 4.776422 38.5%\n",
      "loss: 4.315129 39.0%\n",
      "loss: 5.391858 39.5%\n",
      "loss: 5.549231 40.0%\n",
      "generated tensor([[97.7422, 17.5767]]) tensor([[[0.3183, 0.0000],\n",
      "         [0.0000, 0.6482]]])\n",
      "predicted tensor([[92.0468, 16.8007]], grad_fn=<ExpBackward0>) tensor([[[11.0136,  0.0000],\n",
      "         [ 0.0000,  6.3953]]], grad_fn=<CopySlices>)\n",
      "loss: 6.439902 40.5%\n",
      "loss: 5.051937 41.0%\n",
      "loss: 4.799417 41.5%\n",
      "loss: 4.592043 42.0%\n",
      "loss: 4.440287 42.5%\n",
      "loss: 4.550346 43.0%\n",
      "loss: 8.821653 43.5%\n",
      "loss: 5.433354 44.0%\n",
      "loss: 4.267714 44.5%\n",
      "loss: 4.884172 45.0%\n",
      "generated tensor([[67.1946, 65.3323]]) tensor([[[6.9743, 0.0000],\n",
      "         [0.0000, 8.1818]]])\n",
      "predicted tensor([[67.0880, 65.8267]], grad_fn=<ExpBackward0>) tensor([[[6.6252, 0.0000],\n",
      "         [0.0000, 8.7859]]], grad_fn=<CopySlices>)\n",
      "loss: 4.454270 45.5%\n",
      "loss: 4.576794 46.0%\n",
      "loss: 5.211127 46.5%\n",
      "loss: 4.538069 47.0%\n",
      "loss: 4.094902 47.5%\n",
      "loss: 5.172995 48.0%\n",
      "loss: 3.907786 48.5%\n",
      "loss: 4.029294 49.0%\n",
      "loss: 5.146233 49.5%\n",
      "loss: 4.857353 50.0%\n",
      "generated tensor([[79.8730, 50.5150]]) tensor([[[1.1395, 0.0000],\n",
      "         [0.0000, 9.6855]]])\n",
      "predicted tensor([[80.2979, 48.7680]], grad_fn=<ExpBackward0>) tensor([[[8.4121, 0.0000],\n",
      "         [0.0000, 6.6223]]], grad_fn=<CopySlices>)\n",
      "loss: 4.973160 50.5%\n",
      "loss: 5.158681 51.0%\n",
      "loss: 4.881574 51.5%\n",
      "loss: 4.630790 52.0%\n",
      "loss: 5.321896 52.5%\n",
      "loss: 4.001673 53.0%\n",
      "loss: 4.895768 53.5%\n",
      "loss: 4.087286 54.0%\n",
      "loss: 4.450750 54.5%\n",
      "loss: 4.543015 55.0%\n",
      "generated tensor([[96.6699, 54.3588]]) tensor([[[1.2938, 0.0000],\n",
      "         [0.0000, 1.1848]]])\n",
      "predicted tensor([[93.8324, 53.7469]], grad_fn=<ExpBackward0>) tensor([[[8.6163, 0.0000],\n",
      "         [0.0000, 6.9981]]], grad_fn=<CopySlices>)\n",
      "loss: 6.809861 55.5%\n",
      "loss: 4.548174 56.0%\n",
      "loss: 4.625557 56.5%\n",
      "loss: 4.810455 57.0%\n",
      "loss: 5.374928 57.5%\n",
      "loss: 4.448895 58.0%\n",
      "loss: 4.921283 58.5%\n",
      "loss: 4.691432 59.0%\n",
      "loss: 4.383893 59.5%\n",
      "loss: 5.086641 60.0%\n",
      "generated tensor([[ 6.8348, 66.3428]]) tensor([[[8.8871, 0.0000],\n",
      "         [0.0000, 7.1944]]])\n",
      "predicted tensor([[ 5.8461, 65.2325]], grad_fn=<ExpBackward0>) tensor([[[4.9425, 0.0000],\n",
      "         [0.0000, 8.6410]]], grad_fn=<CopySlices>)\n",
      "loss: 4.304245 60.5%\n",
      "loss: 4.067680 61.0%\n",
      "loss: 4.864138 61.5%\n",
      "loss: 5.055877 62.0%\n",
      "loss: 4.682956 62.5%\n",
      "loss: 4.844008 63.0%\n",
      "loss: 4.945868 63.5%\n",
      "loss: 4.231692 64.0%\n",
      "loss: 4.657022 64.5%\n",
      "loss: 4.655423 65.0%\n",
      "generated tensor([[18.7231, 50.7566]]) tensor([[[9.5703, 0.0000],\n",
      "         [0.0000, 1.7306]]])\n",
      "predicted tensor([[18.5210, 50.3240]], grad_fn=<ExpBackward0>) tensor([[[4.9232, 0.0000],\n",
      "         [0.0000, 5.4903]]], grad_fn=<CopySlices>)\n",
      "loss: 5.000467 65.5%\n",
      "loss: 3.972778 66.0%\n",
      "loss: 3.957288 66.5%\n",
      "loss: 4.447493 67.0%\n",
      "loss: 3.952720 67.5%\n",
      "loss: 4.871875 68.0%\n",
      "loss: 4.540732 68.5%\n",
      "loss: 4.598147 69.0%\n",
      "loss: 5.202345 69.5%\n",
      "loss: 4.844936 70.0%\n",
      "generated tensor([[80.6305, 91.3785]]) tensor([[[4.0444, 0.0000],\n",
      "         [0.0000, 8.6228]]])\n",
      "predicted tensor([[79.5671, 91.3925]], grad_fn=<ExpBackward0>) tensor([[[9.9082, 0.0000],\n",
      "         [0.0000, 9.9103]]], grad_fn=<CopySlices>)\n",
      "loss: 5.081077 70.5%\n",
      "loss: 4.440068 71.0%\n",
      "loss: 5.043932 71.5%\n",
      "loss: 4.514489 72.0%\n",
      "loss: 4.183184 72.5%\n",
      "loss: 4.390325 73.0%\n",
      "loss: 4.905365 73.5%\n",
      "loss: 5.755161 74.0%\n",
      "loss: 4.336888 74.5%\n",
      "loss: 4.857890 75.0%\n",
      "generated tensor([[ 4.5720, 90.4919]]) tensor([[[9.3775, 0.0000],\n",
      "         [0.0000, 4.4583]]])\n",
      "predicted tensor([[ 4.7731, 89.6450]], grad_fn=<ExpBackward0>) tensor([[[3.8644, 0.0000],\n",
      "         [0.0000, 8.2951]]], grad_fn=<CopySlices>)\n",
      "loss: 5.003131 75.5%\n",
      "loss: 4.656039 76.0%\n",
      "loss: 4.588138 76.5%\n",
      "loss: 4.306616 77.0%\n",
      "loss: 5.098217 77.5%\n",
      "loss: 4.973782 78.0%\n",
      "loss: 4.386515 78.5%\n",
      "loss: 4.656578 79.0%\n",
      "loss: 4.584120 79.5%\n",
      "loss: 4.826790 80.0%\n",
      "generated tensor([[62.5004, 59.4957]]) tensor([[[3.8945, 0.0000],\n",
      "         [0.0000, 8.8767]]])\n",
      "predicted tensor([[61.6019, 60.5931]], grad_fn=<ExpBackward0>) tensor([[[6.6446, 0.0000],\n",
      "         [0.0000, 7.1270]]], grad_fn=<CopySlices>)\n",
      "loss: 4.902688 80.5%\n",
      "loss: 4.839520 81.0%\n",
      "loss: 4.904002 81.5%\n",
      "loss: 4.650601 82.0%\n",
      "loss: 5.053788 82.5%\n",
      "loss: 4.500457 83.0%\n",
      "loss: 4.747546 83.5%\n",
      "loss: 4.354797 84.0%\n",
      "loss: 6.729793 84.5%\n",
      "loss: 4.799846 85.0%\n",
      "generated tensor([[98.2152, 81.3942]]) tensor([[[1.4038, 0.0000],\n",
      "         [0.0000, 8.3164]]])\n",
      "predicted tensor([[99.9404, 82.5771]], grad_fn=<ExpBackward0>) tensor([[[8.0934, 0.0000],\n",
      "         [0.0000, 8.8086]]], grad_fn=<CopySlices>)\n",
      "loss: 4.236706 85.5%\n",
      "loss: 4.348875 86.0%\n",
      "loss: 4.650833 86.5%\n",
      "loss: 4.304695 87.0%\n",
      "loss: 4.673166 87.5%\n",
      "loss: 3.933571 88.0%\n",
      "loss: 4.336561 88.5%\n",
      "loss: 3.898618 89.0%\n",
      "loss: 5.495725 89.5%\n",
      "loss: 4.723679 90.0%\n",
      "generated tensor([[52.3278, 66.4403]]) tensor([[[3.2479, 0.0000],\n",
      "         [0.0000, 7.6750]]])\n",
      "predicted tensor([[53.8465, 66.5513]], grad_fn=<ExpBackward0>) tensor([[[6.1662, 0.0000],\n",
      "         [0.0000, 6.3195]]], grad_fn=<CopySlices>)\n",
      "loss: 4.499175 90.5%\n",
      "loss: 3.928811 91.0%\n",
      "loss: 4.293236 91.5%\n",
      "loss: 4.749218 92.0%\n",
      "loss: 4.341773 92.5%\n",
      "loss: 4.564371 93.0%\n",
      "loss: 4.697239 93.5%\n",
      "loss: 4.207016 94.0%\n",
      "loss: 4.953773 94.5%\n",
      "loss: 5.097250 95.0%\n",
      "generated tensor([[54.3667, 68.4175]]) tensor([[[1.2438, 0.0000],\n",
      "         [0.0000, 5.7443]]])\n",
      "predicted tensor([[51.2406, 67.6263]], grad_fn=<ExpBackward0>) tensor([[[5.9230, 0.0000],\n",
      "         [0.0000, 6.5344]]], grad_fn=<CopySlices>)\n",
      "loss: 5.302449 95.5%\n",
      "loss: 5.057381 96.0%\n",
      "loss: 5.010851 96.5%\n",
      "loss: 4.726350 97.0%\n",
      "loss: 5.260242 97.5%\n",
      "loss: 4.593840 98.0%\n",
      "loss: 4.966449 98.5%\n",
      "loss: 4.652778 99.0%\n",
      "loss: 4.199672 99.5%\n",
      "Done!\n"
     ]
    }
   ],
   "source": [
    "model = ApproxTruncation(xdim=xdim, num_component_input=ncomp, num_component_output=ncomp, nsamples=nsamples)\n",
    "optimizer = torch.optim.Adam(model.parameters(), lr=0.00005)\n",
    "\n",
    "model.train()\n",
    "\n",
    "losses = []\n",
    "for t in range(niter):\n",
    "\n",
    "    optimizer.zero_grad()\n",
    "    weights = torch.rand(ncomp)\n",
    "    weights = weights / weights.sum()  # Normalize to sum to 1\n",
    "    means = torch.empty(ncomp, xdim).uniform_(lb_mu, ub_mu)\n",
    "    covariances = torch.empty(ncomp, xdim, xdim)\n",
    "    for j in range(ncomp):\n",
    "        covariances[j] = generate_random_covariance(xdim, lb_sigma, ub_sigma)\n",
    "    \n",
    "    samples = gm_sampling(weights, means, covariances, nsamples)\n",
    "\n",
    "    pi_new, mu_new, sigma_new = model(samples)\n",
    "\n",
    "    #components = pi_new.shape[0]\n",
    "    #distributions = [dist.MultivariateNormal(mu_new[i], sigma_new[i]) for i in range(components)]\n",
    "\n",
    "    loss = loss_function(samples, pi_new, mu_new, sigma_new)\n",
    "\n",
    "    # Backpropagation\n",
    "    loss.backward()\n",
    "    optimizer.step()\n",
    "\n",
    "    if t % 1000 == 0:\n",
    "      tloss = loss.item() #batch * batch_size + len(X)\n",
    "      losses.append(tloss)\n",
    "      print(f\"loss: {tloss:>7f} {np.round(t/niter*100,3)}%\")\n",
    "\n",
    "    if t % 10000 == 0:\n",
    "        print('generated', means, covariances)\n",
    "        print('predicted', mu_new, sigma_new)\n",
    "\n",
    "print(\"Done!\")"
   ]
  },
  {
   "cell_type": "code",
   "execution_count": 18,
   "metadata": {},
   "outputs": [],
   "source": [
    "torch.save(model, 'params/truncNNdim2-1to1-diag.pth')"
   ]
  },
  {
   "cell_type": "code",
   "execution_count": 19,
   "metadata": {
    "id": "b6WgE6WA-Sls"
   },
   "outputs": [],
   "source": [
    "import matplotlib.pyplot as plt\n",
    "import numpy as np"
   ]
  },
  {
   "cell_type": "code",
   "execution_count": 20,
   "metadata": {
    "colab": {
     "base_uri": "https://localhost:8080/",
     "height": 472
    },
    "id": "CCHOSUtEaE1v",
    "outputId": "40155460-c283-4f7e-8b66-297d1d5d7127"
   },
   "outputs": [
    {
     "data": {
      "image/png": "[encoded data removed]",
      "text/plain": [
       "<Figure size 640x480 with 1 Axes>"
      ]
     },
     "metadata": {},
     "output_type": "display_data"
    }
   ],
   "source": [
    "fig = plt.figure()\n",
    "plt.plot(np.arange(len(losses)), losses)\n",
    "plt.title('loss')\n",
    "plt.xlabel('iterations')\n",
    "plt.ylim(0,100)\n",
    "plt.show()"
   ]
  },
  {
   "cell_type": "markdown",
   "metadata": {},
   "source": [
    "### Test"
   ]
  },
  {
   "cell_type": "code",
   "execution_count": 21,
   "metadata": {},
   "outputs": [],
   "source": [
    "import matplotlib.pyplot as plt\n",
    "import numpy as np\n",
    "\n",
    "import torch\n",
    "from torch import nn\n",
    "#from neural_soga import *"
   ]
  },
  {
   "cell_type": "code",
   "execution_count": 22,
   "metadata": {},
   "outputs": [
    {
     "name": "stderr",
     "output_type": "stream",
     "text": [
      "C:\\Users\\birik\\AppData\\Local\\Temp\\ipykernel_13936\\2303696174.py:6: FutureWarning: You are using `torch.load` with `weights_only=False` (the current default value), which uses the default pickle module implicitly. It is possible to construct malicious pickle data which will execute arbitrary code during unpickling (See https://github.com/pytorch/pytorch/blob/main/SECURITY.md#untrusted-models for more details). In a future release, the default value for `weights_only` will be flipped to `True`. This limits the functions that could be executed during unpickling. Arbitrary objects will no longer be allowed to be loaded via this mode unless they are explicitly allowlisted by the user via `torch.serialization.add_safe_globals`. We recommend you start setting `weights_only=True` for any use case where you don't have full control of the loaded file. Please open an issue on GitHub for any issues related to this experimental feature.\n",
      "  model = torch.load('params/truncNNdim2-1to1-diag.pth')\n"
     ]
    }
   ],
   "source": [
    "ncomp = 1\n",
    "xdim = 2\n",
    "nsamples = 1500\n",
    "\n",
    "model = ApproxTruncation(xdim=xdim, num_component_input=ncomp, num_component_output=ncomp, nsamples=nsamples)\n",
    "model = torch.load('params/truncNNdim2-1to1-diag.pth')"
   ]
  },
  {
   "cell_type": "code",
   "execution_count": 43,
   "metadata": {
    "id": "Z16G_Ll5UpH9"
   },
   "outputs": [
    {
     "name": "stdout",
     "output_type": "stream",
     "text": [
      "Test params: tensor([1.]) tensor([[0.5655, 0.0973]]) tensor([[[2.6608, 0.0000],\n",
      "         [0.0000, 3.8763]]])\n",
      "Pred params: tensor([1.], grad_fn=<DivBackward0>) tensor([[2.3265, 2.5460]], grad_fn=<ExpBackward0>) tensor([[[2.8024, 0.0000],\n",
      "         [0.0000, 3.9087]]], grad_fn=<CopySlices>)\n"
     ]
    }
   ],
   "source": [
    "test_weights = torch.rand(ncomp)\n",
    "test_weights = test_weights / test_weights.sum()  # Normalize to sum to 1\n",
    "test_means = torch.empty(ncomp, xdim).uniform_(0, 1)\n",
    "test_covariances = torch.empty(ncomp, xdim, xdim)\n",
    "\n",
    "for j in range(ncomp):\n",
    "  test_covariances[j] = generate_random_covariance(xdim, -5, 5)\n",
    "\n",
    "test_samples = gm_sampling(test_weights, test_means, test_covariances, nsamples)\n",
    "\n",
    "pi_pred, mu_pred, sigma_pred = model(test_samples)\n",
    "\n",
    "print('Test params:', test_weights, test_means, test_covariances)\n",
    "print('Pred params:', pi_pred, mu_pred, sigma_pred)"
   ]
  },
  {
   "cell_type": "markdown",
   "metadata": {},
   "source": [
    "Consistently overestimates the covariance and the mean estimate is not accurate"
   ]
  },
  {
   "cell_type": "code",
   "execution_count": 44,
   "metadata": {
    "scrolled": true
   },
   "outputs": [
    {
     "data": {
      "text/plain": [
       "(1.0,\n",
       " array([1.52967672, 1.60677686]),\n",
       " array([[1.18600853, 0.        ],\n",
       "        [0.        , 1.45086039]]))"
      ]
     },
     "execution_count": 44,
     "metadata": {},
     "output_type": "execute_result"
    }
   ],
   "source": [
    "import libSOGA\n",
    "\n",
    "soga_dist = libSOGA.Dist(['x','y'], libSOGA.GaussianMix(np.array([1.]), [np.array(test_means[0])], [np.array(test_covariances[0])]))\n",
    "_, new_soga_dist = libSOGA.truncate(soga_dist, 'x>0', {})\n",
    "_, new_soga_dist = libSOGA.truncate(new_soga_dist, 'y>0', {})\n",
    "\n",
    "soga_w = new_soga_dist.gm.pi[0]\n",
    "soga_mean = new_soga_dist.gm.mu[0]\n",
    "soga_cov = new_soga_dist.gm.sigma[0]\n",
    "\n",
    "soga_w, soga_mean, soga_cov"
   ]
  },
  {
   "cell_type": "code",
   "execution_count": 45,
   "metadata": {
    "colab": {
     "base_uri": "https://localhost:8080/",
     "height": 615
    },
    "id": "6inaOo-DNr2a",
    "outputId": "a79af969-b31f-465b-de82-2f439645d2c2"
   },
   "outputs": [
    {
     "name": "stdout",
     "output_type": "stream",
     "text": [
      "pred weights =  [1.]\n",
      "pred means =  [[2.3265166 2.5460374]]\n",
      "pred covs =  [[[2.8023937 0.       ]\n",
      "  [0.        3.908665 ]]]\n"
     ]
    },
    {
     "data": {
      "image/png": "[encoded data removed]",
      "text/plain": [
       "<Figure size 640x480 with 1 Axes>"
      ]
     },
     "metadata": {},
     "output_type": "display_data"
    }
   ],
   "source": [
    "# Plotting\n",
    "x, y = np.meshgrid(np.linspace(-5, 5, 100), np.linspace(-5, 5, 100))\n",
    "pos = np.empty(x.shape + (2,))\n",
    "pos[:, :, 0] = x\n",
    "pos[:, :, 1] = y\n",
    "\n",
    "def multivariate_gaussian(pos, mu, Sigma):\n",
    "    n = mu.shape[0]\n",
    "    Sigma_det = np.linalg.det(Sigma)\n",
    "    Sigma_inv = np.linalg.inv(Sigma)\n",
    "    N = np.sqrt((2 * np.pi)**n * Sigma_det)\n",
    "    fac = np.einsum('...k,kl,...l->...', pos - mu, Sigma_inv, pos - mu)\n",
    "    return np.exp(-fac / 2) / N\n",
    "\n",
    "fig, ax = plt.subplots()\n",
    "\n",
    "# Plot the contour of each Gaussian component\n",
    "#for i in range(len(test_weights)):\n",
    "#    z_in = multivariate_gaussian(pos, test_means[i].numpy(), covariances[i].numpy())\n",
    "#    ax.contour(x, y, z_in, levels=5, colors='orange')\n",
    "\n",
    "print('pred weights = ', pi_pred.detach().numpy())\n",
    "print('pred means = ', mu_pred.detach().numpy())\n",
    "print('pred covs = ', sigma_pred.detach().numpy())\n",
    "cc = ['b', 'g']\n",
    "for i in range(len(pi_pred)):\n",
    "    z_out = multivariate_gaussian(pos, mu_pred[i].detach().numpy(), sigma_pred[i].detach().numpy())\n",
    "    CS_pred = ax.contour(x, y, z_out, levels=5, colors='blue')  # predicted\n",
    "handles_pred, labels_pred = CS_pred.legend_elements('NN');\n",
    "#plt.legend(handles_pred, labels_pred, loc='upper right')\n",
    "    \n",
    "# for i in range(len(test_weights)):\n",
    "    # z_out = multivariate_gaussian(pos, test_means[i].detach().numpy(), test_covariances[i].detach().numpy())\n",
    "    # ax.contour(x, y, z_out, levels=5, colors='orange')   # original\n",
    "    \n",
    "z_out = multivariate_gaussian(pos,soga_mean, soga_cov)\n",
    "CS_soga = ax.contour(x, y, z_out, levels=5, colors='green')   # SOGA\n",
    "handles_soga, labels_soga = CS_soga.legend_elements('SOGA');\n",
    "#plt.legend(handles_pred + handles_soga, labels_pred+labels_soga)\n",
    "\n",
    "# Plot the samples\n",
    "ax.scatter(test_samples[:, 0], test_samples[:, 1], s=1, c='orange')\n",
    "#plt.legend()\n",
    "plt.title('Mixture of 2-Dimensional Gaussians with Samples')\n",
    "plt.xlabel('X-axis')\n",
    "plt.ylabel('Y-axis')\n",
    "\n",
    "plt.savefig('dim2-1to1-truncation.png')\n",
    "\n",
    "plt.show()"
   ]
  },
  {
   "cell_type": "markdown",
   "metadata": {},
   "source": [
    "# Da qui in poi non eseguire"
   ]
  },
  {
   "cell_type": "markdown",
   "metadata": {
    "jp-MarkdownHeadingCollapsed": true
   },
   "source": [
    "# Truncation 1 to 1"
   ]
  },
  {
   "cell_type": "markdown",
   "metadata": {},
   "source": [
    "## Dimension 1 "
   ]
  },
  {
   "cell_type": "markdown",
   "metadata": {},
   "source": [
    "### Training"
   ]
  },
  {
   "cell_type": "code",
   "execution_count": 8,
   "metadata": {
    "id": "GjJ47qkm7-Lz"
   },
   "outputs": [],
   "source": [
    "nsamples = 500\n",
    "niter = 100000\n",
    "\n",
    "ncomp = 1\n",
    "xdim = 1\n",
    "\n",
    "bounds_mu = [0*torch.ones(xdim),100*torch.ones(xdim)]\n",
    "bounds_sigma = [-10*torch.ones(xdim**2), 10*torch.ones(xdim**2)]\n"
   ]
  },
  {
   "cell_type": "code",
   "execution_count": 9,
   "metadata": {
    "colab": {
     "base_uri": "https://localhost:8080/"
    },
    "id": "4JeYhLom-FMg",
    "outputId": "56fbe95e-9b29-4139-bf24-01d1a13f6a45"
   },
   "outputs": [
    {
     "name": "stdout",
     "output_type": "stream",
     "text": [
      "loss: 7.743793 0.0%\n",
      "loss: 0.901091 1.0%\n",
      "loss: 1.074973 2.0%\n",
      "loss: 1.197235 3.0%\n",
      "loss: 0.625462 4.0%\n",
      "loss: 1.060450 5.0%\n",
      "loss: 0.908363 6.0%\n",
      "loss: 1.121251 7.000000000000001%\n",
      "loss: 1.258591 8.0%\n",
      "loss: 0.439639 9.0%\n",
      "loss: 0.975374 10.0%\n",
      "loss: 1.222692 11.0%\n",
      "loss: 0.584660 12.0%\n",
      "loss: 1.417349 13.0%\n",
      "loss: 1.518550 14.000000000000002%\n",
      "loss: 0.933830 15.0%\n",
      "loss: 1.367322 16.0%\n",
      "loss: 1.110824 17.0%\n",
      "loss: 1.318564 18.0%\n",
      "loss: 0.809869 19.0%\n",
      "loss: 0.568222 20.0%\n",
      "loss: 1.246939 21.0%\n",
      "loss: 1.370966 22.0%\n",
      "loss: 1.418361 23.0%\n",
      "loss: 1.143203 24.0%\n",
      "loss: 1.387892 25.0%\n",
      "loss: 0.830561 26.0%\n",
      "loss: 1.181834 27.0%\n",
      "loss: 1.278598 28.000000000000004%\n",
      "loss: 0.593901 28.999999999999996%\n",
      "loss: 1.188691 30.0%\n",
      "loss: 1.243723 31.0%\n",
      "loss: 0.510650 32.0%\n",
      "loss: 1.232209 33.0%\n",
      "loss: 0.821736 34.0%\n",
      "loss: 1.216925 35.0%\n",
      "loss: 1.586242 36.0%\n",
      "loss: 1.503320 37.0%\n",
      "loss: 0.409892 38.0%\n",
      "loss: 1.195214 39.0%\n",
      "loss: 0.969329 40.0%\n",
      "loss: 1.182968 41.0%\n",
      "loss: 1.346014 42.0%\n",
      "loss: 1.036156 43.0%\n",
      "loss: 1.072481 44.0%\n",
      "loss: 1.482658 45.0%\n",
      "loss: 1.024023 46.0%\n",
      "loss: 1.254951 47.0%\n",
      "loss: 1.270205 48.0%\n",
      "loss: 1.253972 49.0%\n",
      "loss: 0.716685 50.0%\n",
      "loss: 0.459140 51.0%\n",
      "loss: 1.140064 52.0%\n",
      "loss: 0.810479 53.0%\n",
      "loss: 0.928661 54.0%\n",
      "loss: 1.273928 55.00000000000001%\n",
      "loss: 1.165091 56.00000000000001%\n",
      "loss: 0.674026 56.99999999999999%\n",
      "loss: 1.044753 57.99999999999999%\n",
      "loss: 1.436022 59.0%\n",
      "loss: 0.860282 60.0%\n",
      "loss: 0.936551 61.0%\n",
      "loss: 0.816316 62.0%\n",
      "loss: 1.097045 63.0%\n",
      "loss: 0.857095 64.0%\n",
      "loss: 0.717619 65.0%\n",
      "loss: 1.176554 66.0%\n",
      "loss: 1.357832 67.0%\n",
      "loss: 1.426563 68.0%\n",
      "loss: 1.316067 69.0%\n",
      "loss: 1.376261 70.0%\n",
      "loss: 1.109878 71.0%\n",
      "loss: 0.987112 72.0%\n",
      "loss: 1.451085 73.0%\n",
      "loss: 1.014501 74.0%\n",
      "loss: 1.139907 75.0%\n",
      "loss: 1.367895 76.0%\n",
      "loss: 0.953302 77.0%\n",
      "loss: 1.282825 78.0%\n",
      "loss: 1.205031 79.0%\n",
      "loss: 1.139761 80.0%\n",
      "loss: 0.652432 81.0%\n",
      "loss: 0.973456 82.0%\n",
      "loss: 0.738335 83.0%\n",
      "loss: 0.702715 84.0%\n",
      "loss: 1.161022 85.0%\n",
      "loss: 0.505771 86.0%\n",
      "loss: 0.939492 87.0%\n",
      "loss: 1.294742 88.0%\n",
      "loss: 0.933464 89.0%\n",
      "loss: 1.186656 90.0%\n",
      "loss: 1.409370 91.0%\n",
      "loss: 1.311013 92.0%\n",
      "loss: 0.939500 93.0%\n",
      "loss: 1.196820 94.0%\n",
      "loss: 1.180624 95.0%\n",
      "loss: 0.873349 96.0%\n",
      "loss: 1.457157 97.0%\n",
      "loss: 0.941881 98.0%\n",
      "loss: 1.142114 99.0%\n",
      "Done!\n"
     ]
    }
   ],
   "source": [
    "model = ApproxTruncation(xdim=xdim, num_component_input=ncomp, num_component_output=ncomp, nsamples=nsamples)\n",
    "optimizer = torch.optim.Adam(model.parameters(), lr=0.0005)\n",
    "\n",
    "model.train()\n",
    "\n",
    "losses = []\n",
    "for t in range(niter):\n",
    "\n",
    "    optimizer.zero_grad()\n",
    "    weights = torch.rand(ncomp)\n",
    "    weights = weights / weights.sum()  # Normalize to sum to 1\n",
    "    means = torch.empty(ncomp, xdim).uniform_(0, 2)\n",
    "    covariances = torch.empty(ncomp, xdim, xdim)\n",
    "    for j in range(ncomp):\n",
    "      covariances[j] = generate_random_covariance(xdim, -1, 1)\n",
    "\n",
    "    samples = gm_sampling(weights, means, covariances, nsamples)\n",
    "\n",
    "    pi_new, mu_new, sigma_new = model(samples)\n",
    "\n",
    "    loss = loss_function(samples, pi_new, mu_new, sigma_new)\n",
    "\n",
    "\n",
    "    # Backpropagation\n",
    "    loss.backward()\n",
    "    optimizer.step()\n",
    "\n",
    "\n",
    "    if t % 1000 == 0:\n",
    "      tloss = loss.item() #batch * batch_size + len(X)\n",
    "      losses.append(tloss)\n",
    "      print(f\"loss: {tloss:>7f} {t/niter*100}%\")\n",
    "\n",
    "print(\"Done!\")"
   ]
  },
  {
   "cell_type": "code",
   "execution_count": 24,
   "metadata": {},
   "outputs": [],
   "source": [
    "torch.save(model, 'params/truncNNdim1-1to1.pth')"
   ]
  },
  {
   "cell_type": "code",
   "execution_count": 25,
   "metadata": {
    "id": "b6WgE6WA-Sls"
   },
   "outputs": [],
   "source": [
    "import matplotlib.pyplot as plt\n",
    "import numpy as np"
   ]
  },
  {
   "cell_type": "code",
   "execution_count": 26,
   "metadata": {
    "colab": {
     "base_uri": "https://localhost:8080/",
     "height": 472
    },
    "id": "CCHOSUtEaE1v",
    "outputId": "40155460-c283-4f7e-8b66-297d1d5d7127"
   },
   "outputs": [
    {
     "data": {
      "image/png": "[encoded data removed]",
      "text/plain": [
       "<Figure size 640x480 with 1 Axes>"
      ]
     },
     "metadata": {},
     "output_type": "display_data"
    }
   ],
   "source": [
    "fig = plt.figure()\n",
    "plt.plot(np.arange(len(losses)), losses)\n",
    "plt.title('loss')\n",
    "plt.xlabel('iterations')\n",
    "plt.show()"
   ]
  },
  {
   "cell_type": "markdown",
   "metadata": {},
   "source": [
    "### Test"
   ]
  },
  {
   "cell_type": "code",
   "execution_count": 1,
   "metadata": {},
   "outputs": [],
   "source": [
    "import matplotlib.pyplot as plt\n",
    "import numpy as np\n",
    "\n",
    "import torch\n",
    "from torch import nn\n",
    "from neural_soga import *"
   ]
  },
  {
   "cell_type": "code",
   "execution_count": 2,
   "metadata": {},
   "outputs": [
    {
     "name": "stderr",
     "output_type": "stream",
     "text": [
      "C:\\Users\\birik\\AppData\\Local\\Temp\\ipykernel_10920\\2284748912.py:6: FutureWarning: You are using `torch.load` with `weights_only=False` (the current default value), which uses the default pickle module implicitly. It is possible to construct malicious pickle data which will execute arbitrary code during unpickling (See https://github.com/pytorch/pytorch/blob/main/SECURITY.md#untrusted-models for more details). In a future release, the default value for `weights_only` will be flipped to `True`. This limits the functions that could be executed during unpickling. Arbitrary objects will no longer be allowed to be loaded via this mode unless they are explicitly allowlisted by the user via `torch.serialization.add_safe_globals`. We recommend you start setting `weights_only=True` for any use case where you don't have full control of the loaded file. Please open an issue on GitHub for any issues related to this experimental feature.\n",
      "  model = torch.load('params/truncNNdim1-1to1.pth')\n"
     ]
    }
   ],
   "source": [
    "ncomp = 1\n",
    "xdim = 1\n",
    "nsamples = 500\n",
    "\n",
    "model = ApproxTruncation(xdim=xdim, num_component_input=ncomp, num_component_output=ncomp, nsamples=nsamples)\n",
    "model = torch.load('params/truncNNdim1-1to1.pth')\n",
    "\n"
   ]
  },
  {
   "cell_type": "code",
   "execution_count": 3,
   "metadata": {
    "id": "Z16G_Ll5UpH9"
   },
   "outputs": [
    {
     "name": "stdout",
     "output_type": "stream",
     "text": [
      "Test params: tensor([1.]) tensor([[4.1265]]) tensor([[[12.3602]]])\n",
      "Pred params: tensor([1.], grad_fn=<DivBackward0>) tensor([[4.4295]], grad_fn=<ReluBackward0>) tensor([[[99.9722]]], grad_fn=<CopySlices>)\n"
     ]
    }
   ],
   "source": [
    "test_weights = torch.rand(ncomp)\n",
    "test_weights = test_weights / test_weights.sum()  # Normalize to sum to 1\n",
    "test_means = torch.empty(ncomp, xdim).uniform_(0, 50)\n",
    "test_covariances = torch.empty(ncomp, xdim, xdim)\n",
    "\n",
    "for j in range(ncomp):\n",
    "  test_covariances[j] = generate_random_covariance(xdim, -5, 5)\n",
    "\n",
    "test_samples = gm_sampling(test_weights, test_means, test_covariances, 500)\n",
    "\n",
    "pi_pred, mu_pred, sigma_pred = model(test_samples)\n",
    "\n",
    "print('Test params:', test_weights, test_means, test_covariances)\n",
    "print('Pred params:', pi_pred, mu_pred, sigma_pred)"
   ]
  },
  {
   "cell_type": "code",
   "execution_count": 4,
   "metadata": {
    "scrolled": true
   },
   "outputs": [
    {
     "name": "stdout",
     "output_type": "stream",
     "text": [
      "imported network\n"
     ]
    },
    {
     "name": "stderr",
     "output_type": "stream",
     "text": [
      "C:\\Users\\birik\\github\\SOGA4SSA\\src\\libSOGAssa.py:196: FutureWarning: You are using `torch.load` with `weights_only=False` (the current default value), which uses the default pickle module implicitly. It is possible to construct malicious pickle data which will execute arbitrary code during unpickling (See https://github.com/pytorch/pytorch/blob/main/SECURITY.md#untrusted-models for more details). In a future release, the default value for `weights_only` will be flipped to `True`. This limits the functions that could be executed during unpickling. Arbitrary objects will no longer be allowed to be loaded via this mode unless they are explicitly allowlisted by the user via `torch.serialization.add_safe_globals`. We recommend you start setting `weights_only=True` for any use case where you don't have full control of the loaded file. Please open an issue on GitHub for any issues related to this experimental feature.\n",
      "  trunc_NN1 = torch.load('params/truncNNdim2-1to1.pth')\n"
     ]
    },
    {
     "data": {
      "text/plain": [
       "(1.0, array([4.92711381]), array([[8.4156375]]))"
      ]
     },
     "execution_count": 4,
     "metadata": {},
     "output_type": "execute_result"
    }
   ],
   "source": [
    "import libSOGA\n",
    "\n",
    "soga_dist = libSOGA.Dist(['x'], libSOGA.GaussianMix(np.array([1.]), [np.array(test_means[0])], [np.array(test_covariances[0])]))\n",
    "_, new_soga_dist = libSOGA.truncate(soga_dist, 'x>0', {})\n",
    "\n",
    "soga_w = new_soga_dist.gm.pi[0]\n",
    "soga_mean = new_soga_dist.gm.mu[0]\n",
    "soga_cov = new_soga_dist.gm.sigma[0]\n",
    "\n",
    "soga_w, soga_mean, soga_cov"
   ]
  },
  {
   "cell_type": "code",
   "execution_count": 6,
   "metadata": {
    "colab": {
     "base_uri": "https://localhost:8080/",
     "height": 615
    },
    "id": "6inaOo-DNr2a",
    "outputId": "a79af969-b31f-465b-de82-2f439645d2c2"
   },
   "outputs": [
    {
     "name": "stdout",
     "output_type": "stream",
     "text": [
      "pred weights =  [1.]\n",
      "pred means =  [[4.42954]]\n",
      "pred covs =  [[[99.9722]]]\n"
     ]
    },
    {
     "data": {
      "image/png": "[encoded data removed]",
      "text/plain": [
       "<Figure size 640x480 with 1 Axes>"
      ]
     },
     "metadata": {},
     "output_type": "display_data"
    }
   ],
   "source": [
    "# Plotting\n",
    "x = np.linspace(-4,100,100)\n",
    "\n",
    "fig, ax = plt.subplots()\n",
    "\n",
    "# Plot the contour of each Gaussian component\n",
    "#for i in range(len(test_weights)):\n",
    "#    z_in = multivariate_gaussian(pos, test_means[i].numpy(), covariances[i].numpy())\n",
    "#    ax.contour(x, y, z_in, levels=5, colors='orange')\n",
    "\n",
    "print('pred weights = ', pi_pred.detach().numpy())\n",
    "print('pred means = ', mu_pred.detach().numpy())\n",
    "print('pred covs = ', sigma_pred.detach().numpy())\n",
    "cc = ['b', 'g']\n",
    "\n",
    "from scipy.stats import norm\n",
    "\n",
    "y_orig = norm.pdf(x, loc=test_means[0].detach().numpy(), scale=np.sqrt(test_covariances[0][0].detach().numpy()))\n",
    "plt.plot(x, y_orig, color='orange', label='original')\n",
    "\n",
    "y_pred = norm.pdf(x, loc=mu_pred[0].detach().numpy(), scale=np.sqrt(sigma_pred[0].detach().numpy()))[0]\n",
    "plt.plot(x, y_pred, color='blue', label='predicted')\n",
    "\n",
    "y_soga = norm.pdf(x, loc=soga_mean[0], scale=np.sqrt(soga_cov[0]))\n",
    "plt.plot(x, y_soga, color='green', label='SOGA')\n",
    "\n",
    "plt.vlines(x = 0, ymin=0, ymax=0.9, color='red')\n",
    "\n",
    "plt.legend()\n",
    "plt.title('Mixture of 1-Dimensional Gaussians')\n",
    "plt.xlabel('X-axis')\n",
    "plt.ylabel('Y-axis')\n",
    "plt.show()"
   ]
  },
  {
   "cell_type": "markdown",
   "metadata": {
    "jp-MarkdownHeadingCollapsed": true
   },
   "source": [
    "# Train Truncation 2 to 2"
   ]
  },
  {
   "cell_type": "markdown",
   "metadata": {},
   "source": [
    "## Dimension 2"
   ]
  },
  {
   "cell_type": "markdown",
   "metadata": {},
   "source": [
    "### Training"
   ]
  },
  {
   "cell_type": "code",
   "execution_count": 8,
   "metadata": {
    "id": "GjJ47qkm7-Lz"
   },
   "outputs": [],
   "source": [
    "nsamples = 500\n",
    "\n",
    "niter = 100000\n",
    "\n",
    "ncomp = 2\n",
    "xdim = 2\n",
    "\n",
    "bounds_mu = [0, 10]\n",
    "bounds_sigma = [-10, 10]\n"
   ]
  },
  {
   "cell_type": "code",
   "execution_count": 9,
   "metadata": {
    "colab": {
     "base_uri": "https://localhost:8080/"
    },
    "id": "4JeYhLom-FMg",
    "outputId": "56fbe95e-9b29-4139-bf24-01d1a13f6a45"
   },
   "outputs": [
    {
     "name": "stdout",
     "output_type": "stream",
     "text": [
      "loss: 331.743469 0.0%\n",
      "loss: 3.054123 1.0%\n",
      "loss: 2.574522 2.0%\n",
      "loss: 2.837376 3.0%\n",
      "loss: 2.398493 4.0%\n",
      "loss: 2.630446 5.0%\n",
      "loss: 2.574900 6.0%\n",
      "loss: 2.697211 7.000000000000001%\n",
      "loss: 2.528661 8.0%\n",
      "loss: 2.145931 9.0%\n",
      "loss: 2.736506 10.0%\n",
      "loss: 2.502836 11.0%\n",
      "loss: 2.539833 12.0%\n",
      "loss: 2.684067 13.0%\n",
      "loss: 2.607018 14.000000000000002%\n",
      "loss: 2.664315 15.0%\n",
      "loss: 2.877844 16.0%\n",
      "loss: 3.037752 17.0%\n",
      "loss: 2.580238 18.0%\n",
      "loss: 2.849550 19.0%\n",
      "loss: 2.741462 20.0%\n",
      "loss: 2.875848 21.0%\n",
      "loss: 2.464997 22.0%\n",
      "loss: 2.717878 23.0%\n",
      "loss: 2.138066 24.0%\n",
      "loss: 2.021704 25.0%\n",
      "loss: 2.223405 26.0%\n",
      "loss: 2.646730 27.0%\n",
      "loss: 2.164281 28.000000000000004%\n",
      "loss: 1.996130 28.999999999999996%\n",
      "loss: 2.574481 30.0%\n",
      "loss: 2.413094 31.0%\n",
      "loss: 1.879542 32.0%\n",
      "loss: 2.204200 33.0%\n",
      "loss: 2.043259 34.0%\n",
      "loss: 2.377090 35.0%\n",
      "loss: 2.708835 36.0%\n",
      "loss: 2.370599 37.0%\n",
      "loss: 2.673440 38.0%\n",
      "loss: 2.431185 39.0%\n",
      "loss: 1.853119 40.0%\n",
      "loss: 2.460469 41.0%\n",
      "loss: 2.703721 42.0%\n",
      "loss: 2.191004 43.0%\n",
      "loss: 2.700709 44.0%\n",
      "loss: 2.411789 45.0%\n",
      "loss: 2.235127 46.0%\n",
      "loss: 2.793802 47.0%\n",
      "loss: 2.917004 48.0%\n",
      "loss: 1.999015 49.0%\n",
      "loss: 2.185768 50.0%\n",
      "loss: 2.582649 51.0%\n",
      "loss: 2.535007 52.0%\n",
      "loss: 2.652058 53.0%\n",
      "loss: 2.904280 54.0%\n",
      "loss: 2.473058 55.00000000000001%\n",
      "loss: 2.578689 56.00000000000001%\n",
      "loss: 2.432784 56.99999999999999%\n",
      "loss: 2.303197 57.99999999999999%\n",
      "loss: 2.607866 59.0%\n",
      "loss: 2.622556 60.0%\n",
      "loss: 2.431646 61.0%\n",
      "loss: 1.821145 62.0%\n",
      "loss: 2.418674 63.0%\n",
      "loss: 2.749690 64.0%\n",
      "loss: 2.830555 65.0%\n",
      "loss: 2.243036 66.0%\n",
      "loss: 2.157229 67.0%\n",
      "loss: 2.525379 68.0%\n",
      "loss: 2.229362 69.0%\n",
      "loss: 1.776311 70.0%\n",
      "loss: 2.709986 71.0%\n",
      "loss: 2.034061 72.0%\n",
      "loss: 2.756579 73.0%\n",
      "loss: 2.611686 74.0%\n",
      "loss: 2.409257 75.0%\n",
      "loss: 2.027034 76.0%\n",
      "loss: 2.577316 77.0%\n",
      "loss: 2.523730 78.0%\n",
      "loss: 2.447175 79.0%\n",
      "loss: 2.244492 80.0%\n",
      "loss: 2.639560 81.0%\n",
      "loss: 2.405759 82.0%\n",
      "loss: 2.304733 83.0%\n",
      "loss: 2.484349 84.0%\n",
      "loss: 1.906201 85.0%\n",
      "loss: 2.092223 86.0%\n",
      "loss: 2.166622 87.0%\n",
      "loss: 2.780188 88.0%\n",
      "loss: 2.742215 89.0%\n",
      "loss: 2.402433 90.0%\n",
      "loss: 3.235729 91.0%\n",
      "loss: 2.464489 92.0%\n",
      "loss: 2.599547 93.0%\n",
      "loss: 2.792042 94.0%\n",
      "loss: 2.625190 95.0%\n",
      "loss: 2.461593 96.0%\n",
      "loss: 2.794072 97.0%\n",
      "loss: 2.250875 98.0%\n",
      "loss: 2.041005 99.0%\n",
      "Done!\n"
     ]
    }
   ],
   "source": [
    "model = ApproxTruncation(xdim=xdim, num_component_input=ncomp, num_component_output=ncomp, nsamples=nsamples, mean_ub= 2)\n",
    "optimizer = torch.optim.Adam(model.parameters(), lr=0.0005)\n",
    "\n",
    "model.train()\n",
    "\n",
    "losses = []\n",
    "for t in range(niter):\n",
    "\n",
    "    optimizer.zero_grad()\n",
    "    weights = torch.rand(ncomp)\n",
    "    weights = weights / weights.sum()  # Normalize to sum to 1\n",
    "    means = torch.empty(ncomp, xdim).uniform_(0, 2)\n",
    "    covariances = torch.empty(ncomp, xdim, xdim)\n",
    "    for j in range(ncomp):\n",
    "      covariances[j] = generate_random_covariance(xdim, -1, 1)\n",
    "\n",
    "    samples = gm_sampling(weights, means, covariances, nsamples)\n",
    "\n",
    "    pi_new, mu_new, sigma_new = model(samples)\n",
    "\n",
    "    loss = loss_function(samples, pi_new, mu_new, sigma_new)\n",
    "\n",
    "\n",
    "    # Backpropagation\n",
    "    loss.backward()\n",
    "    optimizer.step()\n",
    "\n",
    "\n",
    "    if t % 1000 == 0:\n",
    "      tloss = loss.item() #batch * batch_size + len(X)\n",
    "      losses.append(tloss)\n",
    "      print(f\"loss: {tloss:>7f} {t/niter*100}%\")\n",
    "\n",
    "print(\"Done!\")"
   ]
  },
  {
   "cell_type": "code",
   "execution_count": 10,
   "metadata": {},
   "outputs": [],
   "source": [
    "torch.save(model, 'truncNNdim2-2to2.pth')"
   ]
  },
  {
   "cell_type": "code",
   "execution_count": 11,
   "metadata": {
    "id": "b6WgE6WA-Sls"
   },
   "outputs": [],
   "source": [
    "import matplotlib.pyplot as plt\n",
    "import numpy as np"
   ]
  },
  {
   "cell_type": "code",
   "execution_count": 12,
   "metadata": {
    "colab": {
     "base_uri": "https://localhost:8080/",
     "height": 472
    },
    "id": "CCHOSUtEaE1v",
    "outputId": "40155460-c283-4f7e-8b66-297d1d5d7127"
   },
   "outputs": [
    {
     "data": {
      "image/png": "[encoded data removed]",
      "text/plain": [
       "<Figure size 640x480 with 1 Axes>"
      ]
     },
     "metadata": {},
     "output_type": "display_data"
    }
   ],
   "source": [
    "fig = plt.figure()\n",
    "plt.plot(np.arange(len(losses)), losses)\n",
    "plt.title('loss')\n",
    "plt.xlabel('iterations')\n",
    "plt.show()"
   ]
  },
  {
   "cell_type": "markdown",
   "metadata": {},
   "source": [
    "### Test"
   ]
  },
  {
   "cell_type": "code",
   "execution_count": 12,
   "metadata": {},
   "outputs": [],
   "source": [
    "import matplotlib.pyplot as plt\n",
    "import numpy as np\n",
    "\n",
    "#import torch\n",
    "#from torch import nn\n",
    "#from neural_soga import *"
   ]
  },
  {
   "cell_type": "code",
   "execution_count": 13,
   "metadata": {},
   "outputs": [
    {
     "name": "stderr",
     "output_type": "stream",
     "text": [
      "C:\\Users\\birik\\AppData\\Local\\Temp\\ipykernel_10196\\2046160562.py:2: FutureWarning: You are using `torch.load` with `weights_only=False` (the current default value), which uses the default pickle module implicitly. It is possible to construct malicious pickle data which will execute arbitrary code during unpickling (See https://github.com/pytorch/pytorch/blob/main/SECURITY.md#untrusted-models for more details). In a future release, the default value for `weights_only` will be flipped to `True`. This limits the functions that could be executed during unpickling. Arbitrary objects will no longer be allowed to be loaded via this mode unless they are explicitly allowlisted by the user via `torch.serialization.add_safe_globals`. We recommend you start setting `weights_only=True` for any use case where you don't have full control of the loaded file. Please open an issue on GitHub for any issues related to this experimental feature.\n",
      "  model = torch.load('truncNNdim2-2to2.pth')\n"
     ]
    }
   ],
   "source": [
    "model = ApproxTruncation(2)\n",
    "model = torch.load('truncNNdim2-2to2.pth')\n",
    "\n",
    "ncomp = 2\n",
    "xdim = 2"
   ]
  },
  {
   "cell_type": "code",
   "execution_count": 14,
   "metadata": {
    "id": "Z16G_Ll5UpH9"
   },
   "outputs": [
    {
     "name": "stdout",
     "output_type": "stream",
     "text": [
      "Test params: tensor([0.0372, 0.9628]) tensor([[0.0242, 0.7371],\n",
      "        [0.2463, 0.9299]]) tensor([[[1.1992, 0.2920],\n",
      "         [0.2920, 0.7325]],\n",
      "\n",
      "        [[1.5929, 0.5653],\n",
      "         [0.5653, 1.1999]]])\n",
      "Pred params: tensor([0.4976, 0.5024], grad_fn=<DivBackward0>) tensor([[0.5684, 1.2342],\n",
      "        [1.6101, 1.3515]], grad_fn=<MulBackward0>) tensor([[[0.1287, 0.0370],\n",
      "         [0.0370, 1.1023]],\n",
      "\n",
      "        [[0.4584, 0.0834],\n",
      "         [0.0834, 1.2448]]], grad_fn=<CopySlices>)\n"
     ]
    }
   ],
   "source": [
    "test_weights = torch.rand(ncomp)\n",
    "test_weights = test_weights / test_weights.sum()  # Normalize to sum to 1\n",
    "test_means = torch.empty(ncomp, xdim).uniform_(0, 2)\n",
    "test_covariances = torch.empty(ncomp, xdim, xdim)\n",
    "\n",
    "for j in range(ncomp):\n",
    "  test_covariances[j] = generate_random_covariance(xdim, -1, 1)\n",
    "\n",
    "test_samples = gm_sampling(test_weights, test_means, test_covariances, 500)\n",
    "\n",
    "pi_pred, mu_pred, sigma_pred = model(test_samples)\n",
    "\n",
    "print('Test params:', test_weights, test_means, test_covariances)\n",
    "print('Pred params:', pi_pred, mu_pred, sigma_pred)"
   ]
  },
  {
   "cell_type": "code",
   "execution_count": 15,
   "metadata": {
    "scrolled": true
   },
   "outputs": [
    {
     "data": {
      "text/plain": [
       "([0.03294709192722143, 0.9670529080727784],\n",
       " [array([0.88261645, 0.94615463]), array([1.10190715, 1.23359836])],\n",
       " [array([[0.44158887, 0.10752876],\n",
       "         [0.10752876, 0.68761697]]),\n",
       "  array([[0.65003526, 0.23068496],\n",
       "         [0.23068496, 1.08110972]])])"
      ]
     },
     "execution_count": 15,
     "metadata": {},
     "output_type": "execute_result"
    }
   ],
   "source": [
    "import libSOGA\n",
    "\n",
    "soga_dist = libSOGA.Dist(['x','y'], libSOGA.GaussianMix(np.array(test_weights), np.array(test_means), np.array(test_covariances)))\n",
    "_, new_soga_dist = libSOGA.truncate(soga_dist, 'x>0', {})\n",
    "\n",
    "soga_w = new_soga_dist.gm.pi\n",
    "soga_mean = new_soga_dist.gm.mu\n",
    "soga_cov = new_soga_dist.gm.sigma\n",
    "\n",
    "soga_w, soga_mean, soga_cov"
   ]
  },
  {
   "cell_type": "code",
   "execution_count": 21,
   "metadata": {
    "colab": {
     "base_uri": "https://localhost:8080/",
     "height": 615
    },
    "id": "6inaOo-DNr2a",
    "outputId": "a79af969-b31f-465b-de82-2f439645d2c2"
   },
   "outputs": [
    {
     "name": "stderr",
     "output_type": "stream",
     "text": [
      "No artists with labels found to put in legend.  Note that artists whose label start with an underscore are ignored when legend() is called with no argument.\n"
     ]
    },
    {
     "name": "stdout",
     "output_type": "stream",
     "text": [
      "pred weights =  [0.49760675 0.5023932 ]\n",
      "pred means =  [[0.5683624 1.2342285]\n",
      " [1.6100849 1.3514749]]\n",
      "pred covs =  [[[0.12869148 0.03695422]\n",
      "  [0.03695422 1.1023437 ]]\n",
      "\n",
      " [[0.45838362 0.08338016]\n",
      "  [0.08338016 1.2448279 ]]]\n"
     ]
    },
    {
     "data": {
      "image/png": "[encoded data removed]",
      "text/plain": [
       "<Figure size 640x480 with 1 Axes>"
      ]
     },
     "metadata": {},
     "output_type": "display_data"
    }
   ],
   "source": [
    "# Plotting\n",
    "XX = 4\n",
    "x, y = np.meshgrid(np.linspace(-XX, XX, 100), np.linspace(-XX, XX, 100))\n",
    "pos = np.empty(x.shape + (2,))\n",
    "pos[:, :, 0] = x\n",
    "pos[:, :, 1] = y\n",
    "\n",
    "def multivariate_gaussian(pos, mu, Sigma):\n",
    "    n = mu.shape[0]\n",
    "    Sigma_det = np.linalg.det(Sigma)\n",
    "    Sigma_inv = np.linalg.inv(Sigma)\n",
    "    N = np.sqrt((2 * np.pi)**n * Sigma_det)\n",
    "    fac = np.einsum('...k,kl,...l->...', pos - mu, Sigma_inv, pos - mu)\n",
    "    return np.exp(-fac / 2) / N\n",
    "\n",
    "fig, ax = plt.subplots()\n",
    "\n",
    "# Plot the contour of each Gaussian component\n",
    "#for i in range(len(test_weights)):\n",
    "#    z_in = multivariate_gaussian(pos, test_means[i].numpy(), covariances[i].numpy())\n",
    "#    ax.contour(x, y, z_in, levels=5, colors='orange')\n",
    "\n",
    "print('pred weights = ', pi_pred.detach().numpy())\n",
    "print('pred means = ', mu_pred.detach().numpy())\n",
    "print('pred covs = ', sigma_pred.detach().numpy())\n",
    "cc = ['b', 'g']\n",
    "\n",
    "for i in range(len(pi_pred)):\n",
    "    z_out = pi_pred[i].detach().numpy()*multivariate_gaussian(pos, mu_pred[i].detach().numpy(), sigma_pred[i].detach().numpy())\n",
    "    ax.contour(x, y, z_out, levels=5, colors='blue')  # predicted\n",
    "\n",
    "# for i in range(len(test_weights)):\n",
    "    # z_out = multivariate_gaussian(pos, test_means[i].detach().numpy(), test_covariances[i].detach().numpy())\n",
    "    # ax.contour(x, y, z_out, levels=5, colors='orange')   # original\n",
    "\n",
    "for i in range(len(soga_w)):\n",
    "    z_out = soga_w[i]*multivariate_gaussian(pos, soga_mean[i], soga_cov[i])\n",
    "    ax.contour(x, y, z_out, levels=5, colors='green')   # SOGA\n",
    "\n",
    "\n",
    "# Plot the samples\n",
    "ax.scatter(test_samples[:, 0], test_samples[:, 1], s=1, c='orange')\n",
    "plt.legend()\n",
    "plt.title('Mixture of 2-Dimensional Gaussians with Samples')\n",
    "plt.xlabel('X-axis')\n",
    "plt.ylabel('Y-axis')\n",
    "plt.show()"
   ]
  },
  {
   "cell_type": "code",
   "execution_count": null,
   "metadata": {
    "id": "0h371SoCOB95"
   },
   "outputs": [],
   "source": []
  },
  {
   "cell_type": "code",
   "execution_count": null,
   "metadata": {},
   "outputs": [],
   "source": []
  },
  {
   "cell_type": "code",
   "execution_count": null,
   "metadata": {},
   "outputs": [],
   "source": []
  }
 ],
 "metadata": {
  "colab": {
   "provenance": []
  },
  "kernelspec": {
   "display_name": "Python 3 (ipykernel)",
   "language": "python",
   "name": "python3"
  },
  "language_info": {
   "codemirror_mode": {
    "name": "ipython",
    "version": 3
   },
   "file_extension": ".py",
   "mimetype": "text/x-python",
   "name": "python",
   "nbconvert_exporter": "python",
   "pygments_lexer": "ipython3",
   "version": "3.11.5"
  }
 },
 "nbformat": 4,
 "nbformat_minor": 4
}
