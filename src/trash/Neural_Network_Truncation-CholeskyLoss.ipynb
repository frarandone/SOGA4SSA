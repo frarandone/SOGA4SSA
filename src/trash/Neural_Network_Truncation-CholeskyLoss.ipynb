{
 "cells": [
  {
   "cell_type": "code",
   "execution_count": 1,
   "metadata": {
    "colab": {
     "base_uri": "https://localhost:8080/"
    },
    "id": "p3GMcXJW3LFu",
    "outputId": "5a66b92b-3d1f-4c15-cca7-ed78ce2ce9b4"
   },
   "outputs": [
    {
     "data": {
      "text/plain": [
       "<torch._C.Generator at 0x2b1fcfb2850>"
      ]
     },
     "execution_count": 1,
     "metadata": {},
     "output_type": "execute_result"
    }
   ],
   "source": [
    "import torch\n",
    "from torch import nn\n",
    "import torch.distributions as dist\n",
    "import numpy as np\n",
    "\n",
    "torch.manual_seed(0)"
   ]
  },
  {
   "cell_type": "code",
   "execution_count": 2,
   "metadata": {
    "id": "gy_kk2Bbdxd2"
   },
   "outputs": [],
   "source": [
    "POS = 10**(-3)  # try reduce this -> error non-positive definite\n",
    "DIAG = 0.1"
   ]
  },
  {
   "cell_type": "code",
   "execution_count": 3,
   "metadata": {
    "id": "Pg4KD-nS3VTV"
   },
   "outputs": [],
   "source": [
    "class ApproxTruncation(nn.Module):\n",
    "    def __init__(self, xdim, num_component_input=2, num_component_output=2, nsamples=500):\n",
    "        super(ApproxTruncation, self).__init__()\n",
    "        self.num_component_input = num_component_input\n",
    "        self.num_component_output = num_component_output\n",
    "        \n",
    "        self.xdim = xdim\n",
    "        self.out_dim = int(self.num_component_output*(1+self.xdim+self.xdim*(self.xdim+1)/2))   # changed to produce triangular matrices\n",
    "\n",
    "        self.network = nn.Sequential(\n",
    "            nn.Linear(self.xdim, 24),\n",
    "            nn.LeakyReLU(0.2),\n",
    "            nn.Linear(24, 48),\n",
    "            nn.LeakyReLU(0.2),\n",
    "            nn.Linear(48, 48),\n",
    "            nn.LeakyReLU(0.2),\n",
    "            nn.Linear(48,24),\n",
    "            nn.LeakyReLU(0.2),\n",
    "            nn.Linear(24, self.out_dim),\n",
    "        )\n",
    "\n",
    "        self.lay = nn.Linear(nsamples, 1)\n",
    "\n",
    "    def forward(self, samples):\n",
    "\n",
    "        output = self.network(samples)\n",
    "\n",
    "        fl_output = self.lay(output.t())\n",
    "\n",
    "        fl_output = fl_output.reshape((self.num_component_output,-1))\n",
    "\n",
    "        weights = torch.sigmoid(fl_output[:, 0])\n",
    "        weights = weights / weights.sum()\n",
    "        mus = torch.exp(fl_output[:, 1:self.xdim+1])                                                        # put exp instead of relu        \n",
    "        # uses triangular matrices, sigmas is the Cholesky decomposition of the inverse of the covariance matrix\n",
    "        sigmas = torch.zeros((self.num_component_output, self.xdim, self.xdim))                             \n",
    "        for i in range(self.num_component_output):\n",
    "            sigmas[i][np.triu_indices(self.xdim),1] = fl_output[i, self.xdim+1:-self.xdim]\n",
    "            sigmas[i][np.diag_indices(self.xdim)] = torch.exp(fl_output[i, -self.xdim:]) \n",
    "        return weights, mus, sigmas"
   ]
  },
  {
   "cell_type": "code",
   "execution_count": 4,
   "metadata": {
    "id": "S9HCdGlG52W_"
   },
   "outputs": [],
   "source": [
    "EPS = 10**(-6)\n",
    "def loss_function(samples, weights, means, sigmas):\n",
    "\n",
    "    # samples: [n_samples, xdim]\n",
    "    n_samples, xdim = samples.shape\n",
    "\n",
    "    components = weights.shape[0]\n",
    "\n",
    "    loss = torch.tensor(0.)\n",
    "    for i in range(components):\n",
    "        loss += torch.pow(torch.mm((samples - means[i]), sigmas[i]), 2).mean() - torch.sum(torch.log(torch.diag(sigmas[i])))\n",
    "\n",
    "    return loss"
   ]
  },
  {
   "cell_type": "code",
   "execution_count": 5,
   "metadata": {
    "id": "oFzED49k-IIW"
   },
   "outputs": [],
   "source": [
    "def _truncate_samples(samples, dist):\n",
    "    # Iteratively resample until all values are positive\n",
    "    while torch.any(samples < 0):\n",
    "        negative_indices = torch.any(samples < 0,dim=1)\n",
    "        new_samples = dist.sample((negative_indices.sum(),))\n",
    "        samples[negative_indices] = new_samples#[negative_indices]\n",
    "    return samples\n",
    "\n",
    "#def _truncate_samples(samples, dist):\n",
    "#    # Iteratively resample until all values are positive\n",
    "#    while torch.any(samples[:, 0] < 0):\n",
    "#        negative_indices = torch.where(samples[:,0] < 0)[0]\n",
    "#        new_samples = dist.sample((len(negative_indices),))\n",
    "#        samples[negative_indices] = new_samples\n",
    "#    return samples\n",
    "\n",
    "def gm_sampling(pis, mus, sigmas, num_samples):\n",
    "    \n",
    "    gm_distributions = [dist.MultivariateNormal(mus[i], sigmas[i]) for i in range(len(pis))]\n",
    "    \n",
    "    component_choices = torch.multinomial(pis, num_samples, replacement=True)\n",
    "    samples = torch.zeros(num_samples, mus.shape[1])\n",
    "\n",
    "    for i in range(len(pis)):\n",
    "        mask = (component_choices == i)\n",
    "        num_samples_i = mask.sum()\n",
    "        if num_samples_i > 0:\n",
    "            tsamples = gm_distributions[i].sample((num_samples_i,))\n",
    "            samples[mask] = _truncate_samples(tsamples, gm_distributions[i])\n",
    "            #samples[mask] = gm_distributions[i].sample((num_samples_i,))\n",
    "    return samples"
   ]
  },
  {
   "cell_type": "code",
   "execution_count": 6,
   "metadata": {
    "id": "vk2woPUMFCqV"
   },
   "outputs": [],
   "source": [
    "def generate_random_covariance(dim, lb, ub):\n",
    "    #A = torch.empty(dim, dim).uniform_(lb, ub)\n",
    "    \n",
    "    # generate triangular\n",
    "    A = torch.zeros((dim, dim))\n",
    "    A[np.triu_indices(dim,1)] = torch.empty(int(dim*(dim-1)/2)).uniform_(lb, ub)\n",
    "    A[np.diag_indices(dim)] = torch.empty(dim).uniform_(DIAG, ub) #strictly positive diagonal\n",
    "    \n",
    "    cov_matrix = torch.rand(1)*torch.mm(A, A.t())  # Make it symmetric and semi-definite, added multiplicative factor to make the range vary\n",
    "    #cov_matrix += POS*torch.eye(dim)  # Make it positive definite\n",
    "\n",
    "    return cov_matrix"
   ]
  },
  {
   "cell_type": "markdown",
   "metadata": {},
   "source": [
    "## Dimension 2"
   ]
  },
  {
   "cell_type": "markdown",
   "metadata": {},
   "source": [
    "### Training"
   ]
  },
  {
   "cell_type": "code",
   "execution_count": 7,
   "metadata": {
    "id": "GjJ47qkm7-Lz"
   },
   "outputs": [],
   "source": [
    "# number of samples generated per gaussian mixture during training\n",
    "nsamples = 1000   # increased number of samples   \n",
    "# number of gaussian mixtures seen during training\n",
    "niter = 150000\n",
    "\n",
    "ncomp = 1\n",
    "xdim = 2\n",
    "\n",
    "lb_mu = 0\n",
    "ub_mu = 10\n",
    "lb_sigma = -5\n",
    "ub_sigma = 5\n"
   ]
  },
  {
   "cell_type": "code",
   "execution_count": 8,
   "metadata": {
    "colab": {
     "base_uri": "https://localhost:8080/"
    },
    "id": "4JeYhLom-FMg",
    "outputId": "56fbe95e-9b29-4139-bf24-01d1a13f6a45"
   },
   "outputs": [
    {
     "name": "stderr",
     "output_type": "stream",
     "text": [
      "C:\\Users\\birik\\AppData\\Local\\Temp\\ipykernel_16920\\3624939494.py:38: UserWarning: Creating a tensor from a list of numpy.ndarrays is extremely slow. Please consider converting the list to a single numpy.ndarray with numpy.array() before converting to a tensor. (Triggered internally at C:\\cb\\pytorch_1000000000000\\work\\torch\\csrc\\utils\\tensor_new.cpp:281.)\n",
      "  sigmas[i][np.triu_indices(self.xdim),1] = fl_output[i, self.xdim+1:-self.xdim]\n"
     ]
    },
    {
     "name": "stdout",
     "output_type": "stream",
     "text": [
      "loss: 21.289640 0.0%\n",
      "generated tensor([[6.9881, 2.2450]]) tensor([[[ 6.8767, -4.2400],\n",
      "         [-4.2400,  8.2459]]])\n",
      "predicted tensor([[1.0781, 1.0878]], grad_fn=<ExpBackward0>) tensor([[1.0269, 0.0365],\n",
      "        [0.0365, 1.0395]], grad_fn=<LinalgInvExBackward0>)\n",
      "loss: 4.638724 0.667%\n",
      "loss: 3.203441 1.333%\n",
      "loss: 3.277957 2.0%\n",
      "loss: 2.959525 2.667%\n",
      "loss: 4.593286 3.333%\n",
      "loss: 4.526948 4.0%\n",
      "loss: 2.544975 4.667%\n",
      "loss: 3.043291 5.333%\n",
      "loss: 2.110496 6.0%\n",
      "loss: 2.433163 6.667%\n",
      "generated tensor([[9.6002, 4.0019]]) tensor([[[7.7924, 2.2870],\n",
      "         [2.2870, 0.7430]]])\n",
      "predicted tensor([[9.0100, 3.7841]], grad_fn=<ExpBackward0>) tensor([[28.8573,  0.6425],\n",
      "        [ 0.6425,  2.8339]], grad_fn=<LinalgInvExBackward0>)\n",
      "loss: 2.517609 7.333%\n",
      "loss: 1.704430 8.0%\n",
      "loss: 2.056537 8.667%\n",
      "loss: 1.881178 9.333%\n",
      "loss: 3.606593 10.0%\n",
      "loss: 2.158432 10.667%\n",
      "loss: 2.432501 11.333%\n",
      "loss: 2.655386 12.0%\n",
      "loss: 1.996389 12.667%\n",
      "loss: 1.530041 13.333%\n",
      "generated tensor([[1.1002, 4.5299]]) tensor([[[3.6205, 0.2163],\n",
      "         [0.2163, 0.2155]]])\n",
      "predicted tensor([[2.8864, 4.3878]], grad_fn=<ExpBackward0>) tensor([[2.7738, 0.1933],\n",
      "        [0.1933, 2.8660]], grad_fn=<LinalgInvExBackward0>)\n",
      "loss: 2.087189 14.0%\n",
      "loss: 3.046932 14.667%\n",
      "loss: 2.295835 15.333%\n",
      "loss: 3.424623 16.0%\n",
      "loss: 1.645954 16.667%\n",
      "loss: 3.399562 17.333%\n",
      "loss: 1.977066 18.0%\n",
      "loss: 3.421356 18.667%\n",
      "loss: 3.232438 19.333%\n",
      "loss: 2.596861 20.0%\n",
      "generated tensor([[7.7331, 8.2413]]) tensor([[[1.7396, 1.5066],\n",
      "         [1.5066, 6.1807]]])\n",
      "predicted tensor([[8.0461, 8.3573]], grad_fn=<ExpBackward0>) tensor([[8.8549, 1.2991],\n",
      "        [1.2991, 3.6438]], grad_fn=<LinalgInvExBackward0>)\n",
      "loss: 1.138562 20.667%\n",
      "loss: 1.841482 21.333%\n",
      "loss: 2.367461 22.0%\n",
      "loss: 2.727009 22.667%\n",
      "loss: 2.346867 23.333%\n",
      "loss: 1.290465 24.0%\n",
      "loss: 2.884084 24.667%\n",
      "loss: 2.673284 25.333%\n",
      "loss: 2.147322 26.0%\n",
      "loss: 1.351588 26.667%\n",
      "generated tensor([[2.6032, 4.3039]]) tensor([[[ 0.6534, -0.4219],\n",
      "         [-0.4219,  1.0955]]])\n",
      "predicted tensor([[2.9451, 4.3912]], grad_fn=<ExpBackward0>) tensor([[2.9646, 0.1549],\n",
      "        [0.1549, 2.5267]], grad_fn=<LinalgInvExBackward0>)\n",
      "loss: 2.826210 27.333%\n",
      "loss: 1.506466 28.0%\n",
      "loss: 2.384326 28.667%\n",
      "loss: 1.392809 29.333%\n",
      "loss: 1.984637 30.0%\n",
      "loss: 1.827750 30.667%\n",
      "loss: 2.235411 31.333%\n",
      "loss: 3.624523 32.0%\n",
      "loss: 2.341863 32.667%\n",
      "loss: 2.319317 33.333%\n",
      "generated tensor([[5.4537, 8.9964]]) tensor([[[ 2.3475, -0.0092],\n",
      "         [-0.0092,  4.1581]]])\n",
      "predicted tensor([[5.1863, 8.2468]], grad_fn=<ExpBackward0>) tensor([[5.1751, 0.3281],\n",
      "        [0.3281, 3.9664]], grad_fn=<LinalgInvExBackward0>)\n",
      "loss: 2.409164 34.0%\n",
      "loss: 1.992878 34.667%\n",
      "loss: 3.210474 35.333%\n",
      "loss: 1.774102 36.0%\n",
      "loss: 4.121684 36.667%\n",
      "loss: 1.599016 37.333%\n",
      "loss: 2.324958 38.0%\n",
      "loss: 2.984591 38.667%\n",
      "loss: 2.531925 39.333%\n",
      "loss: 2.076367 40.0%\n",
      "generated tensor([[7.3183, 6.6421]]) tensor([[[ 6.7241, -0.0591],\n",
      "         [-0.0591,  0.0104]]])\n",
      "predicted tensor([[7.3110, 6.6902]], grad_fn=<ExpBackward0>) tensor([[7.1393, 0.8036],\n",
      "        [0.8036, 3.2414]], grad_fn=<LinalgInvExBackward0>)\n",
      "loss: 2.880163 40.667%\n",
      "loss: 1.859288 41.333%\n",
      "loss: 1.229372 42.0%\n",
      "loss: 2.962932 42.667%\n",
      "loss: 3.969850 43.333%\n",
      "loss: 1.953422 44.0%\n",
      "loss: 2.571401 44.667%\n",
      "loss: 2.610695 45.333%\n",
      "loss: 3.356808 46.0%\n",
      "loss: 2.610667 46.667%\n",
      "generated tensor([[4.1708, 6.4411]]) tensor([[[15.2098, -1.1636],\n",
      "         [-1.1636,  1.6474]]])\n",
      "predicted tensor([[4.7929, 6.3241]], grad_fn=<ExpBackward0>) tensor([[ 5.1446, -0.1318],\n",
      "        [-0.1318,  3.2918]], grad_fn=<LinalgInvExBackward0>)\n",
      "loss: 2.018863 47.333%\n",
      "loss: 4.210035 48.0%\n",
      "loss: 2.480154 48.667%\n",
      "loss: 1.978760 49.333%\n",
      "loss: 2.863677 50.0%\n",
      "loss: 2.786984 50.667%\n",
      "loss: 1.946218 51.333%\n",
      "loss: 1.588936 52.0%\n",
      "loss: 1.370080 52.667%\n",
      "loss: 3.091998 53.333%\n",
      "generated tensor([[2.6379, 5.1556]]) tensor([[[11.9685, 10.1177],\n",
      "         [10.1177, 10.2491]]])\n",
      "predicted tensor([[3.7777, 6.0554]], grad_fn=<ExpBackward0>) tensor([[3.9886, 0.3145],\n",
      "        [0.3145, 2.8639]], grad_fn=<LinalgInvExBackward0>)\n",
      "loss: 2.193576 54.0%\n",
      "loss: 3.301655 54.667%\n",
      "loss: 1.697734 55.333%\n",
      "loss: 1.917777 56.0%\n",
      "loss: 3.938960 56.667%\n",
      "loss: 1.714833 57.333%\n",
      "loss: 3.257244 58.0%\n",
      "loss: 2.442147 58.667%\n",
      "loss: 3.060155 59.333%\n",
      "loss: 2.696431 60.0%\n",
      "generated tensor([[3.3682, 7.8754]]) tensor([[[15.9966,  6.1561],\n",
      "         [ 6.1561,  3.3278]]])\n",
      "predicted tensor([[4.6486, 8.5019]], grad_fn=<ExpBackward0>) tensor([[5.3305, 0.3328],\n",
      "        [0.3328, 4.1975]], grad_fn=<LinalgInvExBackward0>)\n",
      "loss: 1.784113 60.667%\n",
      "loss: 2.020847 61.333%\n",
      "loss: 1.885005 62.0%\n",
      "loss: 1.070669 62.667%\n",
      "loss: 2.120935 63.333%\n",
      "loss: 1.824861 64.0%\n",
      "loss: 2.539128 64.667%\n",
      "loss: 3.156321 65.333%\n",
      "loss: 0.896906 66.0%\n",
      "loss: 1.937599 66.667%\n",
      "generated tensor([[8.2585, 0.5022]]) tensor([[[ 9.3495, -0.6317],\n",
      "         [-0.6317,  0.0631]]])\n",
      "predicted tensor([[7.6402, 0.9637]], grad_fn=<ExpBackward0>) tensor([[ 7.2803, -0.6045],\n",
      "        [-0.6045,  1.7103]], grad_fn=<LinalgInvExBackward0>)\n",
      "loss: 0.941539 67.333%\n",
      "loss: 2.525629 68.0%\n",
      "loss: 2.439415 68.667%\n",
      "loss: 2.407696 69.333%\n",
      "loss: 2.685158 70.0%\n",
      "loss: 1.966206 70.667%\n",
      "loss: 3.537669 71.333%\n",
      "loss: 2.158178 72.0%\n",
      "loss: 1.276002 72.667%\n",
      "loss: 3.286861 73.333%\n",
      "generated tensor([[1.8754, 3.3569]]) tensor([[[ 6.7490,  3.4891],\n",
      "         [ 3.4891, 10.8422]]])\n",
      "predicted tensor([[2.9885, 3.8201]], grad_fn=<ExpBackward0>) tensor([[3.4114, 0.2041],\n",
      "        [0.2041, 2.0366]], grad_fn=<LinalgInvExBackward0>)\n",
      "loss: 1.297378 74.0%\n",
      "loss: 1.159597 74.667%\n",
      "loss: 3.443953 75.333%\n",
      "loss: 1.801710 76.0%\n",
      "loss: 2.175575 76.667%\n",
      "loss: 3.053647 77.333%\n",
      "loss: 1.120607 78.0%\n",
      "loss: 3.637242 78.667%\n",
      "loss: 1.995367 79.333%\n",
      "loss: 2.134168 80.0%\n",
      "generated tensor([[0.3399, 7.4341]]) tensor([[[13.9556, -2.0873],\n",
      "         [-2.0873,  1.4412]]])\n",
      "predicted tensor([[2.7108, 6.9201]], grad_fn=<ExpBackward0>) tensor([[ 3.7184, -0.6685],\n",
      "        [-0.6685,  2.9515]], grad_fn=<LinalgInvExBackward0>)\n",
      "loss: 2.197536 80.667%\n",
      "loss: 1.378903 81.333%\n",
      "loss: 1.862981 82.0%\n",
      "loss: 3.494714 82.667%\n",
      "loss: 4.415252 83.333%\n",
      "loss: 3.592168 84.0%\n",
      "loss: 2.890482 84.667%\n",
      "loss: 1.706836 85.333%\n",
      "loss: 2.424562 86.0%\n",
      "loss: 2.319781 86.667%\n",
      "generated tensor([[1.7133, 7.6563]]) tensor([[[3.3130, 0.7090],\n",
      "         [0.7090, 5.2180]]])\n",
      "predicted tensor([[2.5731, 7.7831]], grad_fn=<ExpBackward0>) tensor([[ 3.9677, -0.9765],\n",
      "        [-0.9765,  3.8646]], grad_fn=<LinalgInvExBackward0>)\n",
      "loss: 1.241454 87.333%\n",
      "loss: 2.218146 88.0%\n",
      "loss: 2.426823 88.667%\n",
      "loss: 2.341861 89.333%\n",
      "loss: 3.251478 90.0%\n",
      "loss: 1.333010 90.667%\n",
      "loss: 3.640307 91.333%\n",
      "loss: 3.072772 92.0%\n",
      "loss: 3.051867 92.667%\n",
      "loss: 2.113396 93.333%\n",
      "generated tensor([[7.2806, 4.3215]]) tensor([[[5.6252, 2.6454],\n",
      "         [2.6454, 1.3750]]])\n",
      "predicted tensor([[7.3425, 4.6181]], grad_fn=<ExpBackward0>) tensor([[7.4976, 0.1530],\n",
      "        [0.1530, 2.8133]], grad_fn=<LinalgInvExBackward0>)\n",
      "loss: 2.970067 94.0%\n",
      "loss: 2.635664 94.667%\n",
      "loss: 2.621870 95.333%\n",
      "loss: 2.325233 96.0%\n",
      "loss: 1.825401 96.667%\n",
      "loss: 2.812090 97.333%\n",
      "loss: 3.868145 98.0%\n",
      "loss: 1.911803 98.667%\n",
      "loss: 2.566833 99.333%\n",
      "Done!\n"
     ]
    }
   ],
   "source": [
    "model = ApproxTruncation(xdim=xdim, num_component_input=ncomp, num_component_output=ncomp, nsamples=nsamples)\n",
    "optimizer = torch.optim.Adam(model.parameters(), lr=0.00001)\n",
    "\n",
    "model.train()\n",
    "\n",
    "losses = []\n",
    "for t in range(niter):\n",
    "\n",
    "    optimizer.zero_grad()\n",
    "    weights = torch.rand(ncomp)\n",
    "    weights = weights / weights.sum()  # Normalize to sum to 1\n",
    "    means = torch.empty(ncomp, xdim).uniform_(lb_mu, ub_mu)\n",
    "    covariances = torch.empty(ncomp, xdim, xdim)\n",
    "    for j in range(ncomp):\n",
    "        covariances[j] = generate_random_covariance(xdim, lb_sigma, ub_sigma)\n",
    "    \n",
    "    samples = gm_sampling(weights, means, covariances, nsamples)\n",
    "\n",
    "    pi_new, mu_new, sigma_new = model(samples)\n",
    "\n",
    "    #components = pi_new.shape[0]\n",
    "    #distributions = [dist.MultivariateNormal(mu_new[i], sigma_new[i]) for i in range(components)]\n",
    "\n",
    "    loss = loss_function(samples, pi_new, mu_new, sigma_new)\n",
    "\n",
    "    # Backpropagation\n",
    "    loss.backward()\n",
    "    optimizer.step()\n",
    "\n",
    "    if t % 1000 == 0:\n",
    "      tloss = loss.item() #batch * batch_size + len(X)\n",
    "      losses.append(tloss)\n",
    "      print(f\"loss: {tloss:>7f} {np.round(t/niter*100,3)}%\")\n",
    "\n",
    "    if t % 10000 == 0:\n",
    "        print('generated', means, covariances)\n",
    "        print('predicted', mu_new, torch.linalg.inv(torch.mm(sigma_new[0].t(), sigma_new[0])))\n",
    "\n",
    "print(\"Done!\")"
   ]
  },
  {
   "cell_type": "code",
   "execution_count": 9,
   "metadata": {},
   "outputs": [],
   "source": [
    "torch.save(model, 'params/truncNNdim2-1to1-cholesky.pth')"
   ]
  },
  {
   "cell_type": "code",
   "execution_count": 10,
   "metadata": {
    "id": "b6WgE6WA-Sls"
   },
   "outputs": [],
   "source": [
    "import matplotlib.pyplot as plt\n",
    "import numpy as np"
   ]
  },
  {
   "cell_type": "code",
   "execution_count": 11,
   "metadata": {
    "colab": {
     "base_uri": "https://localhost:8080/",
     "height": 472
    },
    "id": "CCHOSUtEaE1v",
    "outputId": "40155460-c283-4f7e-8b66-297d1d5d7127"
   },
   "outputs": [
    {
     "data": {
      "image/png": "[encoded data removed]",
      "text/plain": [
       "<Figure size 640x480 with 1 Axes>"
      ]
     },
     "metadata": {},
     "output_type": "display_data"
    }
   ],
   "source": [
    "fig = plt.figure()\n",
    "plt.plot(np.arange(len(losses)), losses)\n",
    "plt.title('loss')\n",
    "plt.xlabel('iterations')\n",
    "#plt.ylim(0,1000)\n",
    "plt.show()"
   ]
  },
  {
   "cell_type": "markdown",
   "metadata": {},
   "source": [
    "### Test"
   ]
  },
  {
   "cell_type": "code",
   "execution_count": 18,
   "metadata": {},
   "outputs": [],
   "source": [
    "import matplotlib.pyplot as plt\n",
    "import numpy as np\n",
    "\n",
    "import torch\n",
    "from torch import nn\n",
    "#from neural_soga import *"
   ]
  },
  {
   "cell_type": "code",
   "execution_count": 19,
   "metadata": {},
   "outputs": [
    {
     "name": "stderr",
     "output_type": "stream",
     "text": [
      "C:\\Users\\birik\\AppData\\Local\\Temp\\ipykernel_16920\\3529814859.py:6: FutureWarning: You are using `torch.load` with `weights_only=False` (the current default value), which uses the default pickle module implicitly. It is possible to construct malicious pickle data which will execute arbitrary code during unpickling (See https://github.com/pytorch/pytorch/blob/main/SECURITY.md#untrusted-models for more details). In a future release, the default value for `weights_only` will be flipped to `True`. This limits the functions that could be executed during unpickling. Arbitrary objects will no longer be allowed to be loaded via this mode unless they are explicitly allowlisted by the user via `torch.serialization.add_safe_globals`. We recommend you start setting `weights_only=True` for any use case where you don't have full control of the loaded file. Please open an issue on GitHub for any issues related to this experimental feature.\n",
      "  model = torch.load('params/truncNNdim2-1to1-cholesky.pth')\n"
     ]
    }
   ],
   "source": [
    "ncomp = 1\n",
    "xdim = 2\n",
    "nsamples = 1000\n",
    "\n",
    "model = ApproxTruncation(xdim=xdim, num_component_input=ncomp, num_component_output=ncomp, nsamples=nsamples)\n",
    "model = torch.load('params/truncNNdim2-1to1-cholesky.pth')"
   ]
  },
  {
   "cell_type": "code",
   "execution_count": 20,
   "metadata": {
    "id": "Z16G_Ll5UpH9"
   },
   "outputs": [
    {
     "name": "stdout",
     "output_type": "stream",
     "text": [
      "Test params: tensor([1.]) tensor([[0.3447, 5.9277]]) tensor([[[ 6.6291,  9.2056],\n",
      "         [ 9.2056, 12.8678]]])\n",
      "Pred params: tensor([1.], grad_fn=<DivBackward0>) tensor([[2.2544, 7.9857]], grad_fn=<ExpBackward0>) tensor([[ 3.8005, -0.8667],\n",
      "        [-0.8667,  3.7418]], grad_fn=<LinalgInvExBackward0>)\n"
     ]
    }
   ],
   "source": [
    "test_weights = torch.rand(ncomp)\n",
    "test_weights = test_weights / test_weights.sum()  # Normalize to sum to 1\n",
    "test_means = torch.empty(ncomp, xdim).uniform_(0, 10)\n",
    "test_covariances = torch.empty(ncomp, xdim, xdim)\n",
    "\n",
    "for j in range(ncomp):\n",
    "  test_covariances[j] = generate_random_covariance(xdim, -5, 5)\n",
    "\n",
    "test_samples = gm_sampling(test_weights, test_means, test_covariances, nsamples)\n",
    "\n",
    "pi_pred, mu_pred, sigma_pred = model(test_samples)\n",
    "\n",
    "print('Test params:', test_weights, test_means, test_covariances)\n",
    "print('Pred params:', pi_pred, mu_pred, torch.linalg.inv(torch.mm(sigma_pred[0].t(), sigma_pred[0])))"
   ]
  },
  {
   "cell_type": "markdown",
   "metadata": {},
   "source": [
    "Consistently overestimates the covariance and the mean estimate is not accurate"
   ]
  },
  {
   "cell_type": "code",
   "execution_count": 21,
   "metadata": {
    "scrolled": true
   },
   "outputs": [
    {
     "data": {
      "text/plain": [
       "(1.0,\n",
       " array([2.18529445, 8.4836386 ]),\n",
       " array([[2.60578774, 3.61847725],\n",
       "        [3.61847725, 5.10907752]]))"
      ]
     },
     "execution_count": 21,
     "metadata": {},
     "output_type": "execute_result"
    }
   ],
   "source": [
    "import libSOGA\n",
    "\n",
    "soga_dist = libSOGA.Dist(['x','y'], libSOGA.GaussianMix(np.array([1.]), [np.array(test_means[0])], [np.array(test_covariances[0])]))\n",
    "_, new_soga_dist = libSOGA.truncate(soga_dist, 'x>0', {})\n",
    "_, new_soga_dist = libSOGA.truncate(new_soga_dist, 'y>0', {})\n",
    "\n",
    "soga_w = new_soga_dist.gm.pi[0]\n",
    "soga_mean = new_soga_dist.gm.mu[0]\n",
    "soga_cov = new_soga_dist.gm.sigma[0]\n",
    "\n",
    "soga_w, soga_mean, soga_cov"
   ]
  },
  {
   "cell_type": "code",
   "execution_count": 22,
   "metadata": {
    "colab": {
     "base_uri": "https://localhost:8080/",
     "height": 615
    },
    "id": "6inaOo-DNr2a",
    "outputId": "a79af969-b31f-465b-de82-2f439645d2c2"
   },
   "outputs": [
    {
     "name": "stdout",
     "output_type": "stream",
     "text": [
      "pred weights =  [1.]\n",
      "pred means =  [[2.2544158 7.9857497]]\n",
      "pred covs =  tensor([[ 3.8005, -0.8667],\n",
      "        [-0.8667,  3.7418]])\n"
     ]
    },
    {
     "data": {
      "image/png": "[encoded data removed]",
      "text/plain": [
       "<Figure size 640x480 with 1 Axes>"
      ]
     },
     "metadata": {},
     "output_type": "display_data"
    }
   ],
   "source": [
    "# Plotting\n",
    "x, y = np.meshgrid(np.linspace(-5, 20, 100), np.linspace(-5, 20, 100))\n",
    "pos = np.empty(x.shape + (2,))\n",
    "pos[:, :, 0] = x\n",
    "pos[:, :, 1] = y\n",
    "\n",
    "def multivariate_gaussian(pos, mu, Sigma):\n",
    "    n = mu.shape[0]\n",
    "    Sigma_det = np.linalg.det(Sigma)\n",
    "    Sigma_inv = np.linalg.inv(Sigma)\n",
    "    N = np.sqrt((2 * np.pi)**n * Sigma_det)\n",
    "    fac = np.einsum('...k,kl,...l->...', pos - mu, Sigma_inv, pos - mu)\n",
    "    return np.exp(-fac / 2) / N\n",
    "\n",
    "fig, ax = plt.subplots()\n",
    "\n",
    "# Plot the contour of each Gaussian component\n",
    "#for i in range(len(test_weights)):\n",
    "#    z_in = multivariate_gaussian(pos, test_means[i].numpy(), covariances[i].numpy())\n",
    "#    ax.contour(x, y, z_in, levels=5, colors='orange')\n",
    "\n",
    "print('pred weights = ', pi_pred.detach().numpy())\n",
    "print('pred means = ', mu_pred.detach().numpy())\n",
    "sigma_pred = sigma_pred.detach()[0]\n",
    "cov_pred = torch.linalg.inv(torch.mm(sigma_pred.t(), sigma_pred))\n",
    "print('pred covs = ', cov_pred)\n",
    "cc = ['b', 'g']\n",
    "for i in range(len(pi_pred)):\n",
    "    z_out = multivariate_gaussian(pos, mu_pred[i].detach().numpy(), cov_pred)\n",
    "    CS_pred = ax.contour(x, y, z_out, levels=5, colors='blue')  # predicted\n",
    "handles_pred, labels_pred = CS_pred.legend_elements('NN');\n",
    "#plt.legend(handles_pred, labels_pred, loc='upper right')\n",
    "    \n",
    "# for i in range(len(test_weights)):\n",
    "    # z_out = multivariate_gaussian(pos, test_means[i].detach().numpy(), test_covariances[i].detach().numpy())\n",
    "    # ax.contour(x, y, z_out, levels=5, colors='orange')   # original\n",
    "    \n",
    "z_out = multivariate_gaussian(pos,soga_mean, soga_cov)\n",
    "CS_soga = ax.contour(x, y, z_out, levels=5, colors='green')   # SOGA\n",
    "handles_soga, labels_soga = CS_soga.legend_elements('SOGA');\n",
    "#plt.legend(handles_pred + handles_soga, labels_pred+labels_soga)\n",
    "\n",
    "# Plot the samples\n",
    "ax.scatter(test_samples[:, 0], test_samples[:, 1], s=1, c='orange')\n",
    "#plt.legend()\n",
    "plt.title('Mixture of 2-Dimensional Gaussians with Samples')\n",
    "plt.xlabel('X-axis')\n",
    "plt.ylabel('Y-axis')\n",
    "\n",
    "plt.savefig('dim2-1to1-truncation.png')\n",
    "\n",
    "plt.show()"
   ]
  },
  {
   "cell_type": "markdown",
   "metadata": {},
   "source": [
    "# Da qui in poi non eseguire"
   ]
  },
  {
   "cell_type": "markdown",
   "metadata": {},
   "source": [
    "# Truncation 1 to 1"
   ]
  },
  {
   "cell_type": "markdown",
   "metadata": {},
   "source": [
    "## Dimension 1 "
   ]
  },
  {
   "cell_type": "markdown",
   "metadata": {},
   "source": [
    "### Training"
   ]
  },
  {
   "cell_type": "code",
   "execution_count": 8,
   "metadata": {
    "id": "GjJ47qkm7-Lz"
   },
   "outputs": [],
   "source": [
    "nsamples = 500\n",
    "niter = 100000\n",
    "\n",
    "ncomp = 1\n",
    "xdim = 1\n",
    "\n",
    "bounds_mu = [0*torch.ones(xdim),100*torch.ones(xdim)]\n",
    "bounds_sigma = [-10*torch.ones(xdim**2), 10*torch.ones(xdim**2)]\n"
   ]
  },
  {
   "cell_type": "code",
   "execution_count": 9,
   "metadata": {
    "colab": {
     "base_uri": "https://localhost:8080/"
    },
    "id": "4JeYhLom-FMg",
    "outputId": "56fbe95e-9b29-4139-bf24-01d1a13f6a45"
   },
   "outputs": [
    {
     "name": "stdout",
     "output_type": "stream",
     "text": [
      "loss: 7.743793 0.0%\n",
      "loss: 0.901091 1.0%\n",
      "loss: 1.074973 2.0%\n",
      "loss: 1.197235 3.0%\n",
      "loss: 0.625462 4.0%\n",
      "loss: 1.060450 5.0%\n",
      "loss: 0.908363 6.0%\n",
      "loss: 1.121251 7.000000000000001%\n",
      "loss: 1.258591 8.0%\n",
      "loss: 0.439639 9.0%\n",
      "loss: 0.975374 10.0%\n",
      "loss: 1.222692 11.0%\n",
      "loss: 0.584660 12.0%\n",
      "loss: 1.417349 13.0%\n",
      "loss: 1.518550 14.000000000000002%\n",
      "loss: 0.933830 15.0%\n",
      "loss: 1.367322 16.0%\n",
      "loss: 1.110824 17.0%\n",
      "loss: 1.318564 18.0%\n",
      "loss: 0.809869 19.0%\n",
      "loss: 0.568222 20.0%\n",
      "loss: 1.246939 21.0%\n",
      "loss: 1.370966 22.0%\n",
      "loss: 1.418361 23.0%\n",
      "loss: 1.143203 24.0%\n",
      "loss: 1.387892 25.0%\n",
      "loss: 0.830561 26.0%\n",
      "loss: 1.181834 27.0%\n",
      "loss: 1.278598 28.000000000000004%\n",
      "loss: 0.593901 28.999999999999996%\n",
      "loss: 1.188691 30.0%\n",
      "loss: 1.243723 31.0%\n",
      "loss: 0.510650 32.0%\n",
      "loss: 1.232209 33.0%\n",
      "loss: 0.821736 34.0%\n",
      "loss: 1.216925 35.0%\n",
      "loss: 1.586242 36.0%\n",
      "loss: 1.503320 37.0%\n",
      "loss: 0.409892 38.0%\n",
      "loss: 1.195214 39.0%\n",
      "loss: 0.969329 40.0%\n",
      "loss: 1.182968 41.0%\n",
      "loss: 1.346014 42.0%\n",
      "loss: 1.036156 43.0%\n",
      "loss: 1.072481 44.0%\n",
      "loss: 1.482658 45.0%\n",
      "loss: 1.024023 46.0%\n",
      "loss: 1.254951 47.0%\n",
      "loss: 1.270205 48.0%\n",
      "loss: 1.253972 49.0%\n",
      "loss: 0.716685 50.0%\n",
      "loss: 0.459140 51.0%\n",
      "loss: 1.140064 52.0%\n",
      "loss: 0.810479 53.0%\n",
      "loss: 0.928661 54.0%\n",
      "loss: 1.273928 55.00000000000001%\n",
      "loss: 1.165091 56.00000000000001%\n",
      "loss: 0.674026 56.99999999999999%\n",
      "loss: 1.044753 57.99999999999999%\n",
      "loss: 1.436022 59.0%\n",
      "loss: 0.860282 60.0%\n",
      "loss: 0.936551 61.0%\n",
      "loss: 0.816316 62.0%\n",
      "loss: 1.097045 63.0%\n",
      "loss: 0.857095 64.0%\n",
      "loss: 0.717619 65.0%\n",
      "loss: 1.176554 66.0%\n",
      "loss: 1.357832 67.0%\n",
      "loss: 1.426563 68.0%\n",
      "loss: 1.316067 69.0%\n",
      "loss: 1.376261 70.0%\n",
      "loss: 1.109878 71.0%\n",
      "loss: 0.987112 72.0%\n",
      "loss: 1.451085 73.0%\n",
      "loss: 1.014501 74.0%\n",
      "loss: 1.139907 75.0%\n",
      "loss: 1.367895 76.0%\n",
      "loss: 0.953302 77.0%\n",
      "loss: 1.282825 78.0%\n",
      "loss: 1.205031 79.0%\n",
      "loss: 1.139761 80.0%\n",
      "loss: 0.652432 81.0%\n",
      "loss: 0.973456 82.0%\n",
      "loss: 0.738335 83.0%\n",
      "loss: 0.702715 84.0%\n",
      "loss: 1.161022 85.0%\n",
      "loss: 0.505771 86.0%\n",
      "loss: 0.939492 87.0%\n",
      "loss: 1.294742 88.0%\n",
      "loss: 0.933464 89.0%\n",
      "loss: 1.186656 90.0%\n",
      "loss: 1.409370 91.0%\n",
      "loss: 1.311013 92.0%\n",
      "loss: 0.939500 93.0%\n",
      "loss: 1.196820 94.0%\n",
      "loss: 1.180624 95.0%\n",
      "loss: 0.873349 96.0%\n",
      "loss: 1.457157 97.0%\n",
      "loss: 0.941881 98.0%\n",
      "loss: 1.142114 99.0%\n",
      "Done!\n"
     ]
    }
   ],
   "source": [
    "model = ApproxTruncation(xdim=xdim, num_component_input=ncomp, num_component_output=ncomp, nsamples=nsamples)\n",
    "optimizer = torch.optim.Adam(model.parameters(), lr=0.0005)\n",
    "\n",
    "model.train()\n",
    "\n",
    "losses = []\n",
    "for t in range(niter):\n",
    "\n",
    "    optimizer.zero_grad()\n",
    "    weights = torch.rand(ncomp)\n",
    "    weights = weights / weights.sum()  # Normalize to sum to 1\n",
    "    means = torch.empty(ncomp, xdim).uniform_(0, 2)\n",
    "    covariances = torch.empty(ncomp, xdim, xdim)\n",
    "    for j in range(ncomp):\n",
    "      covariances[j] = generate_random_covariance(xdim, -1, 1)\n",
    "\n",
    "    samples = gm_sampling(weights, means, covariances, nsamples)\n",
    "\n",
    "    pi_new, mu_new, sigma_new = model(samples)\n",
    "\n",
    "    loss = loss_function(samples, pi_new, mu_new, sigma_new)\n",
    "\n",
    "\n",
    "    # Backpropagation\n",
    "    loss.backward()\n",
    "    optimizer.step()\n",
    "\n",
    "\n",
    "    if t % 1000 == 0:\n",
    "      tloss = loss.item() #batch * batch_size + len(X)\n",
    "      losses.append(tloss)\n",
    "      print(f\"loss: {tloss:>7f} {t/niter*100}%\")\n",
    "\n",
    "print(\"Done!\")"
   ]
  },
  {
   "cell_type": "code",
   "execution_count": 24,
   "metadata": {},
   "outputs": [],
   "source": [
    "torch.save(model, 'params/truncNNdim1-1to1.pth')"
   ]
  },
  {
   "cell_type": "code",
   "execution_count": 25,
   "metadata": {
    "id": "b6WgE6WA-Sls"
   },
   "outputs": [],
   "source": [
    "import matplotlib.pyplot as plt\n",
    "import numpy as np"
   ]
  },
  {
   "cell_type": "code",
   "execution_count": 26,
   "metadata": {
    "colab": {
     "base_uri": "https://localhost:8080/",
     "height": 472
    },
    "id": "CCHOSUtEaE1v",
    "outputId": "40155460-c283-4f7e-8b66-297d1d5d7127"
   },
   "outputs": [
    {
     "data": {
      "image/png": "[encoded data removed]",
      "text/plain": [
       "<Figure size 640x480 with 1 Axes>"
      ]
     },
     "metadata": {},
     "output_type": "display_data"
    }
   ],
   "source": [
    "fig = plt.figure()\n",
    "plt.plot(np.arange(len(losses)), losses)\n",
    "plt.title('loss')\n",
    "plt.xlabel('iterations')\n",
    "plt.show()"
   ]
  },
  {
   "cell_type": "markdown",
   "metadata": {},
   "source": [
    "### Test"
   ]
  },
  {
   "cell_type": "code",
   "execution_count": 1,
   "metadata": {},
   "outputs": [],
   "source": [
    "import matplotlib.pyplot as plt\n",
    "import numpy as np\n",
    "\n",
    "import torch\n",
    "from torch import nn\n",
    "from neural_soga import *"
   ]
  },
  {
   "cell_type": "code",
   "execution_count": 2,
   "metadata": {},
   "outputs": [
    {
     "name": "stderr",
     "output_type": "stream",
     "text": [
      "C:\\Users\\birik\\AppData\\Local\\Temp\\ipykernel_10920\\2284748912.py:6: FutureWarning: You are using `torch.load` with `weights_only=False` (the current default value), which uses the default pickle module implicitly. It is possible to construct malicious pickle data which will execute arbitrary code during unpickling (See https://github.com/pytorch/pytorch/blob/main/SECURITY.md#untrusted-models for more details). In a future release, the default value for `weights_only` will be flipped to `True`. This limits the functions that could be executed during unpickling. Arbitrary objects will no longer be allowed to be loaded via this mode unless they are explicitly allowlisted by the user via `torch.serialization.add_safe_globals`. We recommend you start setting `weights_only=True` for any use case where you don't have full control of the loaded file. Please open an issue on GitHub for any issues related to this experimental feature.\n",
      "  model = torch.load('params/truncNNdim1-1to1.pth')\n"
     ]
    }
   ],
   "source": [
    "ncomp = 1\n",
    "xdim = 1\n",
    "nsamples = 500\n",
    "\n",
    "model = ApproxTruncation(xdim=xdim, num_component_input=ncomp, num_component_output=ncomp, nsamples=nsamples)\n",
    "model = torch.load('params/truncNNdim1-1to1.pth')\n",
    "\n"
   ]
  },
  {
   "cell_type": "code",
   "execution_count": 3,
   "metadata": {
    "id": "Z16G_Ll5UpH9"
   },
   "outputs": [
    {
     "name": "stdout",
     "output_type": "stream",
     "text": [
      "Test params: tensor([1.]) tensor([[4.1265]]) tensor([[[12.3602]]])\n",
      "Pred params: tensor([1.], grad_fn=<DivBackward0>) tensor([[4.4295]], grad_fn=<ReluBackward0>) tensor([[[99.9722]]], grad_fn=<CopySlices>)\n"
     ]
    }
   ],
   "source": [
    "test_weights = torch.rand(ncomp)\n",
    "test_weights = test_weights / test_weights.sum()  # Normalize to sum to 1\n",
    "test_means = torch.empty(ncomp, xdim).uniform_(0, 50)\n",
    "test_covariances = torch.empty(ncomp, xdim, xdim)\n",
    "\n",
    "for j in range(ncomp):\n",
    "  test_covariances[j] = generate_random_covariance(xdim, -5, 5)\n",
    "\n",
    "test_samples = gm_sampling(test_weights, test_means, test_covariances, 500)\n",
    "\n",
    "pi_pred, mu_pred, sigma_pred = model(test_samples)\n",
    "\n",
    "print('Test params:', test_weights, test_means, test_covariances)\n",
    "print('Pred params:', pi_pred, mu_pred, sigma_pred)"
   ]
  },
  {
   "cell_type": "code",
   "execution_count": 4,
   "metadata": {
    "scrolled": true
   },
   "outputs": [
    {
     "name": "stdout",
     "output_type": "stream",
     "text": [
      "imported network\n"
     ]
    },
    {
     "name": "stderr",
     "output_type": "stream",
     "text": [
      "C:\\Users\\birik\\github\\SOGA4SSA\\src\\libSOGAssa.py:196: FutureWarning: You are using `torch.load` with `weights_only=False` (the current default value), which uses the default pickle module implicitly. It is possible to construct malicious pickle data which will execute arbitrary code during unpickling (See https://github.com/pytorch/pytorch/blob/main/SECURITY.md#untrusted-models for more details). In a future release, the default value for `weights_only` will be flipped to `True`. This limits the functions that could be executed during unpickling. Arbitrary objects will no longer be allowed to be loaded via this mode unless they are explicitly allowlisted by the user via `torch.serialization.add_safe_globals`. We recommend you start setting `weights_only=True` for any use case where you don't have full control of the loaded file. Please open an issue on GitHub for any issues related to this experimental feature.\n",
      "  trunc_NN1 = torch.load('params/truncNNdim2-1to1.pth')\n"
     ]
    },
    {
     "data": {
      "text/plain": [
       "(1.0, array([4.92711381]), array([[8.4156375]]))"
      ]
     },
     "execution_count": 4,
     "metadata": {},
     "output_type": "execute_result"
    }
   ],
   "source": [
    "import libSOGA\n",
    "\n",
    "soga_dist = libSOGA.Dist(['x'], libSOGA.GaussianMix(np.array([1.]), [np.array(test_means[0])], [np.array(test_covariances[0])]))\n",
    "_, new_soga_dist = libSOGA.truncate(soga_dist, 'x>0', {})\n",
    "\n",
    "soga_w = new_soga_dist.gm.pi[0]\n",
    "soga_mean = new_soga_dist.gm.mu[0]\n",
    "soga_cov = new_soga_dist.gm.sigma[0]\n",
    "\n",
    "soga_w, soga_mean, soga_cov"
   ]
  },
  {
   "cell_type": "code",
   "execution_count": 6,
   "metadata": {
    "colab": {
     "base_uri": "https://localhost:8080/",
     "height": 615
    },
    "id": "6inaOo-DNr2a",
    "outputId": "a79af969-b31f-465b-de82-2f439645d2c2"
   },
   "outputs": [
    {
     "name": "stdout",
     "output_type": "stream",
     "text": [
      "pred weights =  [1.]\n",
      "pred means =  [[4.42954]]\n",
      "pred covs =  [[[99.9722]]]\n"
     ]
    },
    {
     "data": {
      "image/png": "[encoded data removed]",
      "text/plain": [
       "<Figure size 640x480 with 1 Axes>"
      ]
     },
     "metadata": {},
     "output_type": "display_data"
    }
   ],
   "source": [
    "# Plotting\n",
    "x = np.linspace(-4,100,100)\n",
    "\n",
    "fig, ax = plt.subplots()\n",
    "\n",
    "# Plot the contour of each Gaussian component\n",
    "#for i in range(len(test_weights)):\n",
    "#    z_in = multivariate_gaussian(pos, test_means[i].numpy(), covariances[i].numpy())\n",
    "#    ax.contour(x, y, z_in, levels=5, colors='orange')\n",
    "\n",
    "print('pred weights = ', pi_pred.detach().numpy())\n",
    "print('pred means = ', mu_pred.detach().numpy())\n",
    "print('pred covs = ', sigma_pred.detach().numpy())\n",
    "cc = ['b', 'g']\n",
    "\n",
    "from scipy.stats import norm\n",
    "\n",
    "y_orig = norm.pdf(x, loc=test_means[0].detach().numpy(), scale=np.sqrt(test_covariances[0][0].detach().numpy()))\n",
    "plt.plot(x, y_orig, color='orange', label='original')\n",
    "\n",
    "y_pred = norm.pdf(x, loc=mu_pred[0].detach().numpy(), scale=np.sqrt(sigma_pred[0].detach().numpy()))[0]\n",
    "plt.plot(x, y_pred, color='blue', label='predicted')\n",
    "\n",
    "y_soga = norm.pdf(x, loc=soga_mean[0], scale=np.sqrt(soga_cov[0]))\n",
    "plt.plot(x, y_soga, color='green', label='SOGA')\n",
    "\n",
    "plt.vlines(x = 0, ymin=0, ymax=0.9, color='red')\n",
    "\n",
    "plt.legend()\n",
    "plt.title('Mixture of 1-Dimensional Gaussians')\n",
    "plt.xlabel('X-axis')\n",
    "plt.ylabel('Y-axis')\n",
    "plt.show()"
   ]
  },
  {
   "cell_type": "markdown",
   "metadata": {
    "jp-MarkdownHeadingCollapsed": true
   },
   "source": [
    "# Train Truncation 2 to 2"
   ]
  },
  {
   "cell_type": "markdown",
   "metadata": {},
   "source": [
    "## Dimension 2"
   ]
  },
  {
   "cell_type": "markdown",
   "metadata": {},
   "source": [
    "### Training"
   ]
  },
  {
   "cell_type": "code",
   "execution_count": 8,
   "metadata": {
    "id": "GjJ47qkm7-Lz"
   },
   "outputs": [],
   "source": [
    "nsamples = 500\n",
    "\n",
    "niter = 100000\n",
    "\n",
    "ncomp = 2\n",
    "xdim = 2\n",
    "\n",
    "bounds_mu = [0, 10]\n",
    "bounds_sigma = [-10, 10]\n"
   ]
  },
  {
   "cell_type": "code",
   "execution_count": 9,
   "metadata": {
    "colab": {
     "base_uri": "https://localhost:8080/"
    },
    "id": "4JeYhLom-FMg",
    "outputId": "56fbe95e-9b29-4139-bf24-01d1a13f6a45"
   },
   "outputs": [
    {
     "name": "stdout",
     "output_type": "stream",
     "text": [
      "loss: 331.743469 0.0%\n",
      "loss: 3.054123 1.0%\n",
      "loss: 2.574522 2.0%\n",
      "loss: 2.837376 3.0%\n",
      "loss: 2.398493 4.0%\n",
      "loss: 2.630446 5.0%\n",
      "loss: 2.574900 6.0%\n",
      "loss: 2.697211 7.000000000000001%\n",
      "loss: 2.528661 8.0%\n",
      "loss: 2.145931 9.0%\n",
      "loss: 2.736506 10.0%\n",
      "loss: 2.502836 11.0%\n",
      "loss: 2.539833 12.0%\n",
      "loss: 2.684067 13.0%\n",
      "loss: 2.607018 14.000000000000002%\n",
      "loss: 2.664315 15.0%\n",
      "loss: 2.877844 16.0%\n",
      "loss: 3.037752 17.0%\n",
      "loss: 2.580238 18.0%\n",
      "loss: 2.849550 19.0%\n",
      "loss: 2.741462 20.0%\n",
      "loss: 2.875848 21.0%\n",
      "loss: 2.464997 22.0%\n",
      "loss: 2.717878 23.0%\n",
      "loss: 2.138066 24.0%\n",
      "loss: 2.021704 25.0%\n",
      "loss: 2.223405 26.0%\n",
      "loss: 2.646730 27.0%\n",
      "loss: 2.164281 28.000000000000004%\n",
      "loss: 1.996130 28.999999999999996%\n",
      "loss: 2.574481 30.0%\n",
      "loss: 2.413094 31.0%\n",
      "loss: 1.879542 32.0%\n",
      "loss: 2.204200 33.0%\n",
      "loss: 2.043259 34.0%\n",
      "loss: 2.377090 35.0%\n",
      "loss: 2.708835 36.0%\n",
      "loss: 2.370599 37.0%\n",
      "loss: 2.673440 38.0%\n",
      "loss: 2.431185 39.0%\n",
      "loss: 1.853119 40.0%\n",
      "loss: 2.460469 41.0%\n",
      "loss: 2.703721 42.0%\n",
      "loss: 2.191004 43.0%\n",
      "loss: 2.700709 44.0%\n",
      "loss: 2.411789 45.0%\n",
      "loss: 2.235127 46.0%\n",
      "loss: 2.793802 47.0%\n",
      "loss: 2.917004 48.0%\n",
      "loss: 1.999015 49.0%\n",
      "loss: 2.185768 50.0%\n",
      "loss: 2.582649 51.0%\n",
      "loss: 2.535007 52.0%\n",
      "loss: 2.652058 53.0%\n",
      "loss: 2.904280 54.0%\n",
      "loss: 2.473058 55.00000000000001%\n",
      "loss: 2.578689 56.00000000000001%\n",
      "loss: 2.432784 56.99999999999999%\n",
      "loss: 2.303197 57.99999999999999%\n",
      "loss: 2.607866 59.0%\n",
      "loss: 2.622556 60.0%\n",
      "loss: 2.431646 61.0%\n",
      "loss: 1.821145 62.0%\n",
      "loss: 2.418674 63.0%\n",
      "loss: 2.749690 64.0%\n",
      "loss: 2.830555 65.0%\n",
      "loss: 2.243036 66.0%\n",
      "loss: 2.157229 67.0%\n",
      "loss: 2.525379 68.0%\n",
      "loss: 2.229362 69.0%\n",
      "loss: 1.776311 70.0%\n",
      "loss: 2.709986 71.0%\n",
      "loss: 2.034061 72.0%\n",
      "loss: 2.756579 73.0%\n",
      "loss: 2.611686 74.0%\n",
      "loss: 2.409257 75.0%\n",
      "loss: 2.027034 76.0%\n",
      "loss: 2.577316 77.0%\n",
      "loss: 2.523730 78.0%\n",
      "loss: 2.447175 79.0%\n",
      "loss: 2.244492 80.0%\n",
      "loss: 2.639560 81.0%\n",
      "loss: 2.405759 82.0%\n",
      "loss: 2.304733 83.0%\n",
      "loss: 2.484349 84.0%\n",
      "loss: 1.906201 85.0%\n",
      "loss: 2.092223 86.0%\n",
      "loss: 2.166622 87.0%\n",
      "loss: 2.780188 88.0%\n",
      "loss: 2.742215 89.0%\n",
      "loss: 2.402433 90.0%\n",
      "loss: 3.235729 91.0%\n",
      "loss: 2.464489 92.0%\n",
      "loss: 2.599547 93.0%\n",
      "loss: 2.792042 94.0%\n",
      "loss: 2.625190 95.0%\n",
      "loss: 2.461593 96.0%\n",
      "loss: 2.794072 97.0%\n",
      "loss: 2.250875 98.0%\n",
      "loss: 2.041005 99.0%\n",
      "Done!\n"
     ]
    }
   ],
   "source": [
    "model = ApproxTruncation(xdim=xdim, num_component_input=ncomp, num_component_output=ncomp, nsamples=nsamples, mean_ub= 2)\n",
    "optimizer = torch.optim.Adam(model.parameters(), lr=0.0005)\n",
    "\n",
    "model.train()\n",
    "\n",
    "losses = []\n",
    "for t in range(niter):\n",
    "\n",
    "    optimizer.zero_grad()\n",
    "    weights = torch.rand(ncomp)\n",
    "    weights = weights / weights.sum()  # Normalize to sum to 1\n",
    "    means = torch.empty(ncomp, xdim).uniform_(0, 2)\n",
    "    covariances = torch.empty(ncomp, xdim, xdim)\n",
    "    for j in range(ncomp):\n",
    "      covariances[j] = generate_random_covariance(xdim, -1, 1)\n",
    "\n",
    "    samples = gm_sampling(weights, means, covariances, nsamples)\n",
    "\n",
    "    pi_new, mu_new, sigma_new = model(samples)\n",
    "\n",
    "    loss = loss_function(samples, pi_new, mu_new, sigma_new)\n",
    "\n",
    "\n",
    "    # Backpropagation\n",
    "    loss.backward()\n",
    "    optimizer.step()\n",
    "\n",
    "\n",
    "    if t % 1000 == 0:\n",
    "      tloss = loss.item() #batch * batch_size + len(X)\n",
    "      losses.append(tloss)\n",
    "      print(f\"loss: {tloss:>7f} {t/niter*100}%\")\n",
    "\n",
    "print(\"Done!\")"
   ]
  },
  {
   "cell_type": "code",
   "execution_count": 10,
   "metadata": {},
   "outputs": [],
   "source": [
    "torch.save(model, 'truncNNdim2-2to2.pth')"
   ]
  },
  {
   "cell_type": "code",
   "execution_count": 11,
   "metadata": {
    "id": "b6WgE6WA-Sls"
   },
   "outputs": [],
   "source": [
    "import matplotlib.pyplot as plt\n",
    "import numpy as np"
   ]
  },
  {
   "cell_type": "code",
   "execution_count": 12,
   "metadata": {
    "colab": {
     "base_uri": "https://localhost:8080/",
     "height": 472
    },
    "id": "CCHOSUtEaE1v",
    "outputId": "40155460-c283-4f7e-8b66-297d1d5d7127"
   },
   "outputs": [
    {
     "data": {
      "image/png": "[encoded data removed]",
      "text/plain": [
       "<Figure size 640x480 with 1 Axes>"
      ]
     },
     "metadata": {},
     "output_type": "display_data"
    }
   ],
   "source": [
    "fig = plt.figure()\n",
    "plt.plot(np.arange(len(losses)), losses)\n",
    "plt.title('loss')\n",
    "plt.xlabel('iterations')\n",
    "plt.show()"
   ]
  },
  {
   "cell_type": "markdown",
   "metadata": {},
   "source": [
    "### Test"
   ]
  },
  {
   "cell_type": "code",
   "execution_count": 12,
   "metadata": {},
   "outputs": [],
   "source": [
    "import matplotlib.pyplot as plt\n",
    "import numpy as np\n",
    "\n",
    "#import torch\n",
    "#from torch import nn\n",
    "#from neural_soga import *"
   ]
  },
  {
   "cell_type": "code",
   "execution_count": 13,
   "metadata": {},
   "outputs": [
    {
     "name": "stderr",
     "output_type": "stream",
     "text": [
      "C:\\Users\\birik\\AppData\\Local\\Temp\\ipykernel_10196\\2046160562.py:2: FutureWarning: You are using `torch.load` with `weights_only=False` (the current default value), which uses the default pickle module implicitly. It is possible to construct malicious pickle data which will execute arbitrary code during unpickling (See https://github.com/pytorch/pytorch/blob/main/SECURITY.md#untrusted-models for more details). In a future release, the default value for `weights_only` will be flipped to `True`. This limits the functions that could be executed during unpickling. Arbitrary objects will no longer be allowed to be loaded via this mode unless they are explicitly allowlisted by the user via `torch.serialization.add_safe_globals`. We recommend you start setting `weights_only=True` for any use case where you don't have full control of the loaded file. Please open an issue on GitHub for any issues related to this experimental feature.\n",
      "  model = torch.load('truncNNdim2-2to2.pth')\n"
     ]
    }
   ],
   "source": [
    "model = ApproxTruncation(2)\n",
    "model = torch.load('truncNNdim2-2to2.pth')\n",
    "\n",
    "ncomp = 2\n",
    "xdim = 2"
   ]
  },
  {
   "cell_type": "code",
   "execution_count": 14,
   "metadata": {
    "id": "Z16G_Ll5UpH9"
   },
   "outputs": [
    {
     "name": "stdout",
     "output_type": "stream",
     "text": [
      "Test params: tensor([0.0372, 0.9628]) tensor([[0.0242, 0.7371],\n",
      "        [0.2463, 0.9299]]) tensor([[[1.1992, 0.2920],\n",
      "         [0.2920, 0.7325]],\n",
      "\n",
      "        [[1.5929, 0.5653],\n",
      "         [0.5653, 1.1999]]])\n",
      "Pred params: tensor([0.4976, 0.5024], grad_fn=<DivBackward0>) tensor([[0.5684, 1.2342],\n",
      "        [1.6101, 1.3515]], grad_fn=<MulBackward0>) tensor([[[0.1287, 0.0370],\n",
      "         [0.0370, 1.1023]],\n",
      "\n",
      "        [[0.4584, 0.0834],\n",
      "         [0.0834, 1.2448]]], grad_fn=<CopySlices>)\n"
     ]
    }
   ],
   "source": [
    "test_weights = torch.rand(ncomp)\n",
    "test_weights = test_weights / test_weights.sum()  # Normalize to sum to 1\n",
    "test_means = torch.empty(ncomp, xdim).uniform_(0, 2)\n",
    "test_covariances = torch.empty(ncomp, xdim, xdim)\n",
    "\n",
    "for j in range(ncomp):\n",
    "  test_covariances[j] = generate_random_covariance(xdim, -1, 1)\n",
    "\n",
    "test_samples = gm_sampling(test_weights, test_means, test_covariances, 500)\n",
    "\n",
    "pi_pred, mu_pred, sigma_pred = model(test_samples)\n",
    "\n",
    "print('Test params:', test_weights, test_means, test_covariances)\n",
    "print('Pred params:', pi_pred, mu_pred, sigma_pred)"
   ]
  },
  {
   "cell_type": "code",
   "execution_count": 15,
   "metadata": {
    "scrolled": true
   },
   "outputs": [
    {
     "data": {
      "text/plain": [
       "([0.03294709192722143, 0.9670529080727784],\n",
       " [array([0.88261645, 0.94615463]), array([1.10190715, 1.23359836])],\n",
       " [array([[0.44158887, 0.10752876],\n",
       "         [0.10752876, 0.68761697]]),\n",
       "  array([[0.65003526, 0.23068496],\n",
       "         [0.23068496, 1.08110972]])])"
      ]
     },
     "execution_count": 15,
     "metadata": {},
     "output_type": "execute_result"
    }
   ],
   "source": [
    "import libSOGA\n",
    "\n",
    "soga_dist = libSOGA.Dist(['x','y'], libSOGA.GaussianMix(np.array(test_weights), np.array(test_means), np.array(test_covariances)))\n",
    "_, new_soga_dist = libSOGA.truncate(soga_dist, 'x>0', {})\n",
    "\n",
    "soga_w = new_soga_dist.gm.pi\n",
    "soga_mean = new_soga_dist.gm.mu\n",
    "soga_cov = new_soga_dist.gm.sigma\n",
    "\n",
    "soga_w, soga_mean, soga_cov"
   ]
  },
  {
   "cell_type": "code",
   "execution_count": 21,
   "metadata": {
    "colab": {
     "base_uri": "https://localhost:8080/",
     "height": 615
    },
    "id": "6inaOo-DNr2a",
    "outputId": "a79af969-b31f-465b-de82-2f439645d2c2"
   },
   "outputs": [
    {
     "name": "stderr",
     "output_type": "stream",
     "text": [
      "No artists with labels found to put in legend.  Note that artists whose label start with an underscore are ignored when legend() is called with no argument.\n"
     ]
    },
    {
     "name": "stdout",
     "output_type": "stream",
     "text": [
      "pred weights =  [0.49760675 0.5023932 ]\n",
      "pred means =  [[0.5683624 1.2342285]\n",
      " [1.6100849 1.3514749]]\n",
      "pred covs =  [[[0.12869148 0.03695422]\n",
      "  [0.03695422 1.1023437 ]]\n",
      "\n",
      " [[0.45838362 0.08338016]\n",
      "  [0.08338016 1.2448279 ]]]\n"
     ]
    },
    {
     "data": {
      "image/png": "[encoded data removed]",
      "text/plain": [
       "<Figure size 640x480 with 1 Axes>"
      ]
     },
     "metadata": {},
     "output_type": "display_data"
    }
   ],
   "source": [
    "# Plotting\n",
    "XX = 4\n",
    "x, y = np.meshgrid(np.linspace(-XX, XX, 100), np.linspace(-XX, XX, 100))\n",
    "pos = np.empty(x.shape + (2,))\n",
    "pos[:, :, 0] = x\n",
    "pos[:, :, 1] = y\n",
    "\n",
    "def multivariate_gaussian(pos, mu, Sigma):\n",
    "    n = mu.shape[0]\n",
    "    Sigma_det = np.linalg.det(Sigma)\n",
    "    Sigma_inv = np.linalg.inv(Sigma)\n",
    "    N = np.sqrt((2 * np.pi)**n * Sigma_det)\n",
    "    fac = np.einsum('...k,kl,...l->...', pos - mu, Sigma_inv, pos - mu)\n",
    "    return np.exp(-fac / 2) / N\n",
    "\n",
    "fig, ax = plt.subplots()\n",
    "\n",
    "# Plot the contour of each Gaussian component\n",
    "#for i in range(len(test_weights)):\n",
    "#    z_in = multivariate_gaussian(pos, test_means[i].numpy(), covariances[i].numpy())\n",
    "#    ax.contour(x, y, z_in, levels=5, colors='orange')\n",
    "\n",
    "print('pred weights = ', pi_pred.detach().numpy())\n",
    "print('pred means = ', mu_pred.detach().numpy())\n",
    "print('pred covs = ', sigma_pred.detach().numpy())\n",
    "cc = ['b', 'g']\n",
    "\n",
    "for i in range(len(pi_pred)):\n",
    "    z_out = pi_pred[i].detach().numpy()*multivariate_gaussian(pos, mu_pred[i].detach().numpy(), sigma_pred[i].detach().numpy())\n",
    "    ax.contour(x, y, z_out, levels=5, colors='blue')  # predicted\n",
    "\n",
    "# for i in range(len(test_weights)):\n",
    "    # z_out = multivariate_gaussian(pos, test_means[i].detach().numpy(), test_covariances[i].detach().numpy())\n",
    "    # ax.contour(x, y, z_out, levels=5, colors='orange')   # original\n",
    "\n",
    "for i in range(len(soga_w)):\n",
    "    z_out = soga_w[i]*multivariate_gaussian(pos, soga_mean[i], soga_cov[i])\n",
    "    ax.contour(x, y, z_out, levels=5, colors='green')   # SOGA\n",
    "\n",
    "\n",
    "# Plot the samples\n",
    "ax.scatter(test_samples[:, 0], test_samples[:, 1], s=1, c='orange')\n",
    "plt.legend()\n",
    "plt.title('Mixture of 2-Dimensional Gaussians with Samples')\n",
    "plt.xlabel('X-axis')\n",
    "plt.ylabel('Y-axis')\n",
    "plt.show()"
   ]
  },
  {
   "cell_type": "code",
   "execution_count": null,
   "metadata": {
    "id": "0h371SoCOB95"
   },
   "outputs": [],
   "source": []
  },
  {
   "cell_type": "code",
   "execution_count": null,
   "metadata": {},
   "outputs": [],
   "source": []
  },
  {
   "cell_type": "code",
   "execution_count": null,
   "metadata": {},
   "outputs": [],
   "source": []
  }
 ],
 "metadata": {
  "colab": {
   "provenance": []
  },
  "kernelspec": {
   "display_name": "Python 3 (ipykernel)",
   "language": "python",
   "name": "python3"
  },
  "language_info": {
   "codemirror_mode": {
    "name": "ipython",
    "version": 3
   },
   "file_extension": ".py",
   "mimetype": "text/x-python",
   "name": "python",
   "nbconvert_exporter": "python",
   "pygments_lexer": "ipython3",
   "version": "3.11.5"
  }
 },
 "nbformat": 4,
 "nbformat_minor": 4
}
