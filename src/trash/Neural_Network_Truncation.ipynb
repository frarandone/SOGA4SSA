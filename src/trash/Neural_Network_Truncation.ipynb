{
 "cells": [
  {
   "cell_type": "markdown",
   "metadata": {},
   "source": [
    "Possiamo imparare solo matrici diagonali? Guardare Mixture density networks"
   ]
  },
  {
   "cell_type": "code",
   "execution_count": 1,
   "metadata": {
    "colab": {
     "base_uri": "https://localhost:8080/"
    },
    "id": "p3GMcXJW3LFu",
    "outputId": "5a66b92b-3d1f-4c15-cca7-ed78ce2ce9b4",
    "scrolled": true
   },
   "outputs": [
    {
     "data": {
      "text/plain": [
       "<torch._C.Generator at 0x1b27f20e850>"
      ]
     },
     "execution_count": 1,
     "metadata": {},
     "output_type": "execute_result"
    }
   ],
   "source": [
    "import torch\n",
    "from torch import nn\n",
    "import torch.distributions as dist\n",
    "import numpy as np\n",
    "\n",
    "torch.manual_seed(0)"
   ]
  },
  {
   "cell_type": "code",
   "execution_count": 2,
   "metadata": {
    "id": "gy_kk2Bbdxd2"
   },
   "outputs": [],
   "source": [
    "POS = 10**(-3)  # try reduce this -> error non-positive definite\n",
    "DIAG = 0.1"
   ]
  },
  {
   "cell_type": "code",
   "execution_count": 3,
   "metadata": {
    "id": "Pg4KD-nS3VTV"
   },
   "outputs": [],
   "source": [
    "class ApproxTruncation(nn.Module):\n",
    "    def __init__(self, xdim, num_component_input=2, num_component_output=2, nsamples=500):\n",
    "        super(ApproxTruncation, self).__init__()\n",
    "        self.num_component_input = num_component_input\n",
    "        self.num_component_output = num_component_output\n",
    "        \n",
    "        self.xdim = xdim\n",
    "        self.out_dim = int(self.num_component_output*(1+self.xdim+self.xdim*(self.xdim+1)/2))   # changed to produce triangular matrices\n",
    "\n",
    "        self.network = nn.Sequential(\n",
    "            nn.Linear(self.xdim, 24),\n",
    "            nn.LeakyReLU(0.2),\n",
    "            nn.Linear(24, 48),\n",
    "            nn.LeakyReLU(0.2),\n",
    "            nn.Linear(48, 48),\n",
    "            nn.LeakyReLU(0.2),\n",
    "            nn.Linear(48,24),\n",
    "            nn.LeakyReLU(0.2),\n",
    "            nn.Linear(24, self.out_dim),\n",
    "        )\n",
    "\n",
    "        self.lay = nn.Linear(nsamples, 1)\n",
    "\n",
    "    def forward(self, samples):\n",
    "\n",
    "        output = self.network(samples)\n",
    "\n",
    "        fl_output = self.lay(output.t())\n",
    "\n",
    "        fl_output = fl_output.reshape((self.num_component_output,-1))\n",
    "\n",
    "        weights = torch.sigmoid(fl_output[:, 0])\n",
    "        weights = weights / weights.sum()\n",
    "        mus = torch.exp(fl_output[:, 1:self.xdim+1])                                                        # put exp instead of relu\n",
    "        #sigmas = fl_output[:, self.xdim+1:].reshape((self.num_component_output, self.xdim, self.xdim))     # put no act or x^(1/3)\n",
    "        \n",
    "        # uses triangular matrices\n",
    "        sigmas = torch.zeros((self.num_component_output, self.xdim, self.xdim))\n",
    "        covs = torch.zeros((self.num_component_output, self.xdim, self.xdim))      \n",
    "        for i in range(self.num_component_output):\n",
    "            sigmas[i][np.triu_indices(self.xdim),1] = fl_output[i, self.xdim+1:-self.xdim]\n",
    "            sigmas[i][np.diag_indices(self.xdim)] = torch.relu(fl_output[i, -self.xdim:]) + DIAG\n",
    "            covs[i] = torch.mm(sigmas[i],sigmas[i].t()) #+ POS*torch.eye(self.xdim)\n",
    "                              \n",
    "        #covs = torch.empty_like(sigmas)\n",
    "        #for i in range(self.num_component_output):\n",
    "          #covs[i] = torch.mm(sigmas[i],sigmas[i].t())+self.xdim * torch.eye(self.xdim)\n",
    "          #covs[i] = torch.mm(sigmas[i],sigmas[i].t()) + POS*torch.eye(self.xdim)\n",
    "\n",
    "        return weights, mus, sigmas"
   ]
  },
  {
   "cell_type": "code",
   "execution_count": 4,
   "metadata": {
    "id": "S9HCdGlG52W_"
   },
   "outputs": [],
   "source": [
    "EPS = 10**(-6)\n",
    "def loss_function(samples, weights, means, covariances):\n",
    "\n",
    "    # samples: [n_samples, xdim]\n",
    "    n_samples, xdim = samples.shape\n",
    "\n",
    "    components = weights.shape[0]\n",
    "\n",
    "    #Generate the gaussian mixture\n",
    "    distributions = [dist.MultivariateNormal(means[i], covariances[i]) for i in range(components)]\n",
    "        \n",
    "    log_probs = torch.zeros(samples.shape[0], components)\n",
    "    \n",
    "    for i in range(components):\n",
    "        log_probs[:, i] = distributions[i].log_prob(samples) + torch.log(weights[i]+EPS)   \n",
    "\n",
    "    # Log-sum-exp for numerical stability\n",
    "    max_log_probs, _ = torch.max(log_probs, dim=1, keepdim=True)\n",
    "    log_probs = torch.log(torch.sum(torch.exp(log_probs - max_log_probs), dim=1)) + max_log_probs.squeeze()\n",
    "\n",
    "    return -log_probs.mean() + torch.sum(torch.pow(torch.mean(samples, dim=0) - means, 2)) + torch.sum(torch.pow(covariances, 2))"
   ]
  },
  {
   "cell_type": "code",
   "execution_count": 5,
   "metadata": {
    "id": "oFzED49k-IIW"
   },
   "outputs": [],
   "source": [
    "def _truncate_samples(samples, dist):\n",
    "    # Iteratively resample until all values are positive\n",
    "    while torch.any(samples < 0):\n",
    "        negative_indices = torch.any(samples < 0,dim=1)\n",
    "        new_samples = dist.sample((negative_indices.sum(),))\n",
    "        samples[negative_indices] = new_samples#[negative_indices]\n",
    "    return samples\n",
    "\n",
    "#def _truncate_samples(samples, dist):\n",
    "#    # Iteratively resample until all values are positive\n",
    "#    while torch.any(samples[:, 0] < 0):\n",
    "#        negative_indices = torch.where(samples[:,0] < 0)[0]\n",
    "#        new_samples = dist.sample((len(negative_indices),))\n",
    "#        samples[negative_indices] = new_samples\n",
    "#    return samples\n",
    "\n",
    "def gm_sampling(pis, mus, sigmas, num_samples):\n",
    "    \n",
    "    gm_distributions = [dist.MultivariateNormal(mus[i], sigmas[i]) for i in range(len(pis))]\n",
    "    \n",
    "    component_choices = torch.multinomial(pis, num_samples, replacement=True)\n",
    "    samples = torch.zeros(num_samples, mus.shape[1])\n",
    "\n",
    "    for i in range(len(pis)):\n",
    "        mask = (component_choices == i)\n",
    "        num_samples_i = mask.sum()\n",
    "        if num_samples_i > 0:\n",
    "            tsamples = gm_distributions[i].sample((num_samples_i,))\n",
    "            samples[mask] = _truncate_samples(tsamples, gm_distributions[i])\n",
    "            #samples[mask] = gm_distributions[i].sample((num_samples_i,))\n",
    "    return samples"
   ]
  },
  {
   "cell_type": "code",
   "execution_count": 6,
   "metadata": {
    "id": "vk2woPUMFCqV"
   },
   "outputs": [],
   "source": [
    "def generate_random_covariance(dim, lb, ub):\n",
    "    #A = torch.empty(dim, dim).uniform_(lb, ub)\n",
    "    \n",
    "    # generate triangular\n",
    "    A = torch.zeros((dim, dim))\n",
    "    A[np.triu_indices(dim,1)] = torch.empty(int(dim*(dim-1)/2)).uniform_(lb, ub)\n",
    "    A[np.diag_indices(dim)] = torch.empty(dim).uniform_(DIAG, ub) #strictly positive diagonal\n",
    "    \n",
    "    cov_matrix = torch.rand(1)*torch.mm(A, A.t())  # Make it symmetric and semi-definite, added multiplicative factor to make the range vary\n",
    "    #cov_matrix += POS*torch.eye(dim)  # Make it positive definite\n",
    "\n",
    "    return cov_matrix"
   ]
  },
  {
   "cell_type": "markdown",
   "metadata": {},
   "source": [
    "## Dimension 2"
   ]
  },
  {
   "cell_type": "markdown",
   "metadata": {},
   "source": [
    "### Training"
   ]
  },
  {
   "cell_type": "code",
   "execution_count": 7,
   "metadata": {
    "id": "GjJ47qkm7-Lz"
   },
   "outputs": [],
   "source": [
    "# number of samples generated per gaussian mixture during training\n",
    "nsamples = 5000   # increased number of samples   \n",
    "# number of gaussian mixtures seen during training\n",
    "niter = 150000\n",
    "\n",
    "ncomp = 1\n",
    "xdim = 2\n",
    "\n",
    "lb_mu = 0\n",
    "ub_mu = 100\n",
    "lb_sigma = -10\n",
    "ub_sigma = 10\n",
    "\n",
    "# changed the bounds\n",
    "#bounds_mu = [lb_mu*torch.ones(xdim),ub_mu*torch.ones(xdim)]\n",
    "#bounds_sigma = [lb_sigma**torch.ones(xdim**2), ub_sigma**torch.ones(xdim**2)] \n"
   ]
  },
  {
   "cell_type": "code",
   "execution_count": 8,
   "metadata": {
    "colab": {
     "base_uri": "https://localhost:8080/"
    },
    "id": "4JeYhLom-FMg",
    "outputId": "56fbe95e-9b29-4139-bf24-01d1a13f6a45"
   },
   "outputs": [
    {
     "name": "stderr",
     "output_type": "stream",
     "text": [
      "C:\\Users\\birik\\AppData\\Local\\Temp\\ipykernel_5772\\2245468018.py:41: UserWarning: Creating a tensor from a list of numpy.ndarrays is extremely slow. Please consider converting the list to a single numpy.ndarray with numpy.array() before converting to a tensor. (Triggered internally at C:\\cb\\pytorch_1000000000000\\work\\torch\\csrc\\utils\\tensor_new.cpp:281.)\n",
      "  sigmas[i][np.triu_indices(self.xdim),1] = fl_output[i, self.xdim+1:-self.xdim]\n"
     ]
    },
    {
     "name": "stdout",
     "output_type": "stream",
     "text": [
      "loss: 336113.843750 0.0%\n",
      "generated tensor([[ 5.1963, 65.5117]]) tensor([[[ 15.2300, -20.0371],\n",
      "         [-20.0371,  31.1123]]])\n",
      "predicted tensor([[0.6645, 1.6385]], grad_fn=<ExpBackward0>) tensor([[[ 0.0154, -0.0073],\n",
      "         [-0.0073,  0.0100]]], grad_fn=<CopySlices>)\n",
      "loss: 1637.193115 0.667%\n",
      "loss: 2716.775879 1.333%\n",
      "loss: 1060.232300 2.0%\n",
      "loss: 6779.612793 2.667%\n",
      "loss: 3461.515625 3.333%\n",
      "loss: 5296.689941 4.0%\n",
      "loss: 3927.231445 4.667%\n",
      "loss: 7222.562988 5.333%\n",
      "loss: 5260.146484 6.0%\n",
      "loss: 5040.210449 6.667%\n",
      "generated tensor([[68.5251, 33.7188]]) tensor([[[78.3157, -2.7977],\n",
      "         [-2.7977, 29.5371]]])\n",
      "predicted tensor([[5.4963, 6.7089]], grad_fn=<ExpBackward0>) tensor([[[9.2378, 3.1392],\n",
      "         [3.1392, 4.1090]]], grad_fn=<CopySlices>)\n",
      "loss: 8861.418945 7.333%\n",
      "loss: 3377.455322 8.0%\n",
      "loss: 6288.057617 8.667%\n",
      "loss: 8405.167969 9.333%\n",
      "loss: 2270.491455 10.0%\n",
      "loss: 5110.132812 10.667%\n",
      "loss: 2192.738525 11.333%\n",
      "loss: 2297.145996 12.0%\n",
      "loss: 2040.496826 12.667%\n",
      "loss: 2850.579590 13.333%\n",
      "generated tensor([[30.2995, 92.7605]]) tensor([[[ 19.9076, -17.6170],\n",
      "         [-17.6170,  24.4449]]])\n",
      "predicted tensor([[20.9083, 43.3128]], grad_fn=<ExpBackward0>) tensor([[[4.6207, 1.9736],\n",
      "         [1.9736, 4.9562]]], grad_fn=<CopySlices>)\n",
      "loss: 1634.433960 14.0%\n",
      "loss: 1136.730225 14.667%\n",
      "loss: 3440.155518 15.333%\n",
      "loss: 1851.591553 16.0%\n",
      "loss: 146.886246 16.667%\n",
      "loss: 1266.613525 17.333%\n",
      "loss: 797.092712 18.0%\n",
      "loss: 3275.790527 18.667%\n",
      "loss: 3753.775879 19.333%\n",
      "loss: 584.925964 20.0%\n",
      "generated tensor([[86.9684, 63.4418]]) tensor([[[ 77.4642, -17.9572],\n",
      "         [-17.9572,  10.5428]]])\n",
      "predicted tensor([[80.0673, 43.9211]], grad_fn=<ExpBackward0>) tensor([[[7.0050, 0.5923],\n",
      "         [0.5923, 8.4149]]], grad_fn=<CopySlices>)\n",
      "loss: 1802.596191 20.667%\n",
      "loss: 2029.117676 21.333%\n",
      "loss: 339.402832 22.0%\n",
      "loss: 1492.553345 22.667%\n",
      "loss: 1809.923828 23.333%\n",
      "loss: 1781.780151 24.0%\n",
      "loss: 2911.820557 24.667%\n",
      "loss: 6312.682617 25.333%\n",
      "loss: 241.095230 26.0%\n",
      "loss: 174.438019 26.667%\n",
      "generated tensor([[ 4.1953, 52.2938]]) tensor([[[32.2216, -4.9534],\n",
      "         [-4.9534,  3.8111]]])\n",
      "predicted tensor([[ 5.6402, 40.9426]], grad_fn=<ExpBackward0>) tensor([[[3.0138, 0.4471],\n",
      "         [0.4471, 4.8931]]], grad_fn=<CopySlices>)\n",
      "loss: 60.835060 27.333%\n",
      "loss: 1103.847046 28.0%\n",
      "loss: 55.572220 28.667%\n",
      "loss: 117.219696 29.333%\n",
      "loss: 133.949844 30.0%\n",
      "loss: 408.900330 30.667%\n",
      "loss: 45.908413 31.333%\n",
      "loss: 2194.720947 32.0%\n",
      "loss: 493.523987 32.667%\n",
      "loss: 124.653351 33.333%\n",
      "generated tensor([[91.2464, 84.4916]]) tensor([[[ 3.0384, -0.6829],\n",
      "         [-0.6829,  1.7308]]])\n",
      "predicted tensor([[96.8961, 92.3446]], grad_fn=<ExpBackward0>) tensor([[[1.9281, 0.5299],\n",
      "         [0.5299, 2.0954]]], grad_fn=<CopySlices>)\n",
      "loss: 168.971359 34.0%\n",
      "loss: 35.583923 34.667%\n",
      "loss: 31.873468 35.333%\n",
      "loss: 2177.593018 36.0%\n",
      "loss: 132.623108 36.667%\n",
      "loss: 73.904503 37.333%\n",
      "loss: 69.030029 38.0%\n",
      "loss: 41.457760 38.667%\n",
      "loss: 26.119633 39.333%\n",
      "loss: 78.804840 40.0%\n",
      "generated tensor([[79.0995, 10.0597]]) tensor([[[13.4333, -2.6973],\n",
      "         [-2.6973,  2.7216]]])\n",
      "predicted tensor([[85.6500, 12.7835]], grad_fn=<ExpBackward0>) tensor([[[3.3622, 0.1178],\n",
      "         [0.1178, 1.8240]]], grad_fn=<CopySlices>)\n",
      "loss: 25.594629 40.667%\n",
      "loss: 1055.200073 41.333%\n",
      "loss: 180.467758 42.0%\n",
      "loss: 225.722015 42.667%\n",
      "loss: 48.608582 43.333%\n",
      "loss: 20.197563 44.0%\n",
      "loss: 40.297707 44.667%\n",
      "loss: 198.784042 45.333%\n",
      "loss: 37.587242 46.0%\n",
      "loss: 102.954384 46.667%\n",
      "generated tensor([[88.0220, 95.4366]]) tensor([[[29.0589, -1.9240],\n",
      "         [-1.9240,  6.0304]]])\n",
      "predicted tensor([[ 92.9083, 101.7858]], grad_fn=<ExpBackward0>) tensor([[[3.2826, 0.0453],\n",
      "         [0.0453, 2.6409]]], grad_fn=<CopySlices>)\n",
      "loss: 43.429459 47.333%\n",
      "loss: 20.770987 48.0%\n",
      "loss: 282.711060 48.667%\n",
      "loss: 18.819778 49.333%\n",
      "loss: 110.062660 50.0%\n",
      "loss: 16.135897 50.667%\n",
      "loss: 43.705631 51.333%\n",
      "loss: 47.241646 52.0%\n",
      "loss: 31.560429 52.667%\n",
      "loss: 37.389099 53.333%\n",
      "generated tensor([[88.5721, 95.8835]]) tensor([[[ 26.1110, -28.0283],\n",
      "         [-28.0283,  40.9874]]])\n",
      "predicted tensor([[86.9964, 93.8914]], grad_fn=<ExpBackward0>) tensor([[[2.1146, 0.2709],\n",
      "         [0.2709, 2.2327]]], grad_fn=<CopySlices>)\n",
      "loss: 14.934170 54.0%\n",
      "loss: 14.304323 54.667%\n",
      "loss: 18.099274 55.333%\n",
      "loss: 15.626060 56.0%\n",
      "loss: 30.865913 56.667%\n",
      "loss: 27.747677 57.333%\n",
      "loss: 35.743320 58.0%\n",
      "loss: 25.266703 58.667%\n",
      "loss: 36.184650 59.333%\n",
      "loss: 46.901028 60.0%\n",
      "generated tensor([[11.5733, 56.0713]]) tensor([[[ 7.1890e+01, -6.9171e-01],\n",
      "         [-6.9171e-01,  3.8387e-02]]])\n",
      "predicted tensor([[14.3731, 60.2234]], grad_fn=<ExpBackward0>) tensor([[[2.0591, 0.1227],\n",
      "         [0.1227, 1.8155]]], grad_fn=<CopySlices>)\n",
      "loss: 11.623502 60.667%\n",
      "loss: 35.435299 61.333%\n",
      "loss: 28.348471 62.0%\n",
      "loss: 25.784176 62.667%\n",
      "loss: 22.897091 63.333%\n",
      "loss: 66.267517 64.0%\n",
      "loss: 17.823883 64.667%\n",
      "loss: 97.777298 65.333%\n",
      "loss: 22.230988 66.0%\n",
      "loss: 21.968248 66.667%\n",
      "generated tensor([[82.1994, 59.7730]]) tensor([[[30.0729,  0.7859],\n",
      "         [ 0.7859,  0.1523]]])\n",
      "predicted tensor([[84.0762, 60.8437]], grad_fn=<ExpBackward0>) tensor([[[2.1238, 0.2078],\n",
      "         [0.2078, 1.4789]]], grad_fn=<CopySlices>)\n",
      "loss: 15.957932 67.333%\n",
      "loss: 43.374512 68.0%\n",
      "loss: 18.117495 68.667%\n",
      "loss: 46.243916 69.333%\n",
      "loss: 31.158625 70.0%\n",
      "loss: 14.882088 70.667%\n",
      "loss: 24.440815 71.333%\n",
      "loss: 33.479824 72.0%\n",
      "loss: 27.750511 72.667%\n",
      "loss: 90.890610 73.333%\n",
      "generated tensor([[68.0757, 58.7438]]) tensor([[[8.8879, 5.6036],\n",
      "         [5.6036, 6.0137]]])\n",
      "predicted tensor([[70.7384, 66.0437]], grad_fn=<ExpBackward0>) tensor([[[2.5161, 0.3023],\n",
      "         [0.3023, 1.8445]]], grad_fn=<CopySlices>)\n",
      "loss: 37.079830 74.0%\n",
      "loss: 158.835327 74.667%\n",
      "loss: 22.443993 75.333%\n",
      "loss: 25.203632 76.0%\n",
      "loss: 16.351627 76.667%\n",
      "loss: 316.959473 77.333%\n",
      "loss: 25.028629 78.0%\n",
      "loss: 37.815125 78.667%\n",
      "loss: 24.267788 79.333%\n",
      "loss: 12.620829 80.0%\n",
      "generated tensor([[36.4616, 85.0231]]) tensor([[[5.7221, 1.3952],\n",
      "         [1.3952, 0.3881]]])\n",
      "predicted tensor([[35.8468, 84.9712]], grad_fn=<ExpBackward0>) tensor([[[ 2.0513, -0.1096],\n",
      "         [-0.1096,  1.9689]]], grad_fn=<CopySlices>)\n",
      "loss: 31.873762 80.667%\n",
      "loss: 16.548832 81.333%\n",
      "loss: 13.035283 82.0%\n",
      "loss: 110.810631 82.667%\n",
      "loss: 45.713058 83.333%\n",
      "loss: 44.133728 84.0%\n",
      "loss: 13.708439 84.667%\n",
      "loss: 32.133183 85.333%\n",
      "loss: 18.354650 86.0%\n",
      "loss: 32.115849 86.667%\n",
      "generated tensor([[87.9682, 51.8660]]) tensor([[[17.2071, 11.0951],\n",
      "         [11.0951, 10.8582]]])\n",
      "predicted tensor([[84.6290, 50.8247]], grad_fn=<ExpBackward0>) tensor([[[ 2.1713e+00, -1.7386e-03],\n",
      "         [-1.7386e-03,  1.6880e+00]]], grad_fn=<CopySlices>)\n",
      "loss: 26.019844 87.333%\n",
      "loss: 38.542000 88.0%\n",
      "loss: 29.674313 88.667%\n",
      "loss: 17.143238 89.333%\n",
      "loss: 17.310188 90.0%\n",
      "loss: 30.778992 90.667%\n",
      "loss: 30.153917 91.333%\n",
      "loss: 18.085447 92.0%\n",
      "loss: 56.657295 92.667%\n",
      "loss: 15.417527 93.333%\n",
      "generated tensor([[79.9506, 66.0327]]) tensor([[[20.5425,  1.4297],\n",
      "         [ 1.4297,  0.1107]]])\n",
      "predicted tensor([[79.6473, 65.2728]], grad_fn=<ExpBackward0>) tensor([[[2.1271, 0.0948],\n",
      "         [0.0948, 1.6444]]], grad_fn=<CopySlices>)\n",
      "loss: 26.711552 94.0%\n",
      "loss: 15.715912 94.667%\n",
      "loss: 35.270828 95.333%\n",
      "loss: 14.681245 96.0%\n",
      "loss: 49.507614 96.667%\n",
      "loss: 13.689662 97.333%\n",
      "loss: 145.188477 98.0%\n",
      "loss: 28.385057 98.667%\n",
      "loss: 18.020697 99.333%\n",
      "Done!\n"
     ]
    }
   ],
   "source": [
    "model = ApproxTruncation(xdim=xdim, num_component_input=ncomp, num_component_output=ncomp, nsamples=nsamples)\n",
    "optimizer = torch.optim.Adam(model.parameters(), lr=0.0001)\n",
    "\n",
    "model.train()\n",
    "\n",
    "losses = []\n",
    "for t in range(niter):\n",
    "\n",
    "    optimizer.zero_grad()\n",
    "    weights = torch.rand(ncomp)\n",
    "    weights = weights / weights.sum()  # Normalize to sum to 1\n",
    "    means = torch.empty(ncomp, xdim).uniform_(lb_mu, ub_mu)\n",
    "    covariances = torch.empty(ncomp, xdim, xdim)\n",
    "    for j in range(ncomp):\n",
    "        covariances[j] = generate_random_covariance(xdim, lb_sigma, ub_sigma)\n",
    "    \n",
    "    samples = gm_sampling(weights, means, covariances, nsamples)\n",
    "\n",
    "    pi_new, mu_new, sigma_new = model(samples)\n",
    "\n",
    "    #components = pi_new.shape[0]\n",
    "    #distributions = [dist.MultivariateNormal(mu_new[i], sigma_new[i]) for i in range(components)]\n",
    "\n",
    "    loss = loss_function(samples, pi_new, mu_new, sigma_new)\n",
    "\n",
    "    # Backpropagation\n",
    "    loss.backward()\n",
    "    optimizer.step()\n",
    "\n",
    "    if t % 1000 == 0:\n",
    "      tloss = loss.item() #batch * batch_size + len(X)\n",
    "      losses.append(tloss)\n",
    "      print(f\"loss: {tloss:>7f} {np.round(t/niter*100,3)}%\")\n",
    "\n",
    "    if t % 10000 == 0:\n",
    "        print('generated', means, covariances)\n",
    "        print('predicted', mu_new, sigma_new)\n",
    "\n",
    "print(\"Done!\")"
   ]
  },
  {
   "cell_type": "code",
   "execution_count": 9,
   "metadata": {},
   "outputs": [],
   "source": [
    "torch.save(model, 'params/truncNNdim2-1to1-covnorm+distmean.pth')"
   ]
  },
  {
   "cell_type": "code",
   "execution_count": 10,
   "metadata": {
    "id": "b6WgE6WA-Sls"
   },
   "outputs": [],
   "source": [
    "import matplotlib.pyplot as plt\n",
    "import numpy as np"
   ]
  },
  {
   "cell_type": "code",
   "execution_count": 12,
   "metadata": {
    "colab": {
     "base_uri": "https://localhost:8080/",
     "height": 472
    },
    "id": "CCHOSUtEaE1v",
    "outputId": "40155460-c283-4f7e-8b66-297d1d5d7127"
   },
   "outputs": [
    {
     "data": {
      "image/png": "[encoded data removed]",
      "text/plain": [
       "<Figure size 640x480 with 1 Axes>"
      ]
     },
     "metadata": {},
     "output_type": "display_data"
    }
   ],
   "source": [
    "fig = plt.figure()\n",
    "plt.plot(np.arange(len(losses)), losses)\n",
    "plt.title('loss')\n",
    "plt.xlabel('iterations')\n",
    "plt.ylim(0,1000)\n",
    "plt.show()"
   ]
  },
  {
   "cell_type": "markdown",
   "metadata": {},
   "source": [
    "### Test"
   ]
  },
  {
   "cell_type": "code",
   "execution_count": 7,
   "metadata": {},
   "outputs": [],
   "source": [
    "import matplotlib.pyplot as plt\n",
    "import numpy as np\n",
    "\n",
    "import torch\n",
    "from torch import nn\n",
    "#from neural_soga import *"
   ]
  },
  {
   "cell_type": "code",
   "execution_count": 11,
   "metadata": {},
   "outputs": [
    {
     "name": "stderr",
     "output_type": "stream",
     "text": [
      "C:\\Users\\birik\\AppData\\Local\\Temp\\ipykernel_9048\\1403086480.py:6: FutureWarning: You are using `torch.load` with `weights_only=False` (the current default value), which uses the default pickle module implicitly. It is possible to construct malicious pickle data which will execute arbitrary code during unpickling (See https://github.com/pytorch/pytorch/blob/main/SECURITY.md#untrusted-models for more details). In a future release, the default value for `weights_only` will be flipped to `True`. This limits the functions that could be executed during unpickling. Arbitrary objects will no longer be allowed to be loaded via this mode unless they are explicitly allowlisted by the user via `torch.serialization.add_safe_globals`. We recommend you start setting `weights_only=True` for any use case where you don't have full control of the loaded file. Please open an issue on GitHub for any issues related to this experimental feature.\n",
      "  model = torch.load('../params/truncNNdim2-1to1-meannorm.pth')\n"
     ]
    }
   ],
   "source": [
    "ncomp = 1\n",
    "xdim = 2\n",
    "nsamples = 5000\n",
    "\n",
    "model = ApproxTruncation(xdim=xdim, num_component_input=ncomp, num_component_output=ncomp, nsamples=nsamples)\n",
    "model = torch.load('../params/truncNNdim2-1to1-meannorm.pth')"
   ]
  },
  {
   "cell_type": "code",
   "execution_count": 15,
   "metadata": {
    "id": "Z16G_Ll5UpH9"
   },
   "outputs": [
    {
     "name": "stdout",
     "output_type": "stream",
     "text": [
      "Test params: tensor([1.]) tensor([[39.1137,  0.8226]]) tensor([[[2.5576, 1.3654],\n",
      "         [1.3654, 1.3298]]])\n",
      "Pred params: tensor([1.], grad_fn=<DivBackward0>) tensor([[37.5816,  2.7359]], grad_fn=<ExpBackward0>) tensor([[[39.1212,  0.5457],\n",
      "         [ 0.5457,  6.7417]]], grad_fn=<CopySlices>)\n"
     ]
    }
   ],
   "source": [
    "test_weights = torch.rand(ncomp)\n",
    "test_weights = test_weights / test_weights.sum()  # Normalize to sum to 1\n",
    "test_means = torch.empty(ncomp, xdim).uniform_(0, 50)\n",
    "test_covariances = torch.empty(ncomp, xdim, xdim)\n",
    "\n",
    "for j in range(ncomp):\n",
    "  test_covariances[j] = generate_random_covariance(xdim, -5, 5)\n",
    "\n",
    "test_samples = gm_sampling(test_weights, test_means, test_covariances, nsamples)\n",
    "\n",
    "pi_pred, mu_pred, sigma_pred = model(test_samples)\n",
    "\n",
    "print('Test params:', test_weights, test_means, test_covariances)\n",
    "print('Pred params:', pi_pred, mu_pred, sigma_pred)"
   ]
  },
  {
   "cell_type": "code",
   "execution_count": 13,
   "metadata": {},
   "outputs": [
    {
     "name": "stdout",
     "output_type": "stream",
     "text": [
      "loss with predicted: tensor(1587.5768)\n",
      "loss with better: tensor(27.1158)\n"
     ]
    }
   ],
   "source": [
    "test_weights = torch.tensor([1.])  \n",
    "test_means = torch.tensor([[39.1137,  0.8226]])\n",
    "test_covariances = torch.tensor([[[2.5576, 1.3654],[1.3654, 1.3298]]])\n",
    "test_samples = gm_sampling(test_weights, test_means, test_covariances, nsamples)\n",
    "\n",
    "pi_pred = torch.tensor([1.]) \n",
    "mu_pred = torch.tensor([[37.5816,  2.7359]])\n",
    "sigma_pred = torch.tensor([[[39.1212,  0.5457], [ 0.5457,  6.7417]]])\n",
    "\n",
    "better_pi = torch.tensor([1.])\n",
    "better_mu = torch.tensor([[37.5816,  2.7359]])\n",
    "better_sigma = torch.tensor([[[2.5576, 1.3654],[1.3654, 1.3298]]])\n",
    "\n",
    "print('loss with predicted:', loss_function(test_samples, pi_pred, mu_pred, sigma_pred))\n",
    "print('loss with better:', loss_function(test_samples, better_pi, better_mu, better_sigma))"
   ]
  },
  {
   "cell_type": "markdown",
   "metadata": {},
   "source": [
    "Consistently overestimates the covariance and the mean estimate is not accurate"
   ]
  },
  {
   "cell_type": "code",
   "execution_count": 16,
   "metadata": {
    "scrolled": true
   },
   "outputs": [
    {
     "data": {
      "text/plain": [
       "(1.0,\n",
       " array([39.59419399,  1.2905739 ]),\n",
       " array([[1.9208865 , 0.74518973],\n",
       "        [0.74518973, 0.72576595]]))"
      ]
     },
     "execution_count": 16,
     "metadata": {},
     "output_type": "execute_result"
    }
   ],
   "source": [
    "import libSOGA\n",
    "\n",
    "soga_dist = libSOGA.Dist(['x','y'], libSOGA.GaussianMix(np.array([1.]), [np.array(test_means[0])], [np.array(test_covariances[0])]))\n",
    "_, new_soga_dist = libSOGA.truncate(soga_dist, 'x>0', {})\n",
    "_, new_soga_dist = libSOGA.truncate(new_soga_dist, 'y>0', {})\n",
    "\n",
    "soga_w = new_soga_dist.gm.pi[0]\n",
    "soga_mean = new_soga_dist.gm.mu[0]\n",
    "soga_cov = new_soga_dist.gm.sigma[0]\n",
    "\n",
    "soga_w, soga_mean, soga_cov"
   ]
  },
  {
   "cell_type": "code",
   "execution_count": 17,
   "metadata": {
    "colab": {
     "base_uri": "https://localhost:8080/",
     "height": 615
    },
    "id": "6inaOo-DNr2a",
    "outputId": "a79af969-b31f-465b-de82-2f439645d2c2"
   },
   "outputs": [
    {
     "name": "stdout",
     "output_type": "stream",
     "text": [
      "pred weights =  [1.]\n",
      "pred means =  [[37.58157    2.7359009]]\n",
      "pred covs =  [[[39.121235   0.5457002]\n",
      "  [ 0.5457002  6.7416534]]]\n"
     ]
    },
    {
     "data": {
      "image/png": "[encoded data removed]",
      "text/plain": [
       "<Figure size 640x480 with 1 Axes>"
      ]
     },
     "metadata": {},
     "output_type": "display_data"
    }
   ],
   "source": [
    "# Plotting\n",
    "x, y = np.meshgrid(np.linspace(0, 80, 100), np.linspace(0, 80, 100))\n",
    "pos = np.empty(x.shape + (2,))\n",
    "pos[:, :, 0] = x\n",
    "pos[:, :, 1] = y\n",
    "\n",
    "def multivariate_gaussian(pos, mu, Sigma):\n",
    "    n = mu.shape[0]\n",
    "    Sigma_det = np.linalg.det(Sigma)\n",
    "    Sigma_inv = np.linalg.inv(Sigma)\n",
    "    N = np.sqrt((2 * np.pi)**n * Sigma_det)\n",
    "    fac = np.einsum('...k,kl,...l->...', pos - mu, Sigma_inv, pos - mu)\n",
    "    return np.exp(-fac / 2) / N\n",
    "\n",
    "fig, ax = plt.subplots()\n",
    "\n",
    "# Plot the contour of each Gaussian component\n",
    "#for i in range(len(test_weights)):\n",
    "#    z_in = multivariate_gaussian(pos, test_means[i].numpy(), covariances[i].numpy())\n",
    "#    ax.contour(x, y, z_in, levels=5, colors='orange')\n",
    "\n",
    "print('pred weights = ', pi_pred.detach().numpy())\n",
    "print('pred means = ', mu_pred.detach().numpy())\n",
    "print('pred covs = ', sigma_pred.detach().numpy())\n",
    "cc = ['b', 'g']\n",
    "for i in range(len(pi_pred)):\n",
    "    z_out = multivariate_gaussian(pos, mu_pred[i].detach().numpy(), sigma_pred[i].detach().numpy())\n",
    "    CS_pred = ax.contour(x, y, z_out, levels=5, colors='blue')  # predicted\n",
    "handles_pred, labels_pred = CS_pred.legend_elements('NN');\n",
    "#plt.legend(handles_pred, labels_pred, loc='upper right')\n",
    "    \n",
    "# for i in range(len(test_weights)):\n",
    "    # z_out = multivariate_gaussian(pos, test_means[i].detach().numpy(), test_covariances[i].detach().numpy())\n",
    "    # ax.contour(x, y, z_out, levels=5, colors='orange')   # original\n",
    "    \n",
    "z_out = multivariate_gaussian(pos,soga_mean, soga_cov)\n",
    "CS_soga = ax.contour(x, y, z_out, levels=5, colors='green')   # SOGA\n",
    "handles_soga, labels_soga = CS_soga.legend_elements('SOGA');\n",
    "#plt.legend(handles_pred + handles_soga, labels_pred+labels_soga)\n",
    "\n",
    "# Plot the samples\n",
    "ax.scatter(test_samples[:, 0], test_samples[:, 1], s=1, c='orange')\n",
    "#plt.legend()\n",
    "plt.title('Mixture of 2-Dimensional Gaussians with Samples')\n",
    "plt.xlabel('X-axis')\n",
    "plt.ylabel('Y-axis')\n",
    "\n",
    "plt.savefig('dim2-1to1-truncation.png')\n",
    "\n",
    "plt.show()"
   ]
  },
  {
   "cell_type": "markdown",
   "metadata": {},
   "source": [
    "# Da qui in poi non eseguire"
   ]
  },
  {
   "cell_type": "markdown",
   "metadata": {
    "jp-MarkdownHeadingCollapsed": true
   },
   "source": [
    "# Truncation 1 to 1"
   ]
  },
  {
   "cell_type": "markdown",
   "metadata": {},
   "source": [
    "## Dimension 1 "
   ]
  },
  {
   "cell_type": "markdown",
   "metadata": {},
   "source": [
    "### Training"
   ]
  },
  {
   "cell_type": "code",
   "execution_count": 8,
   "metadata": {
    "id": "GjJ47qkm7-Lz"
   },
   "outputs": [],
   "source": [
    "nsamples = 500\n",
    "niter = 100000\n",
    "\n",
    "ncomp = 1\n",
    "xdim = 1\n",
    "\n",
    "bounds_mu = [0*torch.ones(xdim),100*torch.ones(xdim)]\n",
    "bounds_sigma = [-10*torch.ones(xdim**2), 10*torch.ones(xdim**2)]\n"
   ]
  },
  {
   "cell_type": "code",
   "execution_count": 9,
   "metadata": {
    "colab": {
     "base_uri": "https://localhost:8080/"
    },
    "id": "4JeYhLom-FMg",
    "outputId": "56fbe95e-9b29-4139-bf24-01d1a13f6a45"
   },
   "outputs": [
    {
     "name": "stdout",
     "output_type": "stream",
     "text": [
      "loss: 7.743793 0.0%\n",
      "loss: 0.901091 1.0%\n",
      "loss: 1.074973 2.0%\n",
      "loss: 1.197235 3.0%\n",
      "loss: 0.625462 4.0%\n",
      "loss: 1.060450 5.0%\n",
      "loss: 0.908363 6.0%\n",
      "loss: 1.121251 7.000000000000001%\n",
      "loss: 1.258591 8.0%\n",
      "loss: 0.439639 9.0%\n",
      "loss: 0.975374 10.0%\n",
      "loss: 1.222692 11.0%\n",
      "loss: 0.584660 12.0%\n",
      "loss: 1.417349 13.0%\n",
      "loss: 1.518550 14.000000000000002%\n",
      "loss: 0.933830 15.0%\n",
      "loss: 1.367322 16.0%\n",
      "loss: 1.110824 17.0%\n",
      "loss: 1.318564 18.0%\n",
      "loss: 0.809869 19.0%\n",
      "loss: 0.568222 20.0%\n",
      "loss: 1.246939 21.0%\n",
      "loss: 1.370966 22.0%\n",
      "loss: 1.418361 23.0%\n",
      "loss: 1.143203 24.0%\n",
      "loss: 1.387892 25.0%\n",
      "loss: 0.830561 26.0%\n",
      "loss: 1.181834 27.0%\n",
      "loss: 1.278598 28.000000000000004%\n",
      "loss: 0.593901 28.999999999999996%\n",
      "loss: 1.188691 30.0%\n",
      "loss: 1.243723 31.0%\n",
      "loss: 0.510650 32.0%\n",
      "loss: 1.232209 33.0%\n",
      "loss: 0.821736 34.0%\n",
      "loss: 1.216925 35.0%\n",
      "loss: 1.586242 36.0%\n",
      "loss: 1.503320 37.0%\n",
      "loss: 0.409892 38.0%\n",
      "loss: 1.195214 39.0%\n",
      "loss: 0.969329 40.0%\n",
      "loss: 1.182968 41.0%\n",
      "loss: 1.346014 42.0%\n",
      "loss: 1.036156 43.0%\n",
      "loss: 1.072481 44.0%\n",
      "loss: 1.482658 45.0%\n",
      "loss: 1.024023 46.0%\n",
      "loss: 1.254951 47.0%\n",
      "loss: 1.270205 48.0%\n",
      "loss: 1.253972 49.0%\n",
      "loss: 0.716685 50.0%\n",
      "loss: 0.459140 51.0%\n",
      "loss: 1.140064 52.0%\n",
      "loss: 0.810479 53.0%\n",
      "loss: 0.928661 54.0%\n",
      "loss: 1.273928 55.00000000000001%\n",
      "loss: 1.165091 56.00000000000001%\n",
      "loss: 0.674026 56.99999999999999%\n",
      "loss: 1.044753 57.99999999999999%\n",
      "loss: 1.436022 59.0%\n",
      "loss: 0.860282 60.0%\n",
      "loss: 0.936551 61.0%\n",
      "loss: 0.816316 62.0%\n",
      "loss: 1.097045 63.0%\n",
      "loss: 0.857095 64.0%\n",
      "loss: 0.717619 65.0%\n",
      "loss: 1.176554 66.0%\n",
      "loss: 1.357832 67.0%\n",
      "loss: 1.426563 68.0%\n",
      "loss: 1.316067 69.0%\n",
      "loss: 1.376261 70.0%\n",
      "loss: 1.109878 71.0%\n",
      "loss: 0.987112 72.0%\n",
      "loss: 1.451085 73.0%\n",
      "loss: 1.014501 74.0%\n",
      "loss: 1.139907 75.0%\n",
      "loss: 1.367895 76.0%\n",
      "loss: 0.953302 77.0%\n",
      "loss: 1.282825 78.0%\n",
      "loss: 1.205031 79.0%\n",
      "loss: 1.139761 80.0%\n",
      "loss: 0.652432 81.0%\n",
      "loss: 0.973456 82.0%\n",
      "loss: 0.738335 83.0%\n",
      "loss: 0.702715 84.0%\n",
      "loss: 1.161022 85.0%\n",
      "loss: 0.505771 86.0%\n",
      "loss: 0.939492 87.0%\n",
      "loss: 1.294742 88.0%\n",
      "loss: 0.933464 89.0%\n",
      "loss: 1.186656 90.0%\n",
      "loss: 1.409370 91.0%\n",
      "loss: 1.311013 92.0%\n",
      "loss: 0.939500 93.0%\n",
      "loss: 1.196820 94.0%\n",
      "loss: 1.180624 95.0%\n",
      "loss: 0.873349 96.0%\n",
      "loss: 1.457157 97.0%\n",
      "loss: 0.941881 98.0%\n",
      "loss: 1.142114 99.0%\n",
      "Done!\n"
     ]
    }
   ],
   "source": [
    "model = ApproxTruncation(xdim=xdim, num_component_input=ncomp, num_component_output=ncomp, nsamples=nsamples)\n",
    "optimizer = torch.optim.Adam(model.parameters(), lr=0.0005)\n",
    "\n",
    "model.train()\n",
    "\n",
    "losses = []\n",
    "for t in range(niter):\n",
    "\n",
    "    optimizer.zero_grad()\n",
    "    weights = torch.rand(ncomp)\n",
    "    weights = weights / weights.sum()  # Normalize to sum to 1\n",
    "    means = torch.empty(ncomp, xdim).uniform_(0, 2)\n",
    "    covariances = torch.empty(ncomp, xdim, xdim)\n",
    "    for j in range(ncomp):\n",
    "      covariances[j] = generate_random_covariance(xdim, -1, 1)\n",
    "\n",
    "    samples = gm_sampling(weights, means, covariances, nsamples)\n",
    "\n",
    "    pi_new, mu_new, sigma_new = model(samples)\n",
    "\n",
    "    loss = loss_function(samples, pi_new, mu_new, sigma_new)\n",
    "\n",
    "\n",
    "    # Backpropagation\n",
    "    loss.backward()\n",
    "    optimizer.step()\n",
    "\n",
    "\n",
    "    if t % 1000 == 0:\n",
    "      tloss = loss.item() #batch * batch_size + len(X)\n",
    "      losses.append(tloss)\n",
    "      print(f\"loss: {tloss:>7f} {t/niter*100}%\")\n",
    "\n",
    "print(\"Done!\")"
   ]
  },
  {
   "cell_type": "code",
   "execution_count": 24,
   "metadata": {},
   "outputs": [],
   "source": [
    "torch.save(model, 'params/truncNNdim1-1to1.pth')"
   ]
  },
  {
   "cell_type": "code",
   "execution_count": 25,
   "metadata": {
    "id": "b6WgE6WA-Sls"
   },
   "outputs": [],
   "source": [
    "import matplotlib.pyplot as plt\n",
    "import numpy as np"
   ]
  },
  {
   "cell_type": "code",
   "execution_count": 26,
   "metadata": {
    "colab": {
     "base_uri": "https://localhost:8080/",
     "height": 472
    },
    "id": "CCHOSUtEaE1v",
    "outputId": "40155460-c283-4f7e-8b66-297d1d5d7127"
   },
   "outputs": [
    {
     "data": {
      "image/png": "[encoded data removed]",
      "text/plain": [
       "<Figure size 640x480 with 1 Axes>"
      ]
     },
     "metadata": {},
     "output_type": "display_data"
    }
   ],
   "source": [
    "fig = plt.figure()\n",
    "plt.plot(np.arange(len(losses)), losses)\n",
    "plt.title('loss')\n",
    "plt.xlabel('iterations')\n",
    "plt.show()"
   ]
  },
  {
   "cell_type": "markdown",
   "metadata": {},
   "source": [
    "### Test"
   ]
  },
  {
   "cell_type": "code",
   "execution_count": 1,
   "metadata": {},
   "outputs": [],
   "source": [
    "import matplotlib.pyplot as plt\n",
    "import numpy as np\n",
    "\n",
    "import torch\n",
    "from torch import nn\n",
    "from neural_soga import *"
   ]
  },
  {
   "cell_type": "code",
   "execution_count": 2,
   "metadata": {},
   "outputs": [
    {
     "name": "stderr",
     "output_type": "stream",
     "text": [
      "C:\\Users\\birik\\AppData\\Local\\Temp\\ipykernel_10920\\2284748912.py:6: FutureWarning: You are using `torch.load` with `weights_only=False` (the current default value), which uses the default pickle module implicitly. It is possible to construct malicious pickle data which will execute arbitrary code during unpickling (See https://github.com/pytorch/pytorch/blob/main/SECURITY.md#untrusted-models for more details). In a future release, the default value for `weights_only` will be flipped to `True`. This limits the functions that could be executed during unpickling. Arbitrary objects will no longer be allowed to be loaded via this mode unless they are explicitly allowlisted by the user via `torch.serialization.add_safe_globals`. We recommend you start setting `weights_only=True` for any use case where you don't have full control of the loaded file. Please open an issue on GitHub for any issues related to this experimental feature.\n",
      "  model = torch.load('params/truncNNdim1-1to1.pth')\n"
     ]
    }
   ],
   "source": [
    "ncomp = 1\n",
    "xdim = 1\n",
    "nsamples = 500\n",
    "\n",
    "model = ApproxTruncation(xdim=xdim, num_component_input=ncomp, num_component_output=ncomp, nsamples=nsamples)\n",
    "model = torch.load('params/truncNNdim1-1to1.pth')\n",
    "\n"
   ]
  },
  {
   "cell_type": "code",
   "execution_count": 3,
   "metadata": {
    "id": "Z16G_Ll5UpH9"
   },
   "outputs": [
    {
     "name": "stdout",
     "output_type": "stream",
     "text": [
      "Test params: tensor([1.]) tensor([[4.1265]]) tensor([[[12.3602]]])\n",
      "Pred params: tensor([1.], grad_fn=<DivBackward0>) tensor([[4.4295]], grad_fn=<ReluBackward0>) tensor([[[99.9722]]], grad_fn=<CopySlices>)\n"
     ]
    }
   ],
   "source": [
    "test_weights = torch.rand(ncomp)\n",
    "test_weights = test_weights / test_weights.sum()  # Normalize to sum to 1\n",
    "test_means = torch.empty(ncomp, xdim).uniform_(0, 50)\n",
    "test_covariances = torch.empty(ncomp, xdim, xdim)\n",
    "\n",
    "for j in range(ncomp):\n",
    "  test_covariances[j] = generate_random_covariance(xdim, -5, 5)\n",
    "\n",
    "test_samples = gm_sampling(test_weights, test_means, test_covariances, 500)\n",
    "\n",
    "pi_pred, mu_pred, sigma_pred = model(test_samples)\n",
    "\n",
    "print('Test params:', test_weights, test_means, test_covariances)\n",
    "print('Pred params:', pi_pred, mu_pred, sigma_pred)"
   ]
  },
  {
   "cell_type": "code",
   "execution_count": 4,
   "metadata": {
    "scrolled": true
   },
   "outputs": [
    {
     "name": "stdout",
     "output_type": "stream",
     "text": [
      "imported network\n"
     ]
    },
    {
     "name": "stderr",
     "output_type": "stream",
     "text": [
      "C:\\Users\\birik\\github\\SOGA4SSA\\src\\libSOGAssa.py:196: FutureWarning: You are using `torch.load` with `weights_only=False` (the current default value), which uses the default pickle module implicitly. It is possible to construct malicious pickle data which will execute arbitrary code during unpickling (See https://github.com/pytorch/pytorch/blob/main/SECURITY.md#untrusted-models for more details). In a future release, the default value for `weights_only` will be flipped to `True`. This limits the functions that could be executed during unpickling. Arbitrary objects will no longer be allowed to be loaded via this mode unless they are explicitly allowlisted by the user via `torch.serialization.add_safe_globals`. We recommend you start setting `weights_only=True` for any use case where you don't have full control of the loaded file. Please open an issue on GitHub for any issues related to this experimental feature.\n",
      "  trunc_NN1 = torch.load('params/truncNNdim2-1to1.pth')\n"
     ]
    },
    {
     "data": {
      "text/plain": [
       "(1.0, array([4.92711381]), array([[8.4156375]]))"
      ]
     },
     "execution_count": 4,
     "metadata": {},
     "output_type": "execute_result"
    }
   ],
   "source": [
    "import libSOGA\n",
    "\n",
    "soga_dist = libSOGA.Dist(['x'], libSOGA.GaussianMix(np.array([1.]), [np.array(test_means[0])], [np.array(test_covariances[0])]))\n",
    "_, new_soga_dist = libSOGA.truncate(soga_dist, 'x>0', {})\n",
    "\n",
    "soga_w = new_soga_dist.gm.pi[0]\n",
    "soga_mean = new_soga_dist.gm.mu[0]\n",
    "soga_cov = new_soga_dist.gm.sigma[0]\n",
    "\n",
    "soga_w, soga_mean, soga_cov"
   ]
  },
  {
   "cell_type": "code",
   "execution_count": 6,
   "metadata": {
    "colab": {
     "base_uri": "https://localhost:8080/",
     "height": 615
    },
    "id": "6inaOo-DNr2a",
    "outputId": "a79af969-b31f-465b-de82-2f439645d2c2"
   },
   "outputs": [
    {
     "name": "stdout",
     "output_type": "stream",
     "text": [
      "pred weights =  [1.]\n",
      "pred means =  [[4.42954]]\n",
      "pred covs =  [[[99.9722]]]\n"
     ]
    },
    {
     "data": {
      "image/png": "[encoded data removed]",
      "text/plain": [
       "<Figure size 640x480 with 1 Axes>"
      ]
     },
     "metadata": {},
     "output_type": "display_data"
    }
   ],
   "source": [
    "# Plotting\n",
    "x = np.linspace(-4,100,100)\n",
    "\n",
    "fig, ax = plt.subplots()\n",
    "\n",
    "# Plot the contour of each Gaussian component\n",
    "#for i in range(len(test_weights)):\n",
    "#    z_in = multivariate_gaussian(pos, test_means[i].numpy(), covariances[i].numpy())\n",
    "#    ax.contour(x, y, z_in, levels=5, colors='orange')\n",
    "\n",
    "print('pred weights = ', pi_pred.detach().numpy())\n",
    "print('pred means = ', mu_pred.detach().numpy())\n",
    "print('pred covs = ', sigma_pred.detach().numpy())\n",
    "cc = ['b', 'g']\n",
    "\n",
    "from scipy.stats import norm\n",
    "\n",
    "y_orig = norm.pdf(x, loc=test_means[0].detach().numpy(), scale=np.sqrt(test_covariances[0][0].detach().numpy()))\n",
    "plt.plot(x, y_orig, color='orange', label='original')\n",
    "\n",
    "y_pred = norm.pdf(x, loc=mu_pred[0].detach().numpy(), scale=np.sqrt(sigma_pred[0].detach().numpy()))[0]\n",
    "plt.plot(x, y_pred, color='blue', label='predicted')\n",
    "\n",
    "y_soga = norm.pdf(x, loc=soga_mean[0], scale=np.sqrt(soga_cov[0]))\n",
    "plt.plot(x, y_soga, color='green', label='SOGA')\n",
    "\n",
    "plt.vlines(x = 0, ymin=0, ymax=0.9, color='red')\n",
    "\n",
    "plt.legend()\n",
    "plt.title('Mixture of 1-Dimensional Gaussians')\n",
    "plt.xlabel('X-axis')\n",
    "plt.ylabel('Y-axis')\n",
    "plt.show()"
   ]
  },
  {
   "cell_type": "markdown",
   "metadata": {
    "jp-MarkdownHeadingCollapsed": true
   },
   "source": [
    "# Train Truncation 2 to 2"
   ]
  },
  {
   "cell_type": "markdown",
   "metadata": {},
   "source": [
    "## Dimension 2"
   ]
  },
  {
   "cell_type": "markdown",
   "metadata": {},
   "source": [
    "### Training"
   ]
  },
  {
   "cell_type": "code",
   "execution_count": 8,
   "metadata": {
    "id": "GjJ47qkm7-Lz"
   },
   "outputs": [],
   "source": [
    "nsamples = 500\n",
    "\n",
    "niter = 100000\n",
    "\n",
    "ncomp = 2\n",
    "xdim = 2\n",
    "\n",
    "bounds_mu = [0, 10]\n",
    "bounds_sigma = [-10, 10]\n"
   ]
  },
  {
   "cell_type": "code",
   "execution_count": 9,
   "metadata": {
    "colab": {
     "base_uri": "https://localhost:8080/"
    },
    "id": "4JeYhLom-FMg",
    "outputId": "56fbe95e-9b29-4139-bf24-01d1a13f6a45"
   },
   "outputs": [
    {
     "name": "stdout",
     "output_type": "stream",
     "text": [
      "loss: 331.743469 0.0%\n",
      "loss: 3.054123 1.0%\n",
      "loss: 2.574522 2.0%\n",
      "loss: 2.837376 3.0%\n",
      "loss: 2.398493 4.0%\n",
      "loss: 2.630446 5.0%\n",
      "loss: 2.574900 6.0%\n",
      "loss: 2.697211 7.000000000000001%\n",
      "loss: 2.528661 8.0%\n",
      "loss: 2.145931 9.0%\n",
      "loss: 2.736506 10.0%\n",
      "loss: 2.502836 11.0%\n",
      "loss: 2.539833 12.0%\n",
      "loss: 2.684067 13.0%\n",
      "loss: 2.607018 14.000000000000002%\n",
      "loss: 2.664315 15.0%\n",
      "loss: 2.877844 16.0%\n",
      "loss: 3.037752 17.0%\n",
      "loss: 2.580238 18.0%\n",
      "loss: 2.849550 19.0%\n",
      "loss: 2.741462 20.0%\n",
      "loss: 2.875848 21.0%\n",
      "loss: 2.464997 22.0%\n",
      "loss: 2.717878 23.0%\n",
      "loss: 2.138066 24.0%\n",
      "loss: 2.021704 25.0%\n",
      "loss: 2.223405 26.0%\n",
      "loss: 2.646730 27.0%\n",
      "loss: 2.164281 28.000000000000004%\n",
      "loss: 1.996130 28.999999999999996%\n",
      "loss: 2.574481 30.0%\n",
      "loss: 2.413094 31.0%\n",
      "loss: 1.879542 32.0%\n",
      "loss: 2.204200 33.0%\n",
      "loss: 2.043259 34.0%\n",
      "loss: 2.377090 35.0%\n",
      "loss: 2.708835 36.0%\n",
      "loss: 2.370599 37.0%\n",
      "loss: 2.673440 38.0%\n",
      "loss: 2.431185 39.0%\n",
      "loss: 1.853119 40.0%\n",
      "loss: 2.460469 41.0%\n",
      "loss: 2.703721 42.0%\n",
      "loss: 2.191004 43.0%\n",
      "loss: 2.700709 44.0%\n",
      "loss: 2.411789 45.0%\n",
      "loss: 2.235127 46.0%\n",
      "loss: 2.793802 47.0%\n",
      "loss: 2.917004 48.0%\n",
      "loss: 1.999015 49.0%\n",
      "loss: 2.185768 50.0%\n",
      "loss: 2.582649 51.0%\n",
      "loss: 2.535007 52.0%\n",
      "loss: 2.652058 53.0%\n",
      "loss: 2.904280 54.0%\n",
      "loss: 2.473058 55.00000000000001%\n",
      "loss: 2.578689 56.00000000000001%\n",
      "loss: 2.432784 56.99999999999999%\n",
      "loss: 2.303197 57.99999999999999%\n",
      "loss: 2.607866 59.0%\n",
      "loss: 2.622556 60.0%\n",
      "loss: 2.431646 61.0%\n",
      "loss: 1.821145 62.0%\n",
      "loss: 2.418674 63.0%\n",
      "loss: 2.749690 64.0%\n",
      "loss: 2.830555 65.0%\n",
      "loss: 2.243036 66.0%\n",
      "loss: 2.157229 67.0%\n",
      "loss: 2.525379 68.0%\n",
      "loss: 2.229362 69.0%\n",
      "loss: 1.776311 70.0%\n",
      "loss: 2.709986 71.0%\n",
      "loss: 2.034061 72.0%\n",
      "loss: 2.756579 73.0%\n",
      "loss: 2.611686 74.0%\n",
      "loss: 2.409257 75.0%\n",
      "loss: 2.027034 76.0%\n",
      "loss: 2.577316 77.0%\n",
      "loss: 2.523730 78.0%\n",
      "loss: 2.447175 79.0%\n",
      "loss: 2.244492 80.0%\n",
      "loss: 2.639560 81.0%\n",
      "loss: 2.405759 82.0%\n",
      "loss: 2.304733 83.0%\n",
      "loss: 2.484349 84.0%\n",
      "loss: 1.906201 85.0%\n",
      "loss: 2.092223 86.0%\n",
      "loss: 2.166622 87.0%\n",
      "loss: 2.780188 88.0%\n",
      "loss: 2.742215 89.0%\n",
      "loss: 2.402433 90.0%\n",
      "loss: 3.235729 91.0%\n",
      "loss: 2.464489 92.0%\n",
      "loss: 2.599547 93.0%\n",
      "loss: 2.792042 94.0%\n",
      "loss: 2.625190 95.0%\n",
      "loss: 2.461593 96.0%\n",
      "loss: 2.794072 97.0%\n",
      "loss: 2.250875 98.0%\n",
      "loss: 2.041005 99.0%\n",
      "Done!\n"
     ]
    }
   ],
   "source": [
    "model = ApproxTruncation(xdim=xdim, num_component_input=ncomp, num_component_output=ncomp, nsamples=nsamples, mean_ub= 2)\n",
    "optimizer = torch.optim.Adam(model.parameters(), lr=0.0005)\n",
    "\n",
    "model.train()\n",
    "\n",
    "losses = []\n",
    "for t in range(niter):\n",
    "\n",
    "    optimizer.zero_grad()\n",
    "    weights = torch.rand(ncomp)\n",
    "    weights = weights / weights.sum()  # Normalize to sum to 1\n",
    "    means = torch.empty(ncomp, xdim).uniform_(0, 2)\n",
    "    covariances = torch.empty(ncomp, xdim, xdim)\n",
    "    for j in range(ncomp):\n",
    "      covariances[j] = generate_random_covariance(xdim, -1, 1)\n",
    "\n",
    "    samples = gm_sampling(weights, means, covariances, nsamples)\n",
    "\n",
    "    pi_new, mu_new, sigma_new = model(samples)\n",
    "\n",
    "    loss = loss_function(samples, pi_new, mu_new, sigma_new)\n",
    "\n",
    "\n",
    "    # Backpropagation\n",
    "    loss.backward()\n",
    "    optimizer.step()\n",
    "\n",
    "\n",
    "    if t % 1000 == 0:\n",
    "      tloss = loss.item() #batch * batch_size + len(X)\n",
    "      losses.append(tloss)\n",
    "      print(f\"loss: {tloss:>7f} {t/niter*100}%\")\n",
    "\n",
    "print(\"Done!\")"
   ]
  },
  {
   "cell_type": "code",
   "execution_count": 10,
   "metadata": {},
   "outputs": [],
   "source": [
    "torch.save(model, 'truncNNdim2-2to2.pth')"
   ]
  },
  {
   "cell_type": "code",
   "execution_count": 11,
   "metadata": {
    "id": "b6WgE6WA-Sls"
   },
   "outputs": [],
   "source": [
    "import matplotlib.pyplot as plt\n",
    "import numpy as np"
   ]
  },
  {
   "cell_type": "code",
   "execution_count": 12,
   "metadata": {
    "colab": {
     "base_uri": "https://localhost:8080/",
     "height": 472
    },
    "id": "CCHOSUtEaE1v",
    "outputId": "40155460-c283-4f7e-8b66-297d1d5d7127"
   },
   "outputs": [
    {
     "data": {
      "image/png": "[encoded data removed]",
      "text/plain": [
       "<Figure size 640x480 with 1 Axes>"
      ]
     },
     "metadata": {},
     "output_type": "display_data"
    }
   ],
   "source": [
    "fig = plt.figure()\n",
    "plt.plot(np.arange(len(losses)), losses)\n",
    "plt.title('loss')\n",
    "plt.xlabel('iterations')\n",
    "plt.show()"
   ]
  },
  {
   "cell_type": "markdown",
   "metadata": {},
   "source": [
    "### Test"
   ]
  },
  {
   "cell_type": "code",
   "execution_count": 12,
   "metadata": {},
   "outputs": [],
   "source": [
    "import matplotlib.pyplot as plt\n",
    "import numpy as np\n",
    "\n",
    "#import torch\n",
    "#from torch import nn\n",
    "#from neural_soga import *"
   ]
  },
  {
   "cell_type": "code",
   "execution_count": 13,
   "metadata": {},
   "outputs": [
    {
     "name": "stderr",
     "output_type": "stream",
     "text": [
      "C:\\Users\\birik\\AppData\\Local\\Temp\\ipykernel_10196\\2046160562.py:2: FutureWarning: You are using `torch.load` with `weights_only=False` (the current default value), which uses the default pickle module implicitly. It is possible to construct malicious pickle data which will execute arbitrary code during unpickling (See https://github.com/pytorch/pytorch/blob/main/SECURITY.md#untrusted-models for more details). In a future release, the default value for `weights_only` will be flipped to `True`. This limits the functions that could be executed during unpickling. Arbitrary objects will no longer be allowed to be loaded via this mode unless they are explicitly allowlisted by the user via `torch.serialization.add_safe_globals`. We recommend you start setting `weights_only=True` for any use case where you don't have full control of the loaded file. Please open an issue on GitHub for any issues related to this experimental feature.\n",
      "  model = torch.load('truncNNdim2-2to2.pth')\n"
     ]
    }
   ],
   "source": [
    "model = ApproxTruncation(2)\n",
    "model = torch.load('truncNNdim2-2to2.pth')\n",
    "\n",
    "ncomp = 2\n",
    "xdim = 2"
   ]
  },
  {
   "cell_type": "code",
   "execution_count": 14,
   "metadata": {
    "id": "Z16G_Ll5UpH9"
   },
   "outputs": [
    {
     "name": "stdout",
     "output_type": "stream",
     "text": [
      "Test params: tensor([0.0372, 0.9628]) tensor([[0.0242, 0.7371],\n",
      "        [0.2463, 0.9299]]) tensor([[[1.1992, 0.2920],\n",
      "         [0.2920, 0.7325]],\n",
      "\n",
      "        [[1.5929, 0.5653],\n",
      "         [0.5653, 1.1999]]])\n",
      "Pred params: tensor([0.4976, 0.5024], grad_fn=<DivBackward0>) tensor([[0.5684, 1.2342],\n",
      "        [1.6101, 1.3515]], grad_fn=<MulBackward0>) tensor([[[0.1287, 0.0370],\n",
      "         [0.0370, 1.1023]],\n",
      "\n",
      "        [[0.4584, 0.0834],\n",
      "         [0.0834, 1.2448]]], grad_fn=<CopySlices>)\n"
     ]
    }
   ],
   "source": [
    "test_weights = torch.rand(ncomp)\n",
    "test_weights = test_weights / test_weights.sum()  # Normalize to sum to 1\n",
    "test_means = torch.empty(ncomp, xdim).uniform_(0, 2)\n",
    "test_covariances = torch.empty(ncomp, xdim, xdim)\n",
    "\n",
    "for j in range(ncomp):\n",
    "  test_covariances[j] = generate_random_covariance(xdim, -1, 1)\n",
    "\n",
    "test_samples = gm_sampling(test_weights, test_means, test_covariances, 500)\n",
    "\n",
    "pi_pred, mu_pred, sigma_pred = model(test_samples)\n",
    "\n",
    "print('Test params:', test_weights, test_means, test_covariances)\n",
    "print('Pred params:', pi_pred, mu_pred, sigma_pred)"
   ]
  },
  {
   "cell_type": "code",
   "execution_count": 15,
   "metadata": {
    "scrolled": true
   },
   "outputs": [
    {
     "data": {
      "text/plain": [
       "([0.03294709192722143, 0.9670529080727784],\n",
       " [array([0.88261645, 0.94615463]), array([1.10190715, 1.23359836])],\n",
       " [array([[0.44158887, 0.10752876],\n",
       "         [0.10752876, 0.68761697]]),\n",
       "  array([[0.65003526, 0.23068496],\n",
       "         [0.23068496, 1.08110972]])])"
      ]
     },
     "execution_count": 15,
     "metadata": {},
     "output_type": "execute_result"
    }
   ],
   "source": [
    "import libSOGA\n",
    "\n",
    "soga_dist = libSOGA.Dist(['x','y'], libSOGA.GaussianMix(np.array(test_weights), np.array(test_means), np.array(test_covariances)))\n",
    "_, new_soga_dist = libSOGA.truncate(soga_dist, 'x>0', {})\n",
    "\n",
    "soga_w = new_soga_dist.gm.pi\n",
    "soga_mean = new_soga_dist.gm.mu\n",
    "soga_cov = new_soga_dist.gm.sigma\n",
    "\n",
    "soga_w, soga_mean, soga_cov"
   ]
  },
  {
   "cell_type": "code",
   "execution_count": 21,
   "metadata": {
    "colab": {
     "base_uri": "https://localhost:8080/",
     "height": 615
    },
    "id": "6inaOo-DNr2a",
    "outputId": "a79af969-b31f-465b-de82-2f439645d2c2"
   },
   "outputs": [
    {
     "name": "stderr",
     "output_type": "stream",
     "text": [
      "No artists with labels found to put in legend.  Note that artists whose label start with an underscore are ignored when legend() is called with no argument.\n"
     ]
    },
    {
     "name": "stdout",
     "output_type": "stream",
     "text": [
      "pred weights =  [0.49760675 0.5023932 ]\n",
      "pred means =  [[0.5683624 1.2342285]\n",
      " [1.6100849 1.3514749]]\n",
      "pred covs =  [[[0.12869148 0.03695422]\n",
      "  [0.03695422 1.1023437 ]]\n",
      "\n",
      " [[0.45838362 0.08338016]\n",
      "  [0.08338016 1.2448279 ]]]\n"
     ]
    },
    {
     "data": {
      "image/png": "[encoded data removed]",
      "text/plain": [
       "<Figure size 640x480 with 1 Axes>"
      ]
     },
     "metadata": {},
     "output_type": "display_data"
    }
   ],
   "source": [
    "# Plotting\n",
    "XX = 4\n",
    "x, y = np.meshgrid(np.linspace(-XX, XX, 100), np.linspace(-XX, XX, 100))\n",
    "pos = np.empty(x.shape + (2,))\n",
    "pos[:, :, 0] = x\n",
    "pos[:, :, 1] = y\n",
    "\n",
    "def multivariate_gaussian(pos, mu, Sigma):\n",
    "    n = mu.shape[0]\n",
    "    Sigma_det = np.linalg.det(Sigma)\n",
    "    Sigma_inv = np.linalg.inv(Sigma)\n",
    "    N = np.sqrt((2 * np.pi)**n * Sigma_det)\n",
    "    fac = np.einsum('...k,kl,...l->...', pos - mu, Sigma_inv, pos - mu)\n",
    "    return np.exp(-fac / 2) / N\n",
    "\n",
    "fig, ax = plt.subplots()\n",
    "\n",
    "# Plot the contour of each Gaussian component\n",
    "#for i in range(len(test_weights)):\n",
    "#    z_in = multivariate_gaussian(pos, test_means[i].numpy(), covariances[i].numpy())\n",
    "#    ax.contour(x, y, z_in, levels=5, colors='orange')\n",
    "\n",
    "print('pred weights = ', pi_pred.detach().numpy())\n",
    "print('pred means = ', mu_pred.detach().numpy())\n",
    "print('pred covs = ', sigma_pred.detach().numpy())\n",
    "cc = ['b', 'g']\n",
    "\n",
    "for i in range(len(pi_pred)):\n",
    "    z_out = pi_pred[i].detach().numpy()*multivariate_gaussian(pos, mu_pred[i].detach().numpy(), sigma_pred[i].detach().numpy())\n",
    "    ax.contour(x, y, z_out, levels=5, colors='blue')  # predicted\n",
    "\n",
    "# for i in range(len(test_weights)):\n",
    "    # z_out = multivariate_gaussian(pos, test_means[i].detach().numpy(), test_covariances[i].detach().numpy())\n",
    "    # ax.contour(x, y, z_out, levels=5, colors='orange')   # original\n",
    "\n",
    "for i in range(len(soga_w)):\n",
    "    z_out = soga_w[i]*multivariate_gaussian(pos, soga_mean[i], soga_cov[i])\n",
    "    ax.contour(x, y, z_out, levels=5, colors='green')   # SOGA\n",
    "\n",
    "\n",
    "# Plot the samples\n",
    "ax.scatter(test_samples[:, 0], test_samples[:, 1], s=1, c='orange')\n",
    "plt.legend()\n",
    "plt.title('Mixture of 2-Dimensional Gaussians with Samples')\n",
    "plt.xlabel('X-axis')\n",
    "plt.ylabel('Y-axis')\n",
    "plt.show()"
   ]
  },
  {
   "cell_type": "code",
   "execution_count": null,
   "metadata": {
    "id": "0h371SoCOB95"
   },
   "outputs": [],
   "source": []
  },
  {
   "cell_type": "code",
   "execution_count": null,
   "metadata": {},
   "outputs": [],
   "source": []
  },
  {
   "cell_type": "code",
   "execution_count": null,
   "metadata": {},
   "outputs": [],
   "source": []
  }
 ],
 "metadata": {
  "colab": {
   "provenance": []
  },
  "kernelspec": {
   "display_name": "Python 3 (ipykernel)",
   "language": "python",
   "name": "python3"
  },
  "language_info": {
   "codemirror_mode": {
    "name": "ipython",
    "version": 3
   },
   "file_extension": ".py",
   "mimetype": "text/x-python",
   "name": "python",
   "nbconvert_exporter": "python",
   "pygments_lexer": "ipython3",
   "version": "3.11.5"
  }
 },
 "nbformat": 4,
 "nbformat_minor": 4
}
