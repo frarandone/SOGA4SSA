{
 "cells": [
  {
   "cell_type": "code",
   "execution_count": 1,
   "metadata": {
    "colab": {
     "base_uri": "https://localhost:8080/"
    },
    "id": "p3GMcXJW3LFu",
    "outputId": "5a66b92b-3d1f-4c15-cca7-ed78ce2ce9b4"
   },
   "outputs": [],
   "source": [
    "import torch\n",
    "from torch import nn\n",
    "import torch.distributions as dist\n",
    "torch.manual_seed(0)\n",
    "\n",
    "import matplotlib.pyplot as plt\n",
    "import numpy as np"
   ]
  },
  {
   "cell_type": "code",
   "execution_count": 2,
   "metadata": {
    "id": "gy_kk2Bbdxd2"
   },
   "outputs": [],
   "source": [
    "POS = 10**(-3)  # try reduce this -> error non-positive definite\n",
    "EPS = 1e-6\n",
    "DIAG = 0.1"
   ]
  },
  {
   "cell_type": "markdown",
   "metadata": {
    "id": "0h371SoCOB95"
   },
   "source": [
    "# One dimensional - direct"
   ]
  },
  {
   "cell_type": "markdown",
   "metadata": {},
   "source": [
    "### Training"
   ]
  },
  {
   "cell_type": "code",
   "execution_count": 3,
   "metadata": {},
   "outputs": [],
   "source": [
    "class ApproxTruncation(nn.Module):\n",
    "    def __init__(self, xdim, num_component_input=2, num_component_output=2, nsamples=500):\n",
    "        super(ApproxTruncation, self).__init__()\n",
    "        self.num_component_input = num_component_input\n",
    "        self.num_component_output = num_component_output\n",
    "        \n",
    "        self.xdim = xdim\n",
    "        self.out_dim = int(self.num_component_output*(1+self.xdim+self.xdim*(self.xdim+1)/2))   # changed to produce triangular matrices\n",
    "\n",
    "        self.network = nn.Sequential(\n",
    "            nn.Linear(self.xdim, 24),\n",
    "            nn.LeakyReLU(0.2),\n",
    "            nn.Linear(24, 48),\n",
    "            nn.LeakyReLU(0.2),\n",
    "            nn.Linear(48, 48),\n",
    "            nn.LeakyReLU(0.2),\n",
    "            nn.Linear(48,24),\n",
    "            nn.LeakyReLU(0.2),\n",
    "            nn.Linear(24, self.out_dim),\n",
    "        )\n",
    "\n",
    "        self.lay = nn.Linear(nsamples, 1)\n",
    "\n",
    "    def forward(self, samples):\n",
    "\n",
    "        output = self.network(samples)\n",
    "\n",
    "        fl_output = self.lay(output.t())\n",
    "\n",
    "        fl_output = fl_output.reshape((self.num_component_output,-1))\n",
    "\n",
    "        weights = torch.sigmoid(fl_output[:, 0])\n",
    "        weights = weights / weights.sum()\n",
    "        mus = torch.exp(fl_output[:, 1:self.xdim+1])                                                        # put exp instead of relu\n",
    "        \n",
    "        if self.xdim == 1:\n",
    "            covs = torch.exp(fl_output[:, self.xdim+1:].reshape((self.num_component_output, self.xdim, self.xdim)))\n",
    "        else:\n",
    "            # uses triangular matrices\n",
    "            sigmas = torch.zeros((self.num_component_output, self.xdim, self.xdim))\n",
    "            covs = torch.zeros((self.num_component_output, self.xdim, self.xdim))      \n",
    "            for i in range(self.num_component_output):\n",
    "                sigmas[i][np.triu_indices(self.xdim),1] = fl_output[i, self.xdim+1:-self.xdim]\n",
    "                sigmas[i][np.diag_indices(self.xdim)] = torch.relu(fl_output[i, -self.xdim:]) + DIAG\n",
    "                covs[i] = torch.mm(sigmas[i],sigmas[i].t()) #+ POS*torch.eye(self.xdim)\n",
    "\n",
    "        return weights, mus, covs"
   ]
  },
  {
   "cell_type": "code",
   "execution_count": 4,
   "metadata": {},
   "outputs": [],
   "source": [
    "EPS = 10**(-6)\n",
    "def loss_function(samples, weights, means, covariances):\n",
    "\n",
    "    # samples: [n_samples, xdim]\n",
    "    n_samples, xdim = samples.shape\n",
    "\n",
    "    components = weights.shape[0]\n",
    "\n",
    "    #Generate the gaussian mixture\n",
    "    distributions = [dist.MultivariateNormal(means[i], covariances[i]) for i in range(components)]\n",
    "        \n",
    "    log_probs = torch.zeros(samples.shape[0], components)\n",
    "    \n",
    "    for i in range(components):\n",
    "        log_probs[:, i] = distributions[i].log_prob(samples) + torch.log(weights[i]+EPS)   \n",
    "\n",
    "    # Log-sum-exp for numerical stability\n",
    "    max_log_probs, _ = torch.max(log_probs, dim=1, keepdim=True)\n",
    "    log_probs = torch.log(torch.sum(torch.exp(log_probs - max_log_probs), dim=1)) + max_log_probs.squeeze()\n",
    "\n",
    "    #loss = torch.tensor(0.)\n",
    "    #for i in range(components):\n",
    "    #    loss += 0.5*torch.pow(torch.sqrt(1/covariances[i])*(samples - means[i]), 2).mean()\n",
    "    #    loss -= torch.sqrt(1/covariances[i]).reshape([])\n",
    "    #return loss\n",
    "    \n",
    "    return -log_probs.mean() #+ torch.sum(torch.pow(torch.mean(samples, dim=0) - means, 2)) + torch.sum(torch.pow(covariances, 2))"
   ]
  },
  {
   "cell_type": "code",
   "execution_count": 5,
   "metadata": {},
   "outputs": [],
   "source": [
    "def generate_random_covariance(dim, lb, ub):\n",
    "    #A = torch.empty(dim, dim).uniform_(lb, ub)\n",
    "    \n",
    "    # generate triangular\n",
    "    A = torch.zeros((dim, dim))\n",
    "    A[np.triu_indices(dim,1)] = torch.empty(int(dim*(dim-1)/2)).uniform_(lb, ub)\n",
    "    A[np.diag_indices(dim)] = torch.empty(dim).uniform_(DIAG, ub) #strictly positive diagonal\n",
    "    \n",
    "    cov_matrix = torch.rand(1)*torch.mm(A, A.t())  # Make it symmetric and semi-definite, added multiplicative factor to make the range vary\n",
    "    #cov_matrix += POS*torch.eye(dim)  # Make it positive definite\n",
    "\n",
    "    return cov_matrix\n",
    "\n",
    "def _truncate_samples(samples, dist):\n",
    "    # Iteratively resample until all values are positive\n",
    "    while torch.any(samples < 0):\n",
    "        negative_indices = torch.any(samples < 0,dim=1)\n",
    "        new_samples = dist.sample((negative_indices.sum(),))\n",
    "        samples[negative_indices] = new_samples#[negative_indices]\n",
    "    return samples\n",
    "\n",
    "#def _truncate_samples(samples, dist):\n",
    "#    # Iteratively resample until all values are positive\n",
    "#    while torch.any(samples[:, 0] < 0):\n",
    "#        negative_indices = torch.where(samples[:,0] < 0)[0]\n",
    "#        new_samples = dist.sample((len(negative_indices),))\n",
    "#        samples[negative_indices] = new_samples\n",
    "#    return samples\n",
    "\n",
    "def gm_sampling(pis, mus, sigmas, num_samples):\n",
    "    \n",
    "    gm_distributions = [dist.MultivariateNormal(mus[i], sigmas[i]) for i in range(len(pis))]\n",
    "    \n",
    "    component_choices = torch.multinomial(pis, num_samples, replacement=True)\n",
    "    samples = torch.zeros(num_samples, mus.shape[1])\n",
    "\n",
    "    for i in range(len(pis)):\n",
    "        mask = (component_choices == i)\n",
    "        num_samples_i = mask.sum()\n",
    "        if num_samples_i > 0:\n",
    "            tsamples = gm_distributions[i].sample((num_samples_i,))\n",
    "            samples[mask] = _truncate_samples(tsamples, gm_distributions[i])\n",
    "            #samples[mask] = gm_distributions[i].sample((num_samples_i,))\n",
    "    return samples"
   ]
  },
  {
   "cell_type": "code",
   "execution_count": 6,
   "metadata": {},
   "outputs": [],
   "source": [
    "# number of samples generated per gaussian mixture during training\n",
    "nsamples = 100   # increased number of samples   \n",
    "# number of gaussian mixtures seen during training\n",
    "niter = 100000\n",
    "\n",
    "ncomp = 1\n",
    "xdim = 1\n",
    "\n",
    "lb_mu = 0\n",
    "ub_mu = 100\n",
    "lb_sigma = -10\n",
    "ub_sigma = 10\n"
   ]
  },
  {
   "cell_type": "code",
   "execution_count": 7,
   "metadata": {},
   "outputs": [
    {
     "name": "stdout",
     "output_type": "stream",
     "text": [
      "loss: 3582.203125 0.0%\n",
      "generated tensor([[87.1233]]) tensor([[[2.1966]]])\n",
      "predicted tensor([[0.7024]], grad_fn=<ExpBackward0>) tensor([[[1.0378]]], grad_fn=<ExpBackward0>)\n",
      "loss: 92.573517 1.0%\n",
      "loss: 36.915836 2.0%\n",
      "loss: 10.170521 3.0%\n",
      "loss: 6.696948 4.0%\n",
      "loss: 5.725863 5.0%\n",
      "loss: 5.836722 6.0%\n",
      "loss: 8.479815 7.0%\n",
      "loss: 7.635413 8.0%\n",
      "loss: 4.091225 9.0%\n",
      "loss: 8.420867 10.0%\n",
      "generated tensor([[95.7505]]) tensor([[[69.9352]]])\n",
      "predicted tensor([[1101.7103]], grad_fn=<ExpBackward0>) tensor([[[1962814.7500]]], grad_fn=<ExpBackward0>)\n",
      "loss: 4.787001 11.0%\n",
      "loss: 5.885650 12.0%\n",
      "loss: 6.968954 13.0%\n",
      "loss: 7.813807 14.0%\n",
      "loss: 4.832395 15.0%\n",
      "loss: 8.077644 16.0%\n",
      "loss: 5.571854 17.0%\n",
      "loss: 5.526316 18.0%\n",
      "loss: 4.559655 19.0%\n",
      "loss: 3.611260 20.0%\n",
      "generated tensor([[12.5172]]) tensor([[[16.5493]]])\n",
      "predicted tensor([[9.1268]], grad_fn=<ExpBackward0>) tensor([[[10.8475]]], grad_fn=<ExpBackward0>)\n",
      "loss: 2.516474 21.0%\n",
      "loss: 3.690588 22.0%\n",
      "loss: 3.858294 23.0%\n",
      "loss: 3.554418 24.0%\n",
      "loss: 4.383433 25.0%\n",
      "loss: 5.177865 26.0%\n",
      "loss: 3.505261 27.0%\n",
      "loss: 3.114486 28.0%\n",
      "loss: 3.084720 29.0%\n",
      "loss: 2.740558 30.0%\n",
      "generated tensor([[39.1632]]) tensor([[[12.1675]]])\n",
      "predicted tensor([[38.4082]], grad_fn=<ExpBackward0>) tensor([[[23.5914]]], grad_fn=<ExpBackward0>)\n",
      "loss: 2.647485 31.0%\n",
      "loss: 3.138862 32.0%\n",
      "loss: 3.034455 33.0%\n",
      "loss: 2.745978 34.0%\n",
      "loss: 2.898004 35.0%\n",
      "loss: 3.310418 36.0%\n",
      "loss: 2.991707 37.0%\n",
      "loss: 3.262661 38.0%\n",
      "loss: 2.909511 39.0%\n",
      "loss: 3.337613 40.0%\n",
      "generated tensor([[70.2816]]) tensor([[[28.0973]]])\n",
      "predicted tensor([[66.6931]], grad_fn=<ExpBackward0>) tensor([[[31.3452]]], grad_fn=<ExpBackward0>)\n",
      "loss: 2.949312 41.0%\n",
      "loss: 2.763080 42.0%\n",
      "loss: 4.126859 43.0%\n",
      "loss: 3.672019 44.0%\n",
      "loss: 2.475677 45.0%\n",
      "loss: 3.920632 46.0%\n",
      "loss: 2.947541 47.0%\n",
      "loss: 2.559575 48.0%\n",
      "loss: 3.110157 49.0%\n",
      "loss: 2.515794 50.0%\n",
      "generated tensor([[54.6138]]) tensor([[[0.3795]]])\n",
      "predicted tensor([[53.1499]], grad_fn=<ExpBackward0>) tensor([[[21.8837]]], grad_fn=<ExpBackward0>)\n",
      "loss: 2.757375 51.0%\n",
      "loss: 2.959217 52.0%\n",
      "loss: 2.785985 53.0%\n",
      "loss: 3.465250 54.0%\n",
      "loss: 2.467182 55.0%\n",
      "loss: 3.475359 56.0%\n",
      "loss: 2.452780 57.0%\n",
      "loss: 3.226766 58.0%\n",
      "loss: 2.887501 59.0%\n",
      "loss: 2.529527 60.0%\n",
      "generated tensor([[45.6973]]) tensor([[[0.7944]]])\n",
      "predicted tensor([[46.4668]], grad_fn=<ExpBackward0>) tensor([[[23.7437]]], grad_fn=<ExpBackward0>)\n",
      "loss: 2.833173 61.0%\n",
      "loss: 3.072751 62.0%\n",
      "loss: 2.746701 63.0%\n",
      "loss: 3.001696 64.0%\n",
      "loss: 2.953526 65.0%\n",
      "loss: 4.130638 66.0%\n",
      "loss: 2.607434 67.0%\n",
      "loss: 2.967298 68.0%\n",
      "loss: 2.858254 69.0%\n",
      "loss: 2.532439 70.0%\n",
      "generated tensor([[17.9123]]) tensor([[[3.6206]]])\n",
      "predicted tensor([[17.3094]], grad_fn=<ExpBackward0>) tensor([[[20.1169]]], grad_fn=<ExpBackward0>)\n",
      "loss: 4.038740 71.0%\n",
      "loss: 2.772395 72.0%\n",
      "loss: 4.159997 73.0%\n",
      "loss: 3.545838 74.0%\n",
      "loss: 2.652033 75.0%\n",
      "loss: 2.712100 76.0%\n",
      "loss: 2.511928 77.0%\n",
      "loss: 2.458918 78.0%\n",
      "loss: 2.607953 79.0%\n",
      "loss: 3.408585 80.0%\n",
      "generated tensor([[42.3414]]) tensor([[[32.9144]]])\n",
      "predicted tensor([[40.8699]], grad_fn=<ExpBackward0>) tensor([[[18.7310]]], grad_fn=<ExpBackward0>)\n",
      "loss: 2.460322 81.0%\n",
      "loss: 2.590476 82.0%\n",
      "loss: 5.186525 83.0%\n",
      "loss: 3.049841 84.0%\n",
      "loss: 2.595320 85.0%\n",
      "loss: 2.955898 86.0%\n",
      "loss: 3.474404 87.0%\n",
      "loss: 2.513116 88.0%\n",
      "loss: 2.526601 89.0%\n",
      "loss: 2.378479 90.0%\n",
      "generated tensor([[45.1410]]) tensor([[[0.1278]]])\n",
      "predicted tensor([[45.0951]], grad_fn=<ExpBackward0>) tensor([[[18.4175]]], grad_fn=<ExpBackward0>)\n",
      "loss: 3.389340 91.0%\n",
      "loss: 2.372361 92.0%\n",
      "loss: 2.634329 93.0%\n",
      "loss: 2.580316 94.0%\n",
      "loss: 3.835732 95.0%\n",
      "loss: 2.443632 96.0%\n",
      "loss: 3.745365 97.0%\n",
      "loss: 3.533364 98.0%\n",
      "loss: 2.480821 99.0%\n",
      "Done!\n"
     ]
    }
   ],
   "source": [
    "model = ApproxTruncation(xdim=xdim, num_component_input=ncomp, num_component_output=ncomp, nsamples=nsamples)\n",
    "optimizer = torch.optim.Adam(model.parameters(), lr=0.00001)\n",
    "\n",
    "model.train()\n",
    "\n",
    "losses = []\n",
    "for t in range(niter):\n",
    "\n",
    "    optimizer.zero_grad()\n",
    "    weights = torch.rand(ncomp)\n",
    "    weights = weights / weights.sum()  # Normalize to sum to 1\n",
    "    means = torch.empty(ncomp, xdim).uniform_(lb_mu, ub_mu)\n",
    "    covariances = torch.empty(ncomp, xdim, xdim)\n",
    "    for j in range(ncomp):\n",
    "        covariances[j] = generate_random_covariance(xdim, lb_sigma, ub_sigma)\n",
    "    \n",
    "    samples = gm_sampling(weights, means, covariances, nsamples)\n",
    "\n",
    "    pi_new, mu_new, sigma_new = model(samples)\n",
    "\n",
    "    #components = pi_new.shape[0]\n",
    "    #distributions = [dist.MultivariateNormal(mu_new[i], sigma_new[i]) for i in range(components)]\n",
    "\n",
    "    loss = loss_function(samples, pi_new, mu_new, sigma_new)\n",
    "\n",
    "    # Backpropagation\n",
    "    loss.backward()\n",
    "    optimizer.step()\n",
    "\n",
    "    if t % 1000 == 0:\n",
    "      tloss = loss.item() #batch * batch_size + len(X)\n",
    "      losses.append(tloss)\n",
    "      print(f\"loss: {tloss:>7f} {np.round(t/niter*100,3)}%\")\n",
    "\n",
    "    if t % 10000 == 0:\n",
    "        print('generated', means, covariances)\n",
    "        print('predicted', mu_new, sigma_new)\n",
    "\n",
    "print(\"Done!\")"
   ]
  },
  {
   "cell_type": "code",
   "execution_count": 42,
   "metadata": {},
   "outputs": [],
   "source": [
    "torch.save(model, 'params/truncNNdim1-direct-1to1.pth')"
   ]
  },
  {
   "cell_type": "code",
   "execution_count": 43,
   "metadata": {},
   "outputs": [
    {
     "ename": "NameError",
     "evalue": "name 'losses' is not defined",
     "output_type": "error",
     "traceback": [
      "\u001b[1;31m---------------------------------------------------------------------------\u001b[0m",
      "\u001b[1;31mNameError\u001b[0m                                 Traceback (most recent call last)",
      "Cell \u001b[1;32mIn[43], line 2\u001b[0m\n\u001b[0;32m      1\u001b[0m fig \u001b[38;5;241m=\u001b[39m plt\u001b[38;5;241m.\u001b[39mfigure()\n\u001b[1;32m----> 2\u001b[0m plt\u001b[38;5;241m.\u001b[39mplot(np\u001b[38;5;241m.\u001b[39marange(\u001b[38;5;28mlen\u001b[39m(losses)), losses)\n\u001b[0;32m      3\u001b[0m plt\u001b[38;5;241m.\u001b[39mtitle(\u001b[38;5;124m'\u001b[39m\u001b[38;5;124mloss\u001b[39m\u001b[38;5;124m'\u001b[39m)\n\u001b[0;32m      4\u001b[0m plt\u001b[38;5;241m.\u001b[39mxlabel(\u001b[38;5;124m'\u001b[39m\u001b[38;5;124miterations\u001b[39m\u001b[38;5;124m'\u001b[39m)\n",
      "\u001b[1;31mNameError\u001b[0m: name 'losses' is not defined"
     ]
    },
    {
     "data": {
      "text/plain": [
       "<Figure size 640x480 with 0 Axes>"
      ]
     },
     "metadata": {},
     "output_type": "display_data"
    }
   ],
   "source": [
    "fig = plt.figure()\n",
    "plt.plot(np.arange(len(losses)), losses)\n",
    "plt.title('loss')\n",
    "plt.xlabel('iterations')\n",
    "plt.ylim(0,100)\n",
    "plt.show()"
   ]
  },
  {
   "cell_type": "markdown",
   "metadata": {},
   "source": [
    "### Test"
   ]
  },
  {
   "cell_type": "code",
   "execution_count": 47,
   "metadata": {},
   "outputs": [
    {
     "name": "stderr",
     "output_type": "stream",
     "text": [
      "C:\\Users\\birik\\AppData\\Local\\Temp\\ipykernel_27912\\3689444106.py:6: FutureWarning: You are using `torch.load` with `weights_only=False` (the current default value), which uses the default pickle module implicitly. It is possible to construct malicious pickle data which will execute arbitrary code during unpickling (See https://github.com/pytorch/pytorch/blob/main/SECURITY.md#untrusted-models for more details). In a future release, the default value for `weights_only` will be flipped to `True`. This limits the functions that could be executed during unpickling. Arbitrary objects will no longer be allowed to be loaded via this mode unless they are explicitly allowlisted by the user via `torch.serialization.add_safe_globals`. We recommend you start setting `weights_only=True` for any use case where you don't have full control of the loaded file. Please open an issue on GitHub for any issues related to this experimental feature.\n",
      "  model = torch.load('params/truncNNdim1-direct-1to1.pth')\n"
     ]
    }
   ],
   "source": [
    "ncomp = 1\n",
    "xdim = 1\n",
    "nsamples = 100\n",
    "\n",
    "model = ApproxTruncation(xdim=xdim, num_component_input=ncomp, num_component_output=ncomp, nsamples=nsamples)\n",
    "model = torch.load('params/truncNNdim1-direct-1to1.pth')"
   ]
  },
  {
   "cell_type": "code",
   "execution_count": 48,
   "metadata": {},
   "outputs": [
    {
     "name": "stdout",
     "output_type": "stream",
     "text": [
      "Test params: tensor([1.]) tensor([[7.4222]]) tensor([[[1.1471]]])\n",
      "Pred params: tensor([1.], grad_fn=<DivBackward0>) tensor([[9.6497]], grad_fn=<ExpBackward0>) tensor([[[16.0369]]], grad_fn=<ExpBackward0>)\n"
     ]
    }
   ],
   "source": [
    "test_weights = torch.rand(ncomp)\n",
    "test_weights = test_weights / test_weights.sum()  # Normalize to sum to 1\n",
    "test_means = torch.empty(ncomp, xdim).uniform_(0, 10)\n",
    "test_covariances = torch.empty(ncomp, xdim, xdim)\n",
    "\n",
    "for j in range(ncomp):\n",
    "  test_covariances[j] = generate_random_covariance(xdim, -5, 5)\n",
    "\n",
    "test_samples = gm_sampling(test_weights, test_means, test_covariances, nsamples)\n",
    "\n",
    "pi_pred, mu_pred, sigma_pred = model(test_samples)\n",
    "\n",
    "print('Test params:', test_weights, test_means, test_covariances)\n",
    "print('Pred params:', pi_pred, mu_pred, sigma_pred)"
   ]
  },
  {
   "cell_type": "code",
   "execution_count": 49,
   "metadata": {},
   "outputs": [
    {
     "data": {
      "text/plain": [
       "(1.0, array([7.42216206]), array([[1.1470933]]))"
      ]
     },
     "execution_count": 49,
     "metadata": {},
     "output_type": "execute_result"
    }
   ],
   "source": [
    "import libSOGA\n",
    "\n",
    "soga_dist = libSOGA.Dist(['x'], libSOGA.GaussianMix(np.array([1.]), [np.array(test_means[0])], [np.array(test_covariances[0])]))\n",
    "_, new_soga_dist = libSOGA.truncate(soga_dist, 'x>0', {})\n",
    "\n",
    "soga_w = new_soga_dist.gm.pi[0]\n",
    "soga_mean = new_soga_dist.gm.mu[0]\n",
    "soga_cov = new_soga_dist.gm.sigma[0]\n",
    "\n",
    "soga_w, soga_mean, soga_cov"
   ]
  },
  {
   "cell_type": "code",
   "execution_count": 50,
   "metadata": {},
   "outputs": [
    {
     "data": {
      "text/plain": [
       "<matplotlib.legend.Legend at 0x20d24fd2690>"
      ]
     },
     "execution_count": 50,
     "metadata": {},
     "output_type": "execute_result"
    },
    {
     "data": {
      "image/png": "[encoded data removed]",
      "text/plain": [
       "<Figure size 640x480 with 1 Axes>"
      ]
     },
     "metadata": {},
     "output_type": "display_data"
    }
   ],
   "source": [
    "from scipy.stats import truncnorm\n",
    "from scipy.stats import norm\n",
    "\n",
    "# Plotting\n",
    "x = np.linspace(-5,30,100)\n",
    "\n",
    "loc = test_means[0]\n",
    "scale = np.sqrt(test_covariances[0])\n",
    "a = -loc/scale\n",
    "b = np.inf\n",
    "\n",
    "y_trunc = truncnorm.pdf(x, a, b, loc, scale).reshape(x.shape)\n",
    "y_soga = norm.pdf(x, soga_mean, np.sqrt(soga_cov)).reshape(x.shape)\n",
    "y_nn = norm.pdf(x, mu_pred.detach().numpy(), np.sqrt(sigma_pred.detach().numpy())).reshape(x.shape)\n",
    "\n",
    "#plt.hist(test_samples.t(), bins=10, range=(40,50), density=True, label='samples')\n",
    "\n",
    "plt.plot(x, y_trunc, label='truncated density')\n",
    "plt.plot(x, y_soga, label='SOGA')\n",
    "plt.plot(x, y_nn, label='NN')\n",
    "\n",
    "plt.legend()"
   ]
  },
  {
   "cell_type": "markdown",
   "metadata": {},
   "source": [
    "# One dimensional - inverse"
   ]
  },
  {
   "cell_type": "markdown",
   "metadata": {},
   "source": [
    "Dobbiamo usare la direct KL invece della reverse (la likelihood e' equivalente alla reverse).\n",
    "\n",
    "Sia $q$ la distribuzione usata per la stima e $p$ la troncata che vogliamo approssimare.\n",
    "\n",
    "$$ KL(q || p) = \\mathbb{E}_q\\big[\\log\\big(\\frac{q}{p}\\big)\\big] = H(q) - \\mathbb{E}_q[\\log(p)] = H(q) - \\int_{\\mathbb{R}^2} q(s) \\log(p(s)) dx $$"
   ]
  },
  {
   "cell_type": "code",
   "execution_count": 3,
   "metadata": {
    "id": "Pg4KD-nS3VTV"
   },
   "outputs": [],
   "source": [
    "class ApproxTruncation(nn.Module):\n",
    "    def __init__(self, xdim, num_component_input=1, num_component_output=1):\n",
    "        super(ApproxTruncation, self).__init__()\n",
    "        self.num_component_input = num_component_input\n",
    "        self.num_component_output = num_component_output\n",
    "        \n",
    "        self.xdim = xdim\n",
    "        self.inp_dim = int(self.num_component_input*(1+self.xdim+self.xdim**2)) \n",
    "        self.out_dim = int(self.num_component_output*(1+self.xdim+self.xdim*(self.xdim+1)/2))   # changed to produce triangular matrices\n",
    "\n",
    "        self.network = nn.Sequential(\n",
    "            nn.Linear(self.inp_dim, 24),\n",
    "            nn.LeakyReLU(0.2),\n",
    "            nn.Linear(24, 48),\n",
    "            nn.LeakyReLU(0.2),\n",
    "            nn.Linear(48, 48),\n",
    "            nn.LeakyReLU(0.2),\n",
    "            nn.Linear(48,24),\n",
    "            nn.LeakyReLU(0.2),\n",
    "            nn.Linear(24, self.out_dim),\n",
    "        )\n",
    "\n",
    "    def forward(self, params):\n",
    "\n",
    "        output = self.network(params)\n",
    "        \n",
    "        weights = torch.sigmoid(output[:self.num_component_output])\n",
    "        weights = weights / weights.sum()\n",
    "        mus = torch.exp(output[self.num_component_output:self.num_component_output*(self.xdim+1)]).reshape((self.num_component_output, self.xdim))                                                       \n",
    "\n",
    "        if self.xdim == 1:\n",
    "            covs = torch.exp(output[self.num_component_output*(self.xdim+1):]).reshape((self.num_component_output, 1))\n",
    "        else:\n",
    "            # uses triangular matrices\n",
    "            sigmas = torch.zeros((self.num_component_output, self.xdim, self.xdim))\n",
    "            covs = torch.zeros((self.num_component_output, self.xdim, self.xdim))      \n",
    "            for i in range(self.num_component_output):\n",
    "                sigmas[i][np.triu_indices(self.xdim),1] = fl_output[i, self.xdim+1:-self.xdim]\n",
    "                sigmas[i][np.diag_indices(self.xdim)] = torch.relu(fl_output[i, -self.xdim:]) + DIAG\n",
    "                covs[i] = torch.mm(sigmas[i],sigmas[i].t()) #+ POS*torch.eye(self.xdim)\n",
    "\n",
    "        return weights, mus, covs"
   ]
  },
  {
   "cell_type": "code",
   "execution_count": null,
   "metadata": {},
   "outputs": [],
   "source": [
    "GRID = torch.linspace(EPS, 10, 100)\n",
    "delta = GRID[1] - GRID[0]\n",
    "nsamples = 500\n",
    "\n",
    "from botorch.utils.probability.truncated_multivariate_normal import TruncatedMultivariateNormal as TruncNorm\n",
    "\n",
    "def loss_function(params, weights, means, covariances):\n",
    "\n",
    "    ncomp = weights.shape[0]\n",
    "    xdim = means[0].shape[0]\n",
    "\n",
    "    w_trunc = params[:ncomp]\n",
    "    mu_trunc = params[ncomp:ncomp*(xdim+1)].reshape(ncomp,xdim)\n",
    "    cov_trunc = params[ncomp*(xdim+1):].reshape(ncomp,xdim,xdim)\n",
    "\n",
    "    if xdim == 1 & ncomp == 1:\n",
    "        norm = dist.Normal(means[0], covariances[0])          # Normal distribution (the one we are estimating)\n",
    "        tnorm = dist.Normal(mu_trunc, torch.sqrt(cov_trunc))  # Truncated normal (the one we want to approximate)\n",
    "        norm_factor = 1 - tnorm.cdf(torch.tensor(0.))         # Normalization factor for truncated normal\n",
    "        loss = norm.entropy() - delta*torch.sum(torch.exp(norm.log_prob(GRID))*(tnorm.log_prob(GRID)-torch.log(norm_factor)))\n",
    "\n",
    "        #norm = dist.Normal(means[0], covariances[0])          # Normal distribution (the one we are estimating)\n",
    "        #samples = norm.sample((nsamples,1))                   # generates samples from normal\n",
    "        #positive_indices = torch.any(samples > 0, dim=1)      # negative samples have likelihood 0\n",
    "        #tnorm = dist.Normal(mu_trunc, torch.sqrt(cov_trunc))  # Truncated normal (the one we want to approximate)\n",
    "        #norm_factor = 1 - tnorm.cdf(torch.tensor(0.))         # Normalization factor for truncated normal \n",
    "        #loss = norm.entropy() - torch.mean(tnorm.log_prob(samples[positive_indices])-torch.log(norm_factor))\n",
    "        return loss\n",
    "    "
   ]
  },
  {
   "cell_type": "markdown",
   "metadata": {},
   "source": [
    "### Training"
   ]
  },
  {
   "cell_type": "code",
   "execution_count": 12,
   "metadata": {
    "id": "GjJ47qkm7-Lz"
   },
   "outputs": [],
   "source": [
    "# number of gaussian mixtures seen during training\n",
    "niter = 50000\n",
    "\n",
    "ncomp = 1\n",
    "xdim = 1\n",
    "\n",
    "lb_mu = 0\n",
    "ub_mu = 10\n",
    "lb_sigma = -5\n",
    "ub_sigma = 5\n",
    "\n",
    "# changed the bounds\n",
    "#bounds_mu = [lb_mu*torch.ones(xdim),ub_mu*torch.ones(xdim)]\n",
    "#bounds_sigma = [lb_sigma**torch.ones(xdim**2), ub_sigma**torch.ones(xdim**2)] \n"
   ]
  },
  {
   "cell_type": "code",
   "execution_count": 13,
   "metadata": {
    "colab": {
     "base_uri": "https://localhost:8080/"
    },
    "id": "4JeYhLom-FMg",
    "outputId": "56fbe95e-9b29-4139-bf24-01d1a13f6a45"
   },
   "outputs": [
    {
     "name": "stdout",
     "output_type": "stream",
     "text": [
      "loss: 2.741231 0.0%\n",
      "generated tensor([[1.3681]]) tensor([[[1.3533]]])\n",
      "predicted tensor([[1.0909]], grad_fn=<ViewBackward0>) tensor([[1.0990]], grad_fn=<ViewBackward0>)\n",
      "loss: 10.331261 2.0%\n",
      "loss: 2.691677 4.0%\n",
      "loss: 2.772292 6.0%\n",
      "loss: 15.476457 8.0%\n",
      "loss: 2.687554 10.0%\n",
      "loss: 2.800953 12.0%\n",
      "loss: 4.126326 14.0%\n",
      "loss: 48.653835 16.0%\n",
      "loss: 4.081121 18.0%\n",
      "loss: 3.544315 20.0%\n",
      "generated tensor([[3.3290]]) tensor([[[2.5634]]])\n",
      "predicted tensor([[1.0421]], grad_fn=<ViewBackward0>) tensor([[0.8220]], grad_fn=<ViewBackward0>)\n",
      "loss: 3.200329 22.0%\n",
      "loss: 3.167950 24.0%\n",
      "loss: 2.387177 26.0%\n",
      "loss: 27.369284 28.0%\n",
      "loss: 8.335875 30.0%\n",
      "loss: 5.456818 32.0%\n",
      "loss: 3.585928 34.0%\n",
      "loss: 6.797420 36.0%\n",
      "loss: 243.549500 38.0%\n",
      "loss: 14.045031 40.0%\n",
      "generated tensor([[8.2481]]) tensor([[[2.1486]]])\n",
      "predicted tensor([[0.8760]], grad_fn=<ViewBackward0>) tensor([[0.2544]], grad_fn=<ViewBackward0>)\n",
      "loss: 2.110219 42.0%\n",
      "loss: 2.849788 44.0%\n",
      "loss: 2.101459 46.0%\n",
      "loss: 7.804923 48.0%\n",
      "loss: 5.091722 50.0%\n",
      "loss: 1.785326 52.0%\n",
      "loss: 4.853428 54.0%\n",
      "loss: 1.773197 56.0%\n",
      "loss: 6.146568 58.0%\n",
      "loss: 5.677443 60.0%\n",
      "generated tensor([[4.8266]]) tensor([[[1.4539]]])\n",
      "predicted tensor([[0.8770]], grad_fn=<ViewBackward0>) tensor([[0.1103]], grad_fn=<ViewBackward0>)\n",
      "loss: 23.159084 62.0%\n",
      "loss: 15.545675 64.0%\n",
      "loss: 1.486916 66.0%\n",
      "loss: 17.443605 68.0%\n",
      "loss: 1.196393 70.0%\n",
      "loss: 1.030155 72.0%\n",
      "loss: 12.116529 74.0%\n",
      "loss: 1.264256 76.0%\n",
      "loss: 0.351359 78.0%\n",
      "loss: -0.528937 80.0%\n",
      "generated tensor([[3.6641]]) tensor([[[3.4851]]])\n",
      "predicted tensor([[0.7934]], grad_fn=<ViewBackward0>) tensor([[0.0096]], grad_fn=<ViewBackward0>)\n",
      "loss: 0.950135 82.0%\n",
      "loss: 0.408867 84.0%\n",
      "loss: -2.236670 86.0%\n",
      "loss: 12.755747 88.0%\n",
      "loss: 46.749882 90.0%\n",
      "loss: -2.807024 92.0%\n",
      "loss: 56.825451 94.0%\n",
      "loss: 1.981680 96.0%\n",
      "loss: -2.293645 98.0%\n",
      "Done!\n"
     ]
    }
   ],
   "source": [
    "model = ApproxTruncation(xdim=xdim, num_component_input=ncomp, num_component_output=ncomp)\n",
    "optimizer = torch.optim.Adam(model.parameters(), lr=0.000001)\n",
    "\n",
    "model.train()\n",
    "\n",
    "losses = []\n",
    "for t in range(niter):\n",
    "\n",
    "    optimizer.zero_grad()\n",
    "    weights = torch.rand(ncomp)\n",
    "    weights = weights / weights.sum()  # Normalize to sum to 1\n",
    "    means = torch.empty(ncomp, xdim).uniform_(lb_mu, ub_mu)\n",
    "    covariances = torch.empty(ncomp, xdim, xdim)\n",
    "    for j in range(ncomp):\n",
    "        if xdim == 1:\n",
    "            covariances[j] = torch.empty(1).uniform_(EPS, ub_sigma)\n",
    "        else:\n",
    "            covariances[j] = generate_random_covariance(xdim, lb_sigma, ub_sigma)\n",
    "    \n",
    "    params = torch.hstack((weights, means.flatten(), covariances.flatten()))\n",
    "    pi_new, mu_new, sigma_new = model(params)\n",
    "    \n",
    "    loss = loss_function(params, pi_new, mu_new, sigma_new)\n",
    "\n",
    "    # Backpropagation\n",
    "    loss.backward()\n",
    "    optimizer.step()\n",
    "\n",
    "    if t % 1000 == 0:\n",
    "      tloss = loss.item() #batch * batch_size + len(X)\n",
    "      losses.append(tloss)\n",
    "      print(f\"loss: {tloss:>7f} {np.round(t/niter*100,3)}%\")\n",
    "\n",
    "    if t % 10000 == 0:\n",
    "        print('generated', means, covariances)\n",
    "        print('predicted', mu_new, sigma_new)\n",
    "\n",
    "print(\"Done!\")"
   ]
  },
  {
   "cell_type": "code",
   "execution_count": 13,
   "metadata": {},
   "outputs": [],
   "source": [
    "torch.save(model, 'params/truncNNdim1-1to1.pth')"
   ]
  },
  {
   "cell_type": "code",
   "execution_count": 17,
   "metadata": {
    "colab": {
     "base_uri": "https://localhost:8080/",
     "height": 472
    },
    "id": "CCHOSUtEaE1v",
    "outputId": "40155460-c283-4f7e-8b66-297d1d5d7127"
   },
   "outputs": [
    {
     "data": {
      "image/png": "[encoded data removed]",
      "text/plain": [
       "<Figure size 640x480 with 1 Axes>"
      ]
     },
     "metadata": {},
     "output_type": "display_data"
    }
   ],
   "source": [
    "fig = plt.figure()\n",
    "plt.plot(np.arange(len(losses)), losses)\n",
    "plt.title('loss')\n",
    "plt.xlabel('iterations')\n",
    "plt.ylim(0,50)\n",
    "plt.show()"
   ]
  },
  {
   "cell_type": "markdown",
   "metadata": {},
   "source": [
    "### Test"
   ]
  },
  {
   "cell_type": "code",
   "execution_count": 85,
   "metadata": {},
   "outputs": [
    {
     "name": "stderr",
     "output_type": "stream",
     "text": [
      "C:\\Users\\birik\\AppData\\Local\\Temp\\ipykernel_20568\\2786245131.py:5: FutureWarning: You are using `torch.load` with `weights_only=False` (the current default value), which uses the default pickle module implicitly. It is possible to construct malicious pickle data which will execute arbitrary code during unpickling (See https://github.com/pytorch/pytorch/blob/main/SECURITY.md#untrusted-models for more details). In a future release, the default value for `weights_only` will be flipped to `True`. This limits the functions that could be executed during unpickling. Arbitrary objects will no longer be allowed to be loaded via this mode unless they are explicitly allowlisted by the user via `torch.serialization.add_safe_globals`. We recommend you start setting `weights_only=True` for any use case where you don't have full control of the loaded file. Please open an issue on GitHub for any issues related to this experimental feature.\n",
      "  model = torch.load('params/truncNNdim1-1to1.pth')\n"
     ]
    }
   ],
   "source": [
    "ncomp = 1\n",
    "xdim = 1\n",
    "\n",
    "model = ApproxTruncation(xdim=xdim, num_component_input=ncomp, num_component_output=ncomp)\n",
    "model = torch.load('params/truncNNdim1-1to1.pth')"
   ]
  },
  {
   "cell_type": "code",
   "execution_count": 90,
   "metadata": {
    "id": "Z16G_Ll5UpH9"
   },
   "outputs": [
    {
     "name": "stdout",
     "output_type": "stream",
     "text": [
      "Test params: tensor([1.]) tensor([[6.1747]]) tensor([[[0.8025]]])\n",
      "Pred params: tensor([1.], grad_fn=<DivBackward0>) tensor([[18.9858]], grad_fn=<ViewBackward0>) tensor([[2.0688e-05]], grad_fn=<ViewBackward0>)\n"
     ]
    }
   ],
   "source": [
    "test_weights = torch.rand(ncomp)\n",
    "test_weights = test_weights / test_weights.sum()  # Normalize to sum to 1\n",
    "test_means = torch.empty(ncomp, xdim).uniform_(0, 10)\n",
    "test_covariances = torch.empty(ncomp, xdim, xdim).uniform_(EPS, 5)\n",
    "\n",
    "test_params = torch.hstack((test_weights, test_means.flatten(), test_covariances.flatten()))\n",
    "\n",
    "pi_pred, mu_pred, sigma_pred = model(test_params)\n",
    "\n",
    "print('Test params:', test_weights, test_means, test_covariances)\n",
    "print('Pred params:', pi_pred, mu_pred, sigma_pred)"
   ]
  },
  {
   "cell_type": "code",
   "execution_count": 91,
   "metadata": {},
   "outputs": [
    {
     "data": {
      "text/plain": [
       "(1.0, array([6.17472601]), array([[0.8024537]]))"
      ]
     },
     "execution_count": 91,
     "metadata": {},
     "output_type": "execute_result"
    }
   ],
   "source": [
    "import libSOGA\n",
    "\n",
    "soga_dist = libSOGA.Dist(['x'], libSOGA.GaussianMix(np.array([1.]), [np.array(test_means[0])], [np.array(test_covariances[0])]))\n",
    "_, new_soga_dist = libSOGA.truncate(soga_dist, 'x>0', {})\n",
    "\n",
    "soga_w = new_soga_dist.gm.pi[0]\n",
    "soga_mean = new_soga_dist.gm.mu[0]\n",
    "soga_cov = new_soga_dist.gm.sigma[0]\n",
    "\n",
    "soga_w, soga_mean, soga_cov"
   ]
  },
  {
   "cell_type": "code",
   "execution_count": 92,
   "metadata": {
    "colab": {
     "base_uri": "https://localhost:8080/",
     "height": 615
    },
    "id": "6inaOo-DNr2a",
    "outputId": "a79af969-b31f-465b-de82-2f439645d2c2"
   },
   "outputs": [
    {
     "data": {
      "text/plain": [
       "<matplotlib.legend.Legend at 0x262d4cfa1d0>"
      ]
     },
     "execution_count": 92,
     "metadata": {},
     "output_type": "execute_result"
    },
    {
     "data": {
      "image/png": "[encoded data removed]",
      "text/plain": [
       "<Figure size 640x480 with 1 Axes>"
      ]
     },
     "metadata": {},
     "output_type": "display_data"
    }
   ],
   "source": [
    "from scipy.stats import truncnorm\n",
    "from scipy.stats import norm\n",
    "\n",
    "# Plotting\n",
    "x = GRID.numpy()\n",
    "\n",
    "loc = test_means[0]\n",
    "scale = np.sqrt(test_covariances[0])\n",
    "a = -loc/scale\n",
    "b = np.inf\n",
    "\n",
    "y_trunc = truncnorm.pdf(x, a, b, loc, scale).reshape(x.shape)\n",
    "y_soga = norm.pdf(x, soga_mean, np.sqrt(soga_cov)).reshape(x.shape)\n",
    "y_nn = norm.pdf(x, mu_pred.detach().numpy(), np.sqrt(sigma_pred.detach().numpy())).reshape(x.shape)\n",
    "\n",
    "plt.plot(x, y_trunc, label='truncated density')\n",
    "#plt.plot(x, y_soga, label='SOGA')\n",
    "plt.plot(x, y_nn, label='NN')\n",
    "\n",
    "plt.legend()"
   ]
  },
  {
   "cell_type": "code",
   "execution_count": null,
   "metadata": {},
   "outputs": [],
   "source": []
  }
 ],
 "metadata": {
  "colab": {
   "provenance": []
  },
  "kernelspec": {
   "display_name": "Python 3 (ipykernel)",
   "language": "python",
   "name": "python3"
  },
  "language_info": {
   "codemirror_mode": {
    "name": "ipython",
    "version": 3
   },
   "file_extension": ".py",
   "mimetype": "text/x-python",
   "name": "python",
   "nbconvert_exporter": "python",
   "pygments_lexer": "ipython3",
   "version": "3.11.5"
  }
 },
 "nbformat": 4,
 "nbformat_minor": 4
}
